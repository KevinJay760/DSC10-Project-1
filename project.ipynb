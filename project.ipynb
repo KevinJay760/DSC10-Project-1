{
 "cells": [
  {
   "cell_type": "markdown",
   "metadata": {},
   "source": [
    "# Project 1: California\n",
    "\n",
    "\n",
    "## Due Sunday, April 26 at 11:59pm\n",
    "\n",
    "Please complete this notebook by filling in the cells provided. Before you begin, execute the following cell to load the provided tests."
   ]
  },
  {
   "cell_type": "code",
   "execution_count": 571,
   "metadata": {},
   "outputs": [
    {
     "name": "stdout",
     "output_type": "stream",
     "text": [
      "=====================================================================\n",
      "Assignment: Project 1\n",
      "OK, version v1.14.18\n",
      "=====================================================================\n",
      "\n",
      "Successfully logged in as kjay@ucsd.edu\n"
     ]
    }
   ],
   "source": [
    "# Don't change this cell; just run it\n",
    "import numpy as np\n",
    "import babypandas as bpd\n",
    "\n",
    "import matplotlib.pyplot as plt\n",
    "%matplotlib inline\n",
    "plt.style.use('fivethirtyeight')\n",
    "\n",
    "from client.api.notebook import Notebook\n",
    "ok = Notebook('project.ok')\n",
    "_ = ok.auth(inline=True)"
   ]
  },
  {
   "cell_type": "markdown",
   "metadata": {},
   "source": [
    "In this project we'll explore some data about California. The project is a little longer than a homework, but the questions may require you to **\"put the pieces together\"** more than a typical homework question. You may have to perform several steps to answer a question. Remember that you can always save intermediate results!\n",
    "\n",
    "The datasets in this project consist of real-world data, cleaned slighty for ease of use. As such, there are occasional anomalies that you'll have to look out for and handle specially. You are encouraged to ask your own questions and try to answer them using these datasets!\n",
    "\n",
    "### Logistics\n",
    "\n",
    "**Deadline.** This project is due at **11:59pm on Sunday April 26th**. It's much better to be early than late, so start working now.\n",
    "\n",
    "**Plotting Questions**: The plots for the project are **optional** and ungraded, meaning you do **not** need to submit a PDF of this notebook to Gradescope. Hoewever, the plotting questions are good practice for the midterm.\n",
    "\n",
    "**Partners.** You may work with one other partner; only one of you is required to submit the project. On okpy.org, the person who submits should also designate their partner so that both of you receive credit.\n",
    "\n",
    "**Rules.** Don't share your code with anybody but your partner. You are welcome to discuss questions with other students, but don't share the answers or code. The experience of solving the problems in this project will prepare you for exams (and life). If someone asks you for the answer, resist! Instead, you can demonstrate how you would solve a similar problem.\n",
    "\n",
    "**Support.** You are not alone! Come to office hours, post on Campuswire, and talk to your classmates. If you want to ask about the details of your solution to a problem, make a private Campuswire post and the staff will respond. If you're ever feeling overwhelmed or don't know how to make progress, send a private Campuswire post to instructors for help.\n",
    "\n",
    "**Tests.** The tests that are given are not comprehensive and passing the tests for a question does not mean that you answered the question correctly. Tests usually only check that your table has the correct column labels. However, more tests will be applied to verify the correctness of your submission in order to assign your final score, so be careful and check your work!\n",
    "\n",
    "**Advice.** Develop your answers incrementally. To perform a complicated table manipulation, break it up into steps, perform each step on a different line, give a new name to each result, and check that each intermediate result is what you expect. You can add any additional names or functions you want to the provided cells. Make sure that you are using distinct and meaningful variable names throughout the notebook. Along that line, DO NOT reuse the variable names that we use when we grade your answers, otherwise there is the chance that our tests will grade against a variable that's not what you intened (especially if you run the notebook out of order!).\n",
    "\n",
    "You never have to use just one line in this project or any others. Use intermediate variables and multiple lines as much as you would like!"
   ]
  },
  {
   "cell_type": "markdown",
   "metadata": {},
   "source": [
    "## 1. California Climates\n",
    "\n",
    "<img src=\"./jtree.jpg\"/>\n",
    "\n",
    "California consists of many different climates -- from the southern deserts to the alpine conditions in the High Sierra. We'll start by getting a sense of what Californian land is like."
   ]
  },
  {
   "cell_type": "markdown",
   "metadata": {},
   "source": [
    "**Question 1.1.** The file `data/landtype.csv` contains information from the US Geological Survey on land type for the entire United States. Read it into a DataFrame named `us_land`."
   ]
  },
  {
   "cell_type": "code",
   "execution_count": 749,
   "metadata": {},
   "outputs": [
    {
     "data": {
      "text/html": [
       "<div>\n",
       "<style scoped>\n",
       "    .dataframe tbody tr th:only-of-type {\n",
       "        vertical-align: middle;\n",
       "    }\n",
       "\n",
       "    .dataframe tbody tr th {\n",
       "        vertical-align: top;\n",
       "    }\n",
       "\n",
       "    .dataframe thead th {\n",
       "        text-align: right;\n",
       "    }\n",
       "</style>\n",
       "<table border=\"1\" class=\"dataframe\">\n",
       "  <thead>\n",
       "    <tr style=\"text-align: right;\">\n",
       "      <th></th>\n",
       "      <th>intStCode</th>\n",
       "      <th>strStName</th>\n",
       "      <th>intClassCode</th>\n",
       "      <th>strClassName</th>\n",
       "      <th>strFormCode</th>\n",
       "      <th>strFormName</th>\n",
       "      <th>strMacroCode</th>\n",
       "      <th>strMacroName</th>\n",
       "      <th>intEcoSysCode</th>\n",
       "      <th>strEcoSysName</th>\n",
       "      <th>intAcres</th>\n",
       "      <th>intSqMiles</th>\n",
       "    </tr>\n",
       "  </thead>\n",
       "  <tbody>\n",
       "    <tr>\n",
       "      <th>0</th>\n",
       "      <td>12</td>\n",
       "      <td>Florida</td>\n",
       "      <td>1</td>\n",
       "      <td>Forest &amp; Woodland</td>\n",
       "      <td>1.A.1</td>\n",
       "      <td>Tropical Dry Forest &amp; Woodland</td>\n",
       "      <td>M134</td>\n",
       "      <td>Caribbean Coastal Lowland Dry Forest</td>\n",
       "      <td>4132</td>\n",
       "      <td>South Florida Hardwood Hammock</td>\n",
       "      <td>1851.881860</td>\n",
       "      <td>2.893565</td>\n",
       "    </tr>\n",
       "    <tr>\n",
       "      <th>1</th>\n",
       "      <td>12</td>\n",
       "      <td>Florida</td>\n",
       "      <td>1</td>\n",
       "      <td>Forest &amp; Woodland</td>\n",
       "      <td>1.A.1</td>\n",
       "      <td>Tropical Dry Forest &amp; Woodland</td>\n",
       "      <td>M134</td>\n",
       "      <td>Caribbean Coastal Lowland Dry Forest</td>\n",
       "      <td>4135</td>\n",
       "      <td>Southeast Florida Coastal Strand and Maritime ...</td>\n",
       "      <td>5386.180710</td>\n",
       "      <td>8.415907</td>\n",
       "    </tr>\n",
       "    <tr>\n",
       "      <th>2</th>\n",
       "      <td>12</td>\n",
       "      <td>Florida</td>\n",
       "      <td>1</td>\n",
       "      <td>Forest &amp; Woodland</td>\n",
       "      <td>1.A.1</td>\n",
       "      <td>Tropical Dry Forest &amp; Woodland</td>\n",
       "      <td>M134</td>\n",
       "      <td>Caribbean Coastal Lowland Dry Forest</td>\n",
       "      <td>4134</td>\n",
       "      <td>Southwest Florida Coastal Strand and Maritime ...</td>\n",
       "      <td>401.867482</td>\n",
       "      <td>0.627918</td>\n",
       "    </tr>\n",
       "    <tr>\n",
       "      <th>3</th>\n",
       "      <td>12</td>\n",
       "      <td>Florida</td>\n",
       "      <td>1</td>\n",
       "      <td>Forest &amp; Woodland</td>\n",
       "      <td>1.A.4</td>\n",
       "      <td>Tropical Flooded &amp; Swamp Forest</td>\n",
       "      <td>M617</td>\n",
       "      <td>Caribbean Swamp</td>\n",
       "      <td>9238</td>\n",
       "      <td>South Florida Bayhead Swamp</td>\n",
       "      <td>84991.747692</td>\n",
       "      <td>132.799606</td>\n",
       "    </tr>\n",
       "    <tr>\n",
       "      <th>4</th>\n",
       "      <td>12</td>\n",
       "      <td>Florida</td>\n",
       "      <td>1</td>\n",
       "      <td>Forest &amp; Woodland</td>\n",
       "      <td>1.A.4</td>\n",
       "      <td>Tropical Flooded &amp; Swamp Forest</td>\n",
       "      <td>M617</td>\n",
       "      <td>Caribbean Swamp</td>\n",
       "      <td>9702</td>\n",
       "      <td>South Florida Cypress Dome</td>\n",
       "      <td>217214.377840</td>\n",
       "      <td>339.397465</td>\n",
       "    </tr>\n",
       "    <tr>\n",
       "      <th>...</th>\n",
       "      <td>...</td>\n",
       "      <td>...</td>\n",
       "      <td>...</td>\n",
       "      <td>...</td>\n",
       "      <td>...</td>\n",
       "      <td>...</td>\n",
       "      <td>...</td>\n",
       "      <td>...</td>\n",
       "      <td>...</td>\n",
       "      <td>...</td>\n",
       "      <td>...</td>\n",
       "      <td>...</td>\n",
       "    </tr>\n",
       "    <tr>\n",
       "      <th>3816</th>\n",
       "      <td>50</td>\n",
       "      <td>Vermont</td>\n",
       "      <td>12</td>\n",
       "      <td>Nonvascular &amp; Sparse Vascular Rock Vegetation</td>\n",
       "      <td>12.A</td>\n",
       "      <td>Barren</td>\n",
       "      <td>12.A</td>\n",
       "      <td>Barren</td>\n",
       "      <td>3105</td>\n",
       "      <td>Undifferentiated Barren Land</td>\n",
       "      <td>8745.454819</td>\n",
       "      <td>13.664773</td>\n",
       "    </tr>\n",
       "    <tr>\n",
       "      <th>3817</th>\n",
       "      <td>25</td>\n",
       "      <td>Massachusetts</td>\n",
       "      <td>12</td>\n",
       "      <td>Nonvascular &amp; Sparse Vascular Rock Vegetation</td>\n",
       "      <td>12.A</td>\n",
       "      <td>Barren</td>\n",
       "      <td>12.A</td>\n",
       "      <td>Barren</td>\n",
       "      <td>3105</td>\n",
       "      <td>Undifferentiated Barren Land</td>\n",
       "      <td>46742.058590</td>\n",
       "      <td>73.034467</td>\n",
       "    </tr>\n",
       "    <tr>\n",
       "      <th>3818</th>\n",
       "      <td>48</td>\n",
       "      <td>Texas</td>\n",
       "      <td>12</td>\n",
       "      <td>Nonvascular &amp; Sparse Vascular Rock Vegetation</td>\n",
       "      <td>12.A</td>\n",
       "      <td>Barren</td>\n",
       "      <td>12.A</td>\n",
       "      <td>Barren</td>\n",
       "      <td>3105</td>\n",
       "      <td>Undifferentiated Barren Land</td>\n",
       "      <td>27436.184636</td>\n",
       "      <td>42.869038</td>\n",
       "    </tr>\n",
       "    <tr>\n",
       "      <th>3819</th>\n",
       "      <td>41</td>\n",
       "      <td>Oregon</td>\n",
       "      <td>12</td>\n",
       "      <td>Nonvascular &amp; Sparse Vascular Rock Vegetation</td>\n",
       "      <td>12.A</td>\n",
       "      <td>Barren</td>\n",
       "      <td>12.A</td>\n",
       "      <td>Barren</td>\n",
       "      <td>3105</td>\n",
       "      <td>Undifferentiated Barren Land</td>\n",
       "      <td>6.227056</td>\n",
       "      <td>0.009730</td>\n",
       "    </tr>\n",
       "    <tr>\n",
       "      <th>3820</th>\n",
       "      <td>4</td>\n",
       "      <td>Arizona</td>\n",
       "      <td>12</td>\n",
       "      <td>Nonvascular &amp; Sparse Vascular Rock Vegetation</td>\n",
       "      <td>12.A</td>\n",
       "      <td>Barren</td>\n",
       "      <td>12.A</td>\n",
       "      <td>Barren</td>\n",
       "      <td>3105</td>\n",
       "      <td>Undifferentiated Barren Land</td>\n",
       "      <td>299586.981462</td>\n",
       "      <td>468.104659</td>\n",
       "    </tr>\n",
       "  </tbody>\n",
       "</table>\n",
       "<p>3821 rows × 12 columns</p>\n",
       "</div>"
      ],
      "text/plain": [
       "      intStCode      strStName  intClassCode  \\\n",
       "0            12        Florida             1   \n",
       "1            12        Florida             1   \n",
       "2            12        Florida             1   \n",
       "3            12        Florida             1   \n",
       "4            12        Florida             1   \n",
       "...         ...            ...           ...   \n",
       "3816         50        Vermont            12   \n",
       "3817         25  Massachusetts            12   \n",
       "3818         48          Texas            12   \n",
       "3819         41         Oregon            12   \n",
       "3820          4        Arizona            12   \n",
       "\n",
       "                                       strClassName strFormCode  \\\n",
       "0                                 Forest & Woodland       1.A.1   \n",
       "1                                 Forest & Woodland       1.A.1   \n",
       "2                                 Forest & Woodland       1.A.1   \n",
       "3                                 Forest & Woodland       1.A.4   \n",
       "4                                 Forest & Woodland       1.A.4   \n",
       "...                                             ...         ...   \n",
       "3816  Nonvascular & Sparse Vascular Rock Vegetation        12.A   \n",
       "3817  Nonvascular & Sparse Vascular Rock Vegetation        12.A   \n",
       "3818  Nonvascular & Sparse Vascular Rock Vegetation        12.A   \n",
       "3819  Nonvascular & Sparse Vascular Rock Vegetation        12.A   \n",
       "3820  Nonvascular & Sparse Vascular Rock Vegetation        12.A   \n",
       "\n",
       "                          strFormName strMacroCode  \\\n",
       "0      Tropical Dry Forest & Woodland         M134   \n",
       "1      Tropical Dry Forest & Woodland         M134   \n",
       "2      Tropical Dry Forest & Woodland         M134   \n",
       "3     Tropical Flooded & Swamp Forest         M617   \n",
       "4     Tropical Flooded & Swamp Forest         M617   \n",
       "...                               ...          ...   \n",
       "3816                           Barren         12.A   \n",
       "3817                           Barren         12.A   \n",
       "3818                           Barren         12.A   \n",
       "3819                           Barren         12.A   \n",
       "3820                           Barren         12.A   \n",
       "\n",
       "                              strMacroName  intEcoSysCode  \\\n",
       "0     Caribbean Coastal Lowland Dry Forest           4132   \n",
       "1     Caribbean Coastal Lowland Dry Forest           4135   \n",
       "2     Caribbean Coastal Lowland Dry Forest           4134   \n",
       "3                          Caribbean Swamp           9238   \n",
       "4                          Caribbean Swamp           9702   \n",
       "...                                    ...            ...   \n",
       "3816                                Barren           3105   \n",
       "3817                                Barren           3105   \n",
       "3818                                Barren           3105   \n",
       "3819                                Barren           3105   \n",
       "3820                                Barren           3105   \n",
       "\n",
       "                                          strEcoSysName       intAcres  \\\n",
       "0                        South Florida Hardwood Hammock    1851.881860   \n",
       "1     Southeast Florida Coastal Strand and Maritime ...    5386.180710   \n",
       "2     Southwest Florida Coastal Strand and Maritime ...     401.867482   \n",
       "3                           South Florida Bayhead Swamp   84991.747692   \n",
       "4                            South Florida Cypress Dome  217214.377840   \n",
       "...                                                 ...            ...   \n",
       "3816                       Undifferentiated Barren Land    8745.454819   \n",
       "3817                       Undifferentiated Barren Land   46742.058590   \n",
       "3818                       Undifferentiated Barren Land   27436.184636   \n",
       "3819                       Undifferentiated Barren Land       6.227056   \n",
       "3820                       Undifferentiated Barren Land  299586.981462   \n",
       "\n",
       "      intSqMiles  \n",
       "0       2.893565  \n",
       "1       8.415907  \n",
       "2       0.627918  \n",
       "3     132.799606  \n",
       "4     339.397465  \n",
       "...          ...  \n",
       "3816   13.664773  \n",
       "3817   73.034467  \n",
       "3818   42.869038  \n",
       "3819    0.009730  \n",
       "3820  468.104659  \n",
       "\n",
       "[3821 rows x 12 columns]"
      ]
     },
     "execution_count": 749,
     "metadata": {},
     "output_type": "execute_result"
    }
   ],
   "source": [
    "#... us_land\n",
    "us_land = bpd.read_csv('data/landtype.csv')\n",
    "us_land"
   ]
  },
  {
   "cell_type": "code",
   "execution_count": 573,
   "metadata": {},
   "outputs": [
    {
     "name": "stdout",
     "output_type": "stream",
     "text": [
      "~~~~~~~~~~~~~~~~~~~~~~~~~~~~~~~~~~~~~~~~~~~~~~~~~~~~~~~~~~~~~~~~~~~~~\n",
      "Running tests\n",
      "\n",
      "---------------------------------------------------------------------\n",
      "Test summary\n",
      "    Passed: 1\n",
      "    Failed: 0\n",
      "[ooooooooook] 100.0% passed\n",
      "\n"
     ]
    }
   ],
   "source": [
    "_ = ok.grade('q1_1')"
   ]
  },
  {
   "cell_type": "markdown",
   "metadata": {},
   "source": [
    "The USGS breaks the United States into 3821 regions; each row in the table contains information about one region. Out of the table's 12 columns, the important ones are:\n",
    "\n",
    "<table>\n",
    "    <tr>\n",
    "        <th>Column Name</th>\n",
    "        <th>Description</th>\n",
    "    </tr>\n",
    "    <tr>\n",
    "        <td>strStName</td>\n",
    "        <td>state name</td>\n",
    "    </tr>\n",
    "    <tr>\n",
    "        <td>strClassName</td>\n",
    "        <td>land class</td>\n",
    "    </tr>\n",
    "    <tr>\n",
    "        <td>strEcoSysName</td>\n",
    "        <td>ecological system</td>\n",
    "    </tr>\n",
    "    <tr>\n",
    "        <td>intSqMiles</td>\n",
    "        <td>size in square miles</td>\n",
    "    </tr>\n",
    "</table>"
   ]
  },
  {
   "cell_type": "markdown",
   "metadata": {},
   "source": [
    "**Question 1.2.** To make the data easier to work with, let's keep only the columns listed above and give them better names. Create a new DataFrame named `us_land_renamed` which contains four columns: \"State\", \"Class\", \"EcologicalSystem\", and \"SquareMiles\", containing the state name, land type, ecological system, and size of each region, respectively."
   ]
  },
  {
   "cell_type": "code",
   "execution_count": 574,
   "metadata": {},
   "outputs": [],
   "source": [
    "a=us_land.get('intSqMiles')\n",
    "b=us_land.get('strStName')\n",
    "c=us_land.get('strEcoSysName')\n",
    "d=us_land.get('strClassName')"
   ]
  },
  {
   "cell_type": "code",
   "execution_count": 575,
   "metadata": {},
   "outputs": [
    {
     "data": {
      "text/html": [
       "<div>\n",
       "<style scoped>\n",
       "    .dataframe tbody tr th:only-of-type {\n",
       "        vertical-align: middle;\n",
       "    }\n",
       "\n",
       "    .dataframe tbody tr th {\n",
       "        vertical-align: top;\n",
       "    }\n",
       "\n",
       "    .dataframe thead th {\n",
       "        text-align: right;\n",
       "    }\n",
       "</style>\n",
       "<table border=\"1\" class=\"dataframe\">\n",
       "  <thead>\n",
       "    <tr style=\"text-align: right;\">\n",
       "      <th></th>\n",
       "      <th>State</th>\n",
       "      <th>Class</th>\n",
       "      <th>EcologicalSystem</th>\n",
       "      <th>SquareMiles</th>\n",
       "    </tr>\n",
       "  </thead>\n",
       "  <tbody>\n",
       "    <tr>\n",
       "      <th>0</th>\n",
       "      <td>Florida</td>\n",
       "      <td>Forest &amp; Woodland</td>\n",
       "      <td>South Florida Hardwood Hammock</td>\n",
       "      <td>2.893565</td>\n",
       "    </tr>\n",
       "    <tr>\n",
       "      <th>1</th>\n",
       "      <td>Florida</td>\n",
       "      <td>Forest &amp; Woodland</td>\n",
       "      <td>Southeast Florida Coastal Strand and Maritime ...</td>\n",
       "      <td>8.415907</td>\n",
       "    </tr>\n",
       "    <tr>\n",
       "      <th>2</th>\n",
       "      <td>Florida</td>\n",
       "      <td>Forest &amp; Woodland</td>\n",
       "      <td>Southwest Florida Coastal Strand and Maritime ...</td>\n",
       "      <td>0.627918</td>\n",
       "    </tr>\n",
       "    <tr>\n",
       "      <th>3</th>\n",
       "      <td>Florida</td>\n",
       "      <td>Forest &amp; Woodland</td>\n",
       "      <td>South Florida Bayhead Swamp</td>\n",
       "      <td>132.799606</td>\n",
       "    </tr>\n",
       "    <tr>\n",
       "      <th>4</th>\n",
       "      <td>Florida</td>\n",
       "      <td>Forest &amp; Woodland</td>\n",
       "      <td>South Florida Cypress Dome</td>\n",
       "      <td>339.397465</td>\n",
       "    </tr>\n",
       "    <tr>\n",
       "      <th>...</th>\n",
       "      <td>...</td>\n",
       "      <td>...</td>\n",
       "      <td>...</td>\n",
       "      <td>...</td>\n",
       "    </tr>\n",
       "    <tr>\n",
       "      <th>3816</th>\n",
       "      <td>Vermont</td>\n",
       "      <td>Nonvascular &amp; Sparse Vascular Rock Vegetation</td>\n",
       "      <td>Undifferentiated Barren Land</td>\n",
       "      <td>13.664773</td>\n",
       "    </tr>\n",
       "    <tr>\n",
       "      <th>3817</th>\n",
       "      <td>Massachusetts</td>\n",
       "      <td>Nonvascular &amp; Sparse Vascular Rock Vegetation</td>\n",
       "      <td>Undifferentiated Barren Land</td>\n",
       "      <td>73.034467</td>\n",
       "    </tr>\n",
       "    <tr>\n",
       "      <th>3818</th>\n",
       "      <td>Texas</td>\n",
       "      <td>Nonvascular &amp; Sparse Vascular Rock Vegetation</td>\n",
       "      <td>Undifferentiated Barren Land</td>\n",
       "      <td>42.869038</td>\n",
       "    </tr>\n",
       "    <tr>\n",
       "      <th>3819</th>\n",
       "      <td>Oregon</td>\n",
       "      <td>Nonvascular &amp; Sparse Vascular Rock Vegetation</td>\n",
       "      <td>Undifferentiated Barren Land</td>\n",
       "      <td>0.009730</td>\n",
       "    </tr>\n",
       "    <tr>\n",
       "      <th>3820</th>\n",
       "      <td>Arizona</td>\n",
       "      <td>Nonvascular &amp; Sparse Vascular Rock Vegetation</td>\n",
       "      <td>Undifferentiated Barren Land</td>\n",
       "      <td>468.104659</td>\n",
       "    </tr>\n",
       "  </tbody>\n",
       "</table>\n",
       "<p>3821 rows × 4 columns</p>\n",
       "</div>"
      ],
      "text/plain": [
       "              State                                          Class  \\\n",
       "0           Florida                              Forest & Woodland   \n",
       "1           Florida                              Forest & Woodland   \n",
       "2           Florida                              Forest & Woodland   \n",
       "3           Florida                              Forest & Woodland   \n",
       "4           Florida                              Forest & Woodland   \n",
       "...             ...                                            ...   \n",
       "3816        Vermont  Nonvascular & Sparse Vascular Rock Vegetation   \n",
       "3817  Massachusetts  Nonvascular & Sparse Vascular Rock Vegetation   \n",
       "3818          Texas  Nonvascular & Sparse Vascular Rock Vegetation   \n",
       "3819         Oregon  Nonvascular & Sparse Vascular Rock Vegetation   \n",
       "3820        Arizona  Nonvascular & Sparse Vascular Rock Vegetation   \n",
       "\n",
       "                                       EcologicalSystem  SquareMiles  \n",
       "0                        South Florida Hardwood Hammock     2.893565  \n",
       "1     Southeast Florida Coastal Strand and Maritime ...     8.415907  \n",
       "2     Southwest Florida Coastal Strand and Maritime ...     0.627918  \n",
       "3                           South Florida Bayhead Swamp   132.799606  \n",
       "4                            South Florida Cypress Dome   339.397465  \n",
       "...                                                 ...          ...  \n",
       "3816                       Undifferentiated Barren Land    13.664773  \n",
       "3817                       Undifferentiated Barren Land    73.034467  \n",
       "3818                       Undifferentiated Barren Land    42.869038  \n",
       "3819                       Undifferentiated Barren Land     0.009730  \n",
       "3820                       Undifferentiated Barren Land   468.104659  \n",
       "\n",
       "[3821 rows x 4 columns]"
      ]
     },
     "execution_count": 575,
     "metadata": {},
     "output_type": "execute_result"
    }
   ],
   "source": [
    "#... us_land_renamed\n",
    "us_land_renamed = bpd.DataFrame().assign(State = b, Class = d, EcologicalSystem = c, SquareMiles = a)\n",
    "us_land_renamed"
   ]
  },
  {
   "cell_type": "code",
   "execution_count": 576,
   "metadata": {},
   "outputs": [
    {
     "name": "stdout",
     "output_type": "stream",
     "text": [
      "~~~~~~~~~~~~~~~~~~~~~~~~~~~~~~~~~~~~~~~~~~~~~~~~~~~~~~~~~~~~~~~~~~~~~\n",
      "Running tests\n",
      "\n",
      "---------------------------------------------------------------------\n",
      "Test summary\n",
      "    Passed: 1\n",
      "    Failed: 0\n",
      "[ooooooooook] 100.0% passed\n",
      "\n"
     ]
    }
   ],
   "source": [
    "_ = ok.grade('q1_2')"
   ]
  },
  {
   "cell_type": "markdown",
   "metadata": {},
   "source": [
    "**Question 1.3.** We only care about California! Create a table called `ca_land` which contains only the regions in California. Furthermore, remove the \"State\" column, since it is no longer informative."
   ]
  },
  {
   "cell_type": "code",
   "execution_count": 577,
   "metadata": {},
   "outputs": [
    {
     "data": {
      "text/html": [
       "<div>\n",
       "<style scoped>\n",
       "    .dataframe tbody tr th:only-of-type {\n",
       "        vertical-align: middle;\n",
       "    }\n",
       "\n",
       "    .dataframe tbody tr th {\n",
       "        vertical-align: top;\n",
       "    }\n",
       "\n",
       "    .dataframe thead th {\n",
       "        text-align: right;\n",
       "    }\n",
       "</style>\n",
       "<table border=\"1\" class=\"dataframe\">\n",
       "  <thead>\n",
       "    <tr style=\"text-align: right;\">\n",
       "      <th></th>\n",
       "      <th>Class</th>\n",
       "      <th>EcologicalSystem</th>\n",
       "      <th>SquareMiles</th>\n",
       "    </tr>\n",
       "  </thead>\n",
       "  <tbody>\n",
       "    <tr>\n",
       "      <th>52</th>\n",
       "      <td>Forest &amp; Woodland</td>\n",
       "      <td>East Gulf Coastal Plain Near-Coast Pine Flatwo...</td>\n",
       "      <td>0.032664</td>\n",
       "    </tr>\n",
       "    <tr>\n",
       "      <th>126</th>\n",
       "      <td>Forest &amp; Woodland</td>\n",
       "      <td>California Central Valley Mixed Oak Savanna</td>\n",
       "      <td>4350.262403</td>\n",
       "    </tr>\n",
       "    <tr>\n",
       "      <th>128</th>\n",
       "      <td>Forest &amp; Woodland</td>\n",
       "      <td>California Coastal Closed-Cone Conifer Forest ...</td>\n",
       "      <td>85.943097</td>\n",
       "    </tr>\n",
       "    <tr>\n",
       "      <th>131</th>\n",
       "      <td>Forest &amp; Woodland</td>\n",
       "      <td>California Coastal Live Oak Woodland and Savanna</td>\n",
       "      <td>1726.148156</td>\n",
       "    </tr>\n",
       "    <tr>\n",
       "      <th>133</th>\n",
       "      <td>Forest &amp; Woodland</td>\n",
       "      <td>California Lower Montane Blue Oak-Foothill Pin...</td>\n",
       "      <td>6587.099312</td>\n",
       "    </tr>\n",
       "    <tr>\n",
       "      <th>...</th>\n",
       "      <td>...</td>\n",
       "      <td>...</td>\n",
       "      <td>...</td>\n",
       "    </tr>\n",
       "    <tr>\n",
       "      <th>3685</th>\n",
       "      <td>Open Water</td>\n",
       "      <td>Open Water (Brackish/Salt)</td>\n",
       "      <td>5165.944140</td>\n",
       "    </tr>\n",
       "    <tr>\n",
       "      <th>3737</th>\n",
       "      <td>Open Water</td>\n",
       "      <td>Open Water (Fresh)</td>\n",
       "      <td>2000.243893</td>\n",
       "    </tr>\n",
       "    <tr>\n",
       "      <th>3749</th>\n",
       "      <td>Nonvascular &amp; Sparse Vascular Rock Vegetation</td>\n",
       "      <td>North American Alpine Ice Field</td>\n",
       "      <td>3.076346</td>\n",
       "    </tr>\n",
       "    <tr>\n",
       "      <th>3766</th>\n",
       "      <td>Nonvascular &amp; Sparse Vascular Rock Vegetation</td>\n",
       "      <td>Unconsolidated Shore</td>\n",
       "      <td>50.668495</td>\n",
       "    </tr>\n",
       "    <tr>\n",
       "      <th>3802</th>\n",
       "      <td>Nonvascular &amp; Sparse Vascular Rock Vegetation</td>\n",
       "      <td>Undifferentiated Barren Land</td>\n",
       "      <td>40.070686</td>\n",
       "    </tr>\n",
       "  </tbody>\n",
       "</table>\n",
       "<p>175 rows × 3 columns</p>\n",
       "</div>"
      ],
      "text/plain": [
       "                                              Class  \\\n",
       "52                                Forest & Woodland   \n",
       "126                               Forest & Woodland   \n",
       "128                               Forest & Woodland   \n",
       "131                               Forest & Woodland   \n",
       "133                               Forest & Woodland   \n",
       "...                                             ...   \n",
       "3685                                     Open Water   \n",
       "3737                                     Open Water   \n",
       "3749  Nonvascular & Sparse Vascular Rock Vegetation   \n",
       "3766  Nonvascular & Sparse Vascular Rock Vegetation   \n",
       "3802  Nonvascular & Sparse Vascular Rock Vegetation   \n",
       "\n",
       "                                       EcologicalSystem  SquareMiles  \n",
       "52    East Gulf Coastal Plain Near-Coast Pine Flatwo...     0.032664  \n",
       "126         California Central Valley Mixed Oak Savanna  4350.262403  \n",
       "128   California Coastal Closed-Cone Conifer Forest ...    85.943097  \n",
       "131    California Coastal Live Oak Woodland and Savanna  1726.148156  \n",
       "133   California Lower Montane Blue Oak-Foothill Pin...  6587.099312  \n",
       "...                                                 ...          ...  \n",
       "3685                         Open Water (Brackish/Salt)  5165.944140  \n",
       "3737                                 Open Water (Fresh)  2000.243893  \n",
       "3749                    North American Alpine Ice Field     3.076346  \n",
       "3766                               Unconsolidated Shore    50.668495  \n",
       "3802                       Undifferentiated Barren Land    40.070686  \n",
       "\n",
       "[175 rows x 3 columns]"
      ]
     },
     "execution_count": 577,
     "metadata": {},
     "output_type": "execute_result"
    }
   ],
   "source": [
    "california_table = us_land_renamed[us_land_renamed.get('State') == 'California']\n",
    "california_table_dropped = california_table.drop(columns='State')\n",
    "california_table_dropped"
   ]
  },
  {
   "cell_type": "code",
   "execution_count": 578,
   "metadata": {},
   "outputs": [
    {
     "data": {
      "text/html": [
       "<div>\n",
       "<style scoped>\n",
       "    .dataframe tbody tr th:only-of-type {\n",
       "        vertical-align: middle;\n",
       "    }\n",
       "\n",
       "    .dataframe tbody tr th {\n",
       "        vertical-align: top;\n",
       "    }\n",
       "\n",
       "    .dataframe thead th {\n",
       "        text-align: right;\n",
       "    }\n",
       "</style>\n",
       "<table border=\"1\" class=\"dataframe\">\n",
       "  <thead>\n",
       "    <tr style=\"text-align: right;\">\n",
       "      <th></th>\n",
       "      <th>Class</th>\n",
       "      <th>EcologicalSystem</th>\n",
       "      <th>SquareMiles</th>\n",
       "    </tr>\n",
       "  </thead>\n",
       "  <tbody>\n",
       "    <tr>\n",
       "      <th>52</th>\n",
       "      <td>Forest &amp; Woodland</td>\n",
       "      <td>East Gulf Coastal Plain Near-Coast Pine Flatwo...</td>\n",
       "      <td>0.032664</td>\n",
       "    </tr>\n",
       "    <tr>\n",
       "      <th>126</th>\n",
       "      <td>Forest &amp; Woodland</td>\n",
       "      <td>California Central Valley Mixed Oak Savanna</td>\n",
       "      <td>4350.262403</td>\n",
       "    </tr>\n",
       "    <tr>\n",
       "      <th>128</th>\n",
       "      <td>Forest &amp; Woodland</td>\n",
       "      <td>California Coastal Closed-Cone Conifer Forest ...</td>\n",
       "      <td>85.943097</td>\n",
       "    </tr>\n",
       "    <tr>\n",
       "      <th>131</th>\n",
       "      <td>Forest &amp; Woodland</td>\n",
       "      <td>California Coastal Live Oak Woodland and Savanna</td>\n",
       "      <td>1726.148156</td>\n",
       "    </tr>\n",
       "    <tr>\n",
       "      <th>133</th>\n",
       "      <td>Forest &amp; Woodland</td>\n",
       "      <td>California Lower Montane Blue Oak-Foothill Pin...</td>\n",
       "      <td>6587.099312</td>\n",
       "    </tr>\n",
       "    <tr>\n",
       "      <th>...</th>\n",
       "      <td>...</td>\n",
       "      <td>...</td>\n",
       "      <td>...</td>\n",
       "    </tr>\n",
       "    <tr>\n",
       "      <th>3685</th>\n",
       "      <td>Open Water</td>\n",
       "      <td>Open Water (Brackish/Salt)</td>\n",
       "      <td>5165.944140</td>\n",
       "    </tr>\n",
       "    <tr>\n",
       "      <th>3737</th>\n",
       "      <td>Open Water</td>\n",
       "      <td>Open Water (Fresh)</td>\n",
       "      <td>2000.243893</td>\n",
       "    </tr>\n",
       "    <tr>\n",
       "      <th>3749</th>\n",
       "      <td>Nonvascular &amp; Sparse Vascular Rock Vegetation</td>\n",
       "      <td>North American Alpine Ice Field</td>\n",
       "      <td>3.076346</td>\n",
       "    </tr>\n",
       "    <tr>\n",
       "      <th>3766</th>\n",
       "      <td>Nonvascular &amp; Sparse Vascular Rock Vegetation</td>\n",
       "      <td>Unconsolidated Shore</td>\n",
       "      <td>50.668495</td>\n",
       "    </tr>\n",
       "    <tr>\n",
       "      <th>3802</th>\n",
       "      <td>Nonvascular &amp; Sparse Vascular Rock Vegetation</td>\n",
       "      <td>Undifferentiated Barren Land</td>\n",
       "      <td>40.070686</td>\n",
       "    </tr>\n",
       "  </tbody>\n",
       "</table>\n",
       "<p>175 rows × 3 columns</p>\n",
       "</div>"
      ],
      "text/plain": [
       "                                              Class  \\\n",
       "52                                Forest & Woodland   \n",
       "126                               Forest & Woodland   \n",
       "128                               Forest & Woodland   \n",
       "131                               Forest & Woodland   \n",
       "133                               Forest & Woodland   \n",
       "...                                             ...   \n",
       "3685                                     Open Water   \n",
       "3737                                     Open Water   \n",
       "3749  Nonvascular & Sparse Vascular Rock Vegetation   \n",
       "3766  Nonvascular & Sparse Vascular Rock Vegetation   \n",
       "3802  Nonvascular & Sparse Vascular Rock Vegetation   \n",
       "\n",
       "                                       EcologicalSystem  SquareMiles  \n",
       "52    East Gulf Coastal Plain Near-Coast Pine Flatwo...     0.032664  \n",
       "126         California Central Valley Mixed Oak Savanna  4350.262403  \n",
       "128   California Coastal Closed-Cone Conifer Forest ...    85.943097  \n",
       "131    California Coastal Live Oak Woodland and Savanna  1726.148156  \n",
       "133   California Lower Montane Blue Oak-Foothill Pin...  6587.099312  \n",
       "...                                                 ...          ...  \n",
       "3685                         Open Water (Brackish/Salt)  5165.944140  \n",
       "3737                                 Open Water (Fresh)  2000.243893  \n",
       "3749                    North American Alpine Ice Field     3.076346  \n",
       "3766                               Unconsolidated Shore    50.668495  \n",
       "3802                       Undifferentiated Barren Land    40.070686  \n",
       "\n",
       "[175 rows x 3 columns]"
      ]
     },
     "execution_count": 578,
     "metadata": {},
     "output_type": "execute_result"
    }
   ],
   "source": [
    "#... ca_land\n",
    "ca_land = california_table_dropped\n",
    "ca_land"
   ]
  },
  {
   "cell_type": "code",
   "execution_count": 579,
   "metadata": {},
   "outputs": [
    {
     "name": "stdout",
     "output_type": "stream",
     "text": [
      "~~~~~~~~~~~~~~~~~~~~~~~~~~~~~~~~~~~~~~~~~~~~~~~~~~~~~~~~~~~~~~~~~~~~~\n",
      "Running tests\n",
      "\n",
      "---------------------------------------------------------------------\n",
      "Test summary\n",
      "    Passed: 1\n",
      "    Failed: 0\n",
      "[ooooooooook] 100.0% passed\n",
      "\n"
     ]
    }
   ],
   "source": [
    "_ = ok.grade('q1_3')"
   ]
  },
  {
   "cell_type": "markdown",
   "metadata": {},
   "source": [
    "**Question 1.4.** We are interested in how much of California's land is Forest & Woodland, how much is Open Water, and so on. Create a table named `ca_classes` with two columns, \"SquareMiles\" and \"Percentage\", containing the total area in square miles and the total percentage (as a number between 0 and 100) of California that is made up of each land class. The label of each row should be a land class. That is, your table should look like this (but with the `?`s replaced by numbers):\n",
    "\n",
    "<img width=50% src=\"./q1_output.png\"/>"
   ]
  },
  {
   "cell_type": "code",
   "execution_count": 755,
   "metadata": {},
   "outputs": [
    {
     "data": {
      "text/html": [
       "<div>\n",
       "<style scoped>\n",
       "    .dataframe tbody tr th:only-of-type {\n",
       "        vertical-align: middle;\n",
       "    }\n",
       "\n",
       "    .dataframe tbody tr th {\n",
       "        vertical-align: top;\n",
       "    }\n",
       "\n",
       "    .dataframe thead th {\n",
       "        text-align: right;\n",
       "    }\n",
       "</style>\n",
       "<table border=\"1\" class=\"dataframe\">\n",
       "  <thead>\n",
       "    <tr style=\"text-align: right;\">\n",
       "      <th></th>\n",
       "      <th>SquareMiles</th>\n",
       "      <th>Percentage</th>\n",
       "    </tr>\n",
       "    <tr>\n",
       "      <th>Class</th>\n",
       "      <th></th>\n",
       "      <th></th>\n",
       "    </tr>\n",
       "  </thead>\n",
       "  <tbody>\n",
       "    <tr>\n",
       "      <th>Agricultural &amp; Developed Vegetation</th>\n",
       "      <td>16236.702451</td>\n",
       "      <td>0.099504</td>\n",
       "    </tr>\n",
       "    <tr>\n",
       "      <th>Aquatic Vegetation</th>\n",
       "      <td>29.515271</td>\n",
       "      <td>0.000181</td>\n",
       "    </tr>\n",
       "    <tr>\n",
       "      <th>Desert &amp; Semi-Desert</th>\n",
       "      <td>43406.217253</td>\n",
       "      <td>0.266007</td>\n",
       "    </tr>\n",
       "    <tr>\n",
       "      <th>Developed &amp; Other Human Use</th>\n",
       "      <td>11170.230660</td>\n",
       "      <td>0.068455</td>\n",
       "    </tr>\n",
       "    <tr>\n",
       "      <th>Forest &amp; Woodland</th>\n",
       "      <td>53165.885685</td>\n",
       "      <td>0.325817</td>\n",
       "    </tr>\n",
       "    <tr>\n",
       "      <th>...</th>\n",
       "      <td>...</td>\n",
       "      <td>...</td>\n",
       "    </tr>\n",
       "    <tr>\n",
       "      <th>Open Rock Vegetation</th>\n",
       "      <td>265.053649</td>\n",
       "      <td>0.001624</td>\n",
       "    </tr>\n",
       "    <tr>\n",
       "      <th>Open Water</th>\n",
       "      <td>7166.188032</td>\n",
       "      <td>0.043917</td>\n",
       "    </tr>\n",
       "    <tr>\n",
       "      <th>Polar &amp; High Montane Scrub, Grassland &amp; Barrens</th>\n",
       "      <td>2519.585196</td>\n",
       "      <td>0.015441</td>\n",
       "    </tr>\n",
       "    <tr>\n",
       "      <th>Recently Disturbed or Modified</th>\n",
       "      <td>1107.805008</td>\n",
       "      <td>0.006789</td>\n",
       "    </tr>\n",
       "    <tr>\n",
       "      <th>Shrub &amp; Herb Vegetation</th>\n",
       "      <td>26862.587331</td>\n",
       "      <td>0.164623</td>\n",
       "    </tr>\n",
       "  </tbody>\n",
       "</table>\n",
       "<p>12 rows × 2 columns</p>\n",
       "</div>"
      ],
      "text/plain": [
       "                                                  SquareMiles  Percentage\n",
       "Class                                                                    \n",
       "Agricultural & Developed Vegetation              16236.702451    0.099504\n",
       "Aquatic Vegetation                                  29.515271    0.000181\n",
       "Desert & Semi-Desert                             43406.217253    0.266007\n",
       "Developed & Other Human Use                      11170.230660    0.068455\n",
       "Forest & Woodland                                53165.885685    0.325817\n",
       "...                                                       ...         ...\n",
       "Open Rock Vegetation                               265.053649    0.001624\n",
       "Open Water                                        7166.188032    0.043917\n",
       "Polar & High Montane Scrub, Grassland & Barrens   2519.585196    0.015441\n",
       "Recently Disturbed or Modified                    1107.805008    0.006789\n",
       "Shrub & Herb Vegetation                          26862.587331    0.164623\n",
       "\n",
       "[12 rows x 2 columns]"
      ]
     },
     "execution_count": 755,
     "metadata": {},
     "output_type": "execute_result"
    }
   ],
   "source": [
    "a=ca_land.get('SquareMiles').sum()\n",
    "ca_classes = ca_land.groupby('Class').sum().assign(Percentage=ca_land.groupby('Class').sum().get('SquareMiles')/a)\n",
    "ca_classes"
   ]
  },
  {
   "cell_type": "code",
   "execution_count": 756,
   "metadata": {},
   "outputs": [
    {
     "data": {
      "text/html": [
       "<div>\n",
       "<style scoped>\n",
       "    .dataframe tbody tr th:only-of-type {\n",
       "        vertical-align: middle;\n",
       "    }\n",
       "\n",
       "    .dataframe tbody tr th {\n",
       "        vertical-align: top;\n",
       "    }\n",
       "\n",
       "    .dataframe thead th {\n",
       "        text-align: right;\n",
       "    }\n",
       "</style>\n",
       "<table border=\"1\" class=\"dataframe\">\n",
       "  <thead>\n",
       "    <tr style=\"text-align: right;\">\n",
       "      <th></th>\n",
       "      <th>SquareMiles</th>\n",
       "      <th>Percentage</th>\n",
       "    </tr>\n",
       "    <tr>\n",
       "      <th>Class</th>\n",
       "      <th></th>\n",
       "      <th></th>\n",
       "    </tr>\n",
       "  </thead>\n",
       "  <tbody>\n",
       "    <tr>\n",
       "      <th>Agricultural &amp; Developed Vegetation</th>\n",
       "      <td>16236.702451</td>\n",
       "      <td>0.099504</td>\n",
       "    </tr>\n",
       "    <tr>\n",
       "      <th>Aquatic Vegetation</th>\n",
       "      <td>29.515271</td>\n",
       "      <td>0.000181</td>\n",
       "    </tr>\n",
       "    <tr>\n",
       "      <th>Desert &amp; Semi-Desert</th>\n",
       "      <td>43406.217253</td>\n",
       "      <td>0.266007</td>\n",
       "    </tr>\n",
       "    <tr>\n",
       "      <th>Developed &amp; Other Human Use</th>\n",
       "      <td>11170.230660</td>\n",
       "      <td>0.068455</td>\n",
       "    </tr>\n",
       "    <tr>\n",
       "      <th>Forest &amp; Woodland</th>\n",
       "      <td>53165.885685</td>\n",
       "      <td>0.325817</td>\n",
       "    </tr>\n",
       "    <tr>\n",
       "      <th>...</th>\n",
       "      <td>...</td>\n",
       "      <td>...</td>\n",
       "    </tr>\n",
       "    <tr>\n",
       "      <th>Open Rock Vegetation</th>\n",
       "      <td>265.053649</td>\n",
       "      <td>0.001624</td>\n",
       "    </tr>\n",
       "    <tr>\n",
       "      <th>Open Water</th>\n",
       "      <td>7166.188032</td>\n",
       "      <td>0.043917</td>\n",
       "    </tr>\n",
       "    <tr>\n",
       "      <th>Polar &amp; High Montane Scrub, Grassland &amp; Barrens</th>\n",
       "      <td>2519.585196</td>\n",
       "      <td>0.015441</td>\n",
       "    </tr>\n",
       "    <tr>\n",
       "      <th>Recently Disturbed or Modified</th>\n",
       "      <td>1107.805008</td>\n",
       "      <td>0.006789</td>\n",
       "    </tr>\n",
       "    <tr>\n",
       "      <th>Shrub &amp; Herb Vegetation</th>\n",
       "      <td>26862.587331</td>\n",
       "      <td>0.164623</td>\n",
       "    </tr>\n",
       "  </tbody>\n",
       "</table>\n",
       "<p>12 rows × 2 columns</p>\n",
       "</div>"
      ],
      "text/plain": [
       "                                                  SquareMiles  Percentage\n",
       "Class                                                                    \n",
       "Agricultural & Developed Vegetation              16236.702451    0.099504\n",
       "Aquatic Vegetation                                  29.515271    0.000181\n",
       "Desert & Semi-Desert                             43406.217253    0.266007\n",
       "Developed & Other Human Use                      11170.230660    0.068455\n",
       "Forest & Woodland                                53165.885685    0.325817\n",
       "...                                                       ...         ...\n",
       "Open Rock Vegetation                               265.053649    0.001624\n",
       "Open Water                                        7166.188032    0.043917\n",
       "Polar & High Montane Scrub, Grassland & Barrens   2519.585196    0.015441\n",
       "Recently Disturbed or Modified                    1107.805008    0.006789\n",
       "Shrub & Herb Vegetation                          26862.587331    0.164623\n",
       "\n",
       "[12 rows x 2 columns]"
      ]
     },
     "execution_count": 756,
     "metadata": {},
     "output_type": "execute_result"
    }
   ],
   "source": [
    "#... ca_classes\n",
    "ca_classes"
   ]
  },
  {
   "cell_type": "code",
   "execution_count": 757,
   "metadata": {},
   "outputs": [
    {
     "name": "stdout",
     "output_type": "stream",
     "text": [
      "~~~~~~~~~~~~~~~~~~~~~~~~~~~~~~~~~~~~~~~~~~~~~~~~~~~~~~~~~~~~~~~~~~~~~\n",
      "Running tests\n",
      "\n",
      "---------------------------------------------------------------------\n",
      "Test summary\n",
      "    Passed: 1\n",
      "    Failed: 0\n",
      "[ooooooooook] 100.0% passed\n",
      "\n"
     ]
    }
   ],
   "source": [
    "_ = ok.grade('q1_4')"
   ]
  },
  {
   "cell_type": "markdown",
   "metadata": {},
   "source": [
    "**Question 1.5.** Create a horizontal bar chart showing the percentage of California that is made up of each land class. Only show the land classes with the top 6 percentage values, omit the rest. Make sure that the bars are sorted, from shortest at the top to longest at the bottom."
   ]
  },
  {
   "cell_type": "code",
   "execution_count": 758,
   "metadata": {},
   "outputs": [
    {
     "data": {
      "text/html": [
       "<div>\n",
       "<style scoped>\n",
       "    .dataframe tbody tr th:only-of-type {\n",
       "        vertical-align: middle;\n",
       "    }\n",
       "\n",
       "    .dataframe tbody tr th {\n",
       "        vertical-align: top;\n",
       "    }\n",
       "\n",
       "    .dataframe thead th {\n",
       "        text-align: right;\n",
       "    }\n",
       "</style>\n",
       "<table border=\"1\" class=\"dataframe\">\n",
       "  <thead>\n",
       "    <tr style=\"text-align: right;\">\n",
       "      <th></th>\n",
       "      <th>SquareMiles</th>\n",
       "      <th>Percentage</th>\n",
       "    </tr>\n",
       "    <tr>\n",
       "      <th>Class</th>\n",
       "      <th></th>\n",
       "      <th></th>\n",
       "    </tr>\n",
       "  </thead>\n",
       "  <tbody>\n",
       "    <tr>\n",
       "      <th>Forest &amp; Woodland</th>\n",
       "      <td>53165.885685</td>\n",
       "      <td>0.325817</td>\n",
       "    </tr>\n",
       "    <tr>\n",
       "      <th>Desert &amp; Semi-Desert</th>\n",
       "      <td>43406.217253</td>\n",
       "      <td>0.266007</td>\n",
       "    </tr>\n",
       "    <tr>\n",
       "      <th>Shrub &amp; Herb Vegetation</th>\n",
       "      <td>26862.587331</td>\n",
       "      <td>0.164623</td>\n",
       "    </tr>\n",
       "    <tr>\n",
       "      <th>Agricultural &amp; Developed Vegetation</th>\n",
       "      <td>16236.702451</td>\n",
       "      <td>0.099504</td>\n",
       "    </tr>\n",
       "    <tr>\n",
       "      <th>Developed &amp; Other Human Use</th>\n",
       "      <td>11170.230660</td>\n",
       "      <td>0.068455</td>\n",
       "    </tr>\n",
       "    <tr>\n",
       "      <th>Open Water</th>\n",
       "      <td>7166.188032</td>\n",
       "      <td>0.043917</td>\n",
       "    </tr>\n",
       "  </tbody>\n",
       "</table>\n",
       "</div>"
      ],
      "text/plain": [
       "                                      SquareMiles  Percentage\n",
       "Class                                                        \n",
       "Forest & Woodland                    53165.885685    0.325817\n",
       "Desert & Semi-Desert                 43406.217253    0.266007\n",
       "Shrub & Herb Vegetation              26862.587331    0.164623\n",
       "Agricultural & Developed Vegetation  16236.702451    0.099504\n",
       "Developed & Other Human Use          11170.230660    0.068455\n",
       "Open Water                            7166.188032    0.043917"
      ]
     },
     "execution_count": 758,
     "metadata": {},
     "output_type": "execute_result"
    }
   ],
   "source": [
    "top6values = ca_classes.sort_values('Percentage',ascending=False).iloc[0:6]\n",
    "top6values"
   ]
  },
  {
   "cell_type": "code",
   "execution_count": 584,
   "metadata": {},
   "outputs": [
    {
     "data": {
      "image/png": "[encoded data removed]",
      "text/plain": [
       "<Figure size 432x288 with 1 Axes>"
      ]
     },
     "metadata": {},
     "output_type": "display_data"
    }
   ],
   "source": [
    "graph1 = top6values.plot(kind='barh',y='Percentage')"
   ]
  },
  {
   "cell_type": "markdown",
   "metadata": {},
   "source": [
    "**Question 1.6.** Notice that California has a high percentage of forest & woodland. Let's compare California's total Forest & Woodland (F & W) area in square miles, to the total F & W are in square miles across all states. \n",
    "\n",
    "Find the total F & W area in square miles accross all states. In the variable `ratio`, store the value: \n",
    "<br><br>\n",
    "(California's total F & W area in square miles) / (Total F & W area across all states in square miles)\n",
    "<br><br>\n",
    "Hint: Reuse the `us_land_renamed` from before, but don't drop the states column. You can also use `ca_classes`."
   ]
  },
  {
   "cell_type": "code",
   "execution_count": 759,
   "metadata": {},
   "outputs": [
    {
     "data": {
      "text/plain": [
       "53165.88568541692"
      ]
     },
     "execution_count": 759,
     "metadata": {},
     "output_type": "execute_result"
    }
   ],
   "source": [
    "total_FW_land = us_land_renamed[us_land_renamed.get('Class') == 'Forest & Woodland'].get('SquareMiles').sum()\n",
    "total_FW_land\n",
    "calif_land = us_land_renamed[us_land_renamed.get('State') == 'California']\n",
    "total_calif_land = calif_land[calif_land.get('Class') == 'Forest & Woodland'].get('SquareMiles').sum()\n",
    "total_calif_land"
   ]
  },
  {
   "cell_type": "code",
   "execution_count": 760,
   "metadata": {},
   "outputs": [
    {
     "data": {
      "text/plain": [
       "0.05380802449217051"
      ]
     },
     "execution_count": 760,
     "metadata": {},
     "output_type": "execute_result"
    }
   ],
   "source": [
    "# ... ratio \n",
    "ratio = total_calif_land/total_FW_land\n",
    "ratio"
   ]
  },
  {
   "cell_type": "code",
   "execution_count": 761,
   "metadata": {},
   "outputs": [
    {
     "name": "stdout",
     "output_type": "stream",
     "text": [
      "~~~~~~~~~~~~~~~~~~~~~~~~~~~~~~~~~~~~~~~~~~~~~~~~~~~~~~~~~~~~~~~~~~~~~\n",
      "Running tests\n",
      "\n",
      "---------------------------------------------------------------------\n",
      "Test summary\n",
      "    Passed: 1\n",
      "    Failed: 0\n",
      "[ooooooooook] 100.0% passed\n",
      "\n"
     ]
    }
   ],
   "source": [
    "_ = ok.grade('q1_6')"
   ]
  },
  {
   "cell_type": "markdown",
   "metadata": {},
   "source": [
    "**Question 1.7.** Finally, let's count how many of each class of land there is in the US. Using the `us_land_renamed`, count the total number of each `Class`, and store the result in a table. The index of the table should be the class types. Apart from the index, it should have a single column which stores the counts. This column may have any name. Store the resulting table in the variable `class_counts`."
   ]
  },
  {
   "cell_type": "code",
   "execution_count": 762,
   "metadata": {},
   "outputs": [
    {
     "data": {
      "text/html": [
       "<div>\n",
       "<style scoped>\n",
       "    .dataframe tbody tr th:only-of-type {\n",
       "        vertical-align: middle;\n",
       "    }\n",
       "\n",
       "    .dataframe tbody tr th {\n",
       "        vertical-align: top;\n",
       "    }\n",
       "\n",
       "    .dataframe thead th {\n",
       "        text-align: right;\n",
       "    }\n",
       "</style>\n",
       "<table border=\"1\" class=\"dataframe\">\n",
       "  <thead>\n",
       "    <tr style=\"text-align: right;\">\n",
       "      <th></th>\n",
       "      <th>SquareMiles</th>\n",
       "    </tr>\n",
       "    <tr>\n",
       "      <th>Class</th>\n",
       "      <th></th>\n",
       "    </tr>\n",
       "  </thead>\n",
       "  <tbody>\n",
       "    <tr>\n",
       "      <th>Agricultural &amp; Developed Vegetation</th>\n",
       "      <td>114</td>\n",
       "    </tr>\n",
       "    <tr>\n",
       "      <th>Aquatic Vegetation</th>\n",
       "      <td>4</td>\n",
       "    </tr>\n",
       "    <tr>\n",
       "      <th>Desert &amp; Semi-Desert</th>\n",
       "      <td>295</td>\n",
       "    </tr>\n",
       "    <tr>\n",
       "      <th>Developed &amp; Other Human Use</th>\n",
       "      <td>239</td>\n",
       "    </tr>\n",
       "    <tr>\n",
       "      <th>Forest &amp; Woodland</th>\n",
       "      <td>1728</td>\n",
       "    </tr>\n",
       "    <tr>\n",
       "      <th>...</th>\n",
       "      <td>...</td>\n",
       "    </tr>\n",
       "    <tr>\n",
       "      <th>Open Rock Vegetation</th>\n",
       "      <td>80</td>\n",
       "    </tr>\n",
       "    <tr>\n",
       "      <th>Open Water</th>\n",
       "      <td>78</td>\n",
       "    </tr>\n",
       "    <tr>\n",
       "      <th>Polar &amp; High Montane Scrub, Grassland &amp; Barrens</th>\n",
       "      <td>49</td>\n",
       "    </tr>\n",
       "    <tr>\n",
       "      <th>Recently Disturbed or Modified</th>\n",
       "      <td>263</td>\n",
       "    </tr>\n",
       "    <tr>\n",
       "      <th>Shrub &amp; Herb Vegetation</th>\n",
       "      <td>728</td>\n",
       "    </tr>\n",
       "  </tbody>\n",
       "</table>\n",
       "<p>12 rows × 1 columns</p>\n",
       "</div>"
      ],
      "text/plain": [
       "                                                 SquareMiles\n",
       "Class                                                       \n",
       "Agricultural & Developed Vegetation                      114\n",
       "Aquatic Vegetation                                         4\n",
       "Desert & Semi-Desert                                     295\n",
       "Developed & Other Human Use                              239\n",
       "Forest & Woodland                                       1728\n",
       "...                                                      ...\n",
       "Open Rock Vegetation                                      80\n",
       "Open Water                                                78\n",
       "Polar & High Montane Scrub, Grassland & Barrens           49\n",
       "Recently Disturbed or Modified                           263\n",
       "Shrub & Herb Vegetation                                  728\n",
       "\n",
       "[12 rows x 1 columns]"
      ]
     },
     "execution_count": 762,
     "metadata": {},
     "output_type": "execute_result"
    }
   ],
   "source": [
    "#... class_counts\n",
    "class_counts = us_land_renamed.groupby('Class').count().drop(columns=(['State','EcologicalSystem']))\n",
    "class_counts"
   ]
  },
  {
   "cell_type": "code",
   "execution_count": 763,
   "metadata": {},
   "outputs": [
    {
     "name": "stdout",
     "output_type": "stream",
     "text": [
      "~~~~~~~~~~~~~~~~~~~~~~~~~~~~~~~~~~~~~~~~~~~~~~~~~~~~~~~~~~~~~~~~~~~~~\n",
      "Running tests\n",
      "\n",
      "---------------------------------------------------------------------\n",
      "Test summary\n",
      "    Passed: 1\n",
      "    Failed: 0\n",
      "[ooooooooook] 100.0% passed\n",
      "\n"
     ]
    }
   ],
   "source": [
    "_ = ok.grade('q1_7')"
   ]
  },
  {
   "cell_type": "markdown",
   "metadata": {},
   "source": [
    "## 2. Beaches and Coast"
   ]
  },
  {
   "cell_type": "markdown",
   "metadata": {},
   "source": [
    "<img width=85% src=\"./beach.jpg\"/>"
   ]
  },
  {
   "cell_type": "markdown",
   "metadata": {},
   "source": [
    "California has over 3,400 miles of shoreline. The [California Coastal Commission](https://en.wikipedia.org/wiki/California_Coastal_Commission) is a public agency charged with managing the coast and ensuring that all Californians have access to the ocean.\n",
    "\n",
    "The California Coastal Commission maintains a list of all of the named beaches in the state. The file `beaches.csv` contains this information:"
   ]
  },
  {
   "cell_type": "code",
   "execution_count": 591,
   "metadata": {},
   "outputs": [
    {
     "data": {
      "text/html": [
       "<div>\n",
       "<style scoped>\n",
       "    .dataframe tbody tr th:only-of-type {\n",
       "        vertical-align: middle;\n",
       "    }\n",
       "\n",
       "    .dataframe tbody tr th {\n",
       "        vertical-align: top;\n",
       "    }\n",
       "\n",
       "    .dataframe thead th {\n",
       "        text-align: right;\n",
       "    }\n",
       "</style>\n",
       "<table border=\"1\" class=\"dataframe\">\n",
       "  <thead>\n",
       "    <tr style=\"text-align: right;\">\n",
       "      <th></th>\n",
       "      <th>COUNTY</th>\n",
       "      <th>PARKING</th>\n",
       "      <th>FEE</th>\n",
       "      <th>LATITUDE</th>\n",
       "      <th>LONGITUDE</th>\n",
       "      <th>NAME</th>\n",
       "      <th>LOCATION</th>\n",
       "      <th>DESCRIPTION</th>\n",
       "    </tr>\n",
       "  </thead>\n",
       "  <tbody>\n",
       "    <tr>\n",
       "      <th>0</th>\n",
       "      <td>Del Norte</td>\n",
       "      <td>Yes</td>\n",
       "      <td>No</td>\n",
       "      <td>41.992854</td>\n",
       "      <td>-124.208809</td>\n",
       "      <td>Pelican State Beach</td>\n",
       "      <td>W. of Hwy. 101, .5 mi. S. of Oregon border</td>\n",
       "      <td>Wide beach with driftwood, day use only</td>\n",
       "    </tr>\n",
       "    <tr>\n",
       "      <th>1</th>\n",
       "      <td>Del Norte</td>\n",
       "      <td>Yes</td>\n",
       "      <td>No</td>\n",
       "      <td>41.973501</td>\n",
       "      <td>-124.203663</td>\n",
       "      <td>Clifford Kamph Memorial Park</td>\n",
       "      <td>Hwy. 101 , 2 mi. S. of the Oregon border</td>\n",
       "      <td>Camp host on-site</td>\n",
       "    </tr>\n",
       "    <tr>\n",
       "      <th>2</th>\n",
       "      <td>Del Norte</td>\n",
       "      <td>Yes</td>\n",
       "      <td>No</td>\n",
       "      <td>41.947699</td>\n",
       "      <td>-124.205046</td>\n",
       "      <td>Smith River County Park</td>\n",
       "      <td>End, Mouth of Smith River Rd., Smith River</td>\n",
       "      <td>Cobble beach at river mouth, birding</td>\n",
       "    </tr>\n",
       "    <tr>\n",
       "      <th>3</th>\n",
       "      <td>Del Norte</td>\n",
       "      <td>Yes</td>\n",
       "      <td>Yes</td>\n",
       "      <td>41.890326</td>\n",
       "      <td>-124.147810</td>\n",
       "      <td>Smith River Boating Access</td>\n",
       "      <td>Fred Haight Dr., 3 mi. S. of Town of Smith River</td>\n",
       "      <td>Paved boat ramp</td>\n",
       "    </tr>\n",
       "    <tr>\n",
       "      <th>4</th>\n",
       "      <td>Del Norte</td>\n",
       "      <td>Yes</td>\n",
       "      <td>No</td>\n",
       "      <td>41.869112</td>\n",
       "      <td>-124.211624</td>\n",
       "      <td>Kellogg Beach Park</td>\n",
       "      <td>W. end of Kellogg Rd.</td>\n",
       "      <td>Wide beach, driftwood</td>\n",
       "    </tr>\n",
       "    <tr>\n",
       "      <th>...</th>\n",
       "      <td>...</td>\n",
       "      <td>...</td>\n",
       "      <td>...</td>\n",
       "      <td>...</td>\n",
       "      <td>...</td>\n",
       "      <td>...</td>\n",
       "      <td>...</td>\n",
       "      <td>...</td>\n",
       "    </tr>\n",
       "    <tr>\n",
       "      <th>1545</th>\n",
       "      <td>San Diego</td>\n",
       "      <td>Yes</td>\n",
       "      <td>No</td>\n",
       "      <td>32.575166</td>\n",
       "      <td>-117.124852</td>\n",
       "      <td>Tijuana Estuary Visitor Center</td>\n",
       "      <td>3rd St. and Caspian Way, Imperial Beach</td>\n",
       "      <td>Interpretive exhibits, native plant garden, tr...</td>\n",
       "    </tr>\n",
       "    <tr>\n",
       "      <th>1546</th>\n",
       "      <td>San Diego</td>\n",
       "      <td>Yes</td>\n",
       "      <td>No</td>\n",
       "      <td>32.554299</td>\n",
       "      <td>-117.062808</td>\n",
       "      <td>Dairy Mart Ponds</td>\n",
       "      <td>S. of Hwy. I-5, both sides of Dairy Mart Rd., ...</td>\n",
       "      <td>Hiking and equestrian trails</td>\n",
       "    </tr>\n",
       "    <tr>\n",
       "      <th>1547</th>\n",
       "      <td>San Diego</td>\n",
       "      <td>Yes</td>\n",
       "      <td>No</td>\n",
       "      <td>32.544516</td>\n",
       "      <td>-117.074186</td>\n",
       "      <td>Tijuana River Valley Regional Park</td>\n",
       "      <td>2721 Monument Rd., San Diego</td>\n",
       "      <td>Trails, equestrian staging area at 2310 Hollis...</td>\n",
       "    </tr>\n",
       "    <tr>\n",
       "      <th>1548</th>\n",
       "      <td>San Diego</td>\n",
       "      <td>Yes</td>\n",
       "      <td>Yes</td>\n",
       "      <td>32.544757</td>\n",
       "      <td>-117.121919</td>\n",
       "      <td>Border Field State Park</td>\n",
       "      <td>W. end of Monument Rd., San Diego</td>\n",
       "      <td>Undeveloped park, horseback riding, hiking, ca...</td>\n",
       "    </tr>\n",
       "    <tr>\n",
       "      <th>1549</th>\n",
       "      <td>Humboldt</td>\n",
       "      <td>No</td>\n",
       "      <td>No</td>\n",
       "      <td>40.851543</td>\n",
       "      <td>-124.083644</td>\n",
       "      <td>Humboldt Bay Trail - North</td>\n",
       "      <td>W. of Hwy. 101, from State Route 255 to Baysid...</td>\n",
       "      <td>3-mile long paved trail, along former rail lin...</td>\n",
       "    </tr>\n",
       "  </tbody>\n",
       "</table>\n",
       "<p>1550 rows × 8 columns</p>\n",
       "</div>"
      ],
      "text/plain": [
       "         COUNTY PARKING  FEE   LATITUDE   LONGITUDE  \\\n",
       "0     Del Norte     Yes   No  41.992854 -124.208809   \n",
       "1     Del Norte     Yes   No  41.973501 -124.203663   \n",
       "2     Del Norte     Yes   No  41.947699 -124.205046   \n",
       "3     Del Norte     Yes  Yes  41.890326 -124.147810   \n",
       "4     Del Norte     Yes   No  41.869112 -124.211624   \n",
       "...         ...     ...  ...        ...         ...   \n",
       "1545  San Diego     Yes   No  32.575166 -117.124852   \n",
       "1546  San Diego     Yes   No  32.554299 -117.062808   \n",
       "1547  San Diego     Yes   No  32.544516 -117.074186   \n",
       "1548  San Diego     Yes  Yes  32.544757 -117.121919   \n",
       "1549   Humboldt      No   No  40.851543 -124.083644   \n",
       "\n",
       "                                    NAME  \\\n",
       "0                    Pelican State Beach   \n",
       "1           Clifford Kamph Memorial Park   \n",
       "2                Smith River County Park   \n",
       "3             Smith River Boating Access   \n",
       "4                     Kellogg Beach Park   \n",
       "...                                  ...   \n",
       "1545      Tijuana Estuary Visitor Center   \n",
       "1546                    Dairy Mart Ponds   \n",
       "1547  Tijuana River Valley Regional Park   \n",
       "1548             Border Field State Park   \n",
       "1549          Humboldt Bay Trail - North   \n",
       "\n",
       "                                               LOCATION  \\\n",
       "0            W. of Hwy. 101, .5 mi. S. of Oregon border   \n",
       "1              Hwy. 101 , 2 mi. S. of the Oregon border   \n",
       "2            End, Mouth of Smith River Rd., Smith River   \n",
       "3      Fred Haight Dr., 3 mi. S. of Town of Smith River   \n",
       "4                                 W. end of Kellogg Rd.   \n",
       "...                                                 ...   \n",
       "1545            3rd St. and Caspian Way, Imperial Beach   \n",
       "1546  S. of Hwy. I-5, both sides of Dairy Mart Rd., ...   \n",
       "1547                       2721 Monument Rd., San Diego   \n",
       "1548                  W. end of Monument Rd., San Diego   \n",
       "1549  W. of Hwy. 101, from State Route 255 to Baysid...   \n",
       "\n",
       "                                            DESCRIPTION  \n",
       "0               Wide beach with driftwood, day use only  \n",
       "1                                     Camp host on-site  \n",
       "2                  Cobble beach at river mouth, birding  \n",
       "3                                       Paved boat ramp  \n",
       "4                                 Wide beach, driftwood  \n",
       "...                                                 ...  \n",
       "1545  Interpretive exhibits, native plant garden, tr...  \n",
       "1546                       Hiking and equestrian trails  \n",
       "1547  Trails, equestrian staging area at 2310 Hollis...  \n",
       "1548  Undeveloped park, horseback riding, hiking, ca...  \n",
       "1549  3-mile long paved trail, along former rail lin...  \n",
       "\n",
       "[1550 rows x 8 columns]"
      ]
     },
     "execution_count": 591,
     "metadata": {},
     "output_type": "execute_result"
    }
   ],
   "source": [
    "beaches = bpd.read_csv('data/beaches.csv')\n",
    "beaches"
   ]
  },
  {
   "cell_type": "markdown",
   "metadata": {},
   "source": [
    "The table below shows all of the columns in the DataFrame and their contents:\n",
    "\n",
    "<table>\n",
    "    <tr>\n",
    "        <th>\n",
    "            Column Name\n",
    "        </th>\n",
    "        <th>\n",
    "            Description\n",
    "        </th>\n",
    "    </tr>\n",
    "    <tr>\n",
    "        <td>\n",
    "            COUNTY\n",
    "        </td>\n",
    "        <td>\n",
    "            Name of the county in which the beach is located\n",
    "        </td>\n",
    "    </tr>\n",
    "    <tr>\n",
    "        <td>\n",
    "            PARKING\n",
    "        </td>\n",
    "        <td>\n",
    "            Whether or not there is parking at the beach\n",
    "        </td>\n",
    "    </tr>\n",
    "    <tr>\n",
    "        <td>\n",
    "            FEE\n",
    "        </td>\n",
    "        <td>\n",
    "            Whether or not there is a fee to access the beach\n",
    "        </td>\n",
    "    </tr>\n",
    "    <tr>\n",
    "        <td>\n",
    "            LATITUDE\n",
    "        </td>\n",
    "        <td>\n",
    "            The beach's latitude\n",
    "        </td>\n",
    "    </tr>\n",
    "    <tr>\n",
    "        <td>\n",
    "            LOGITUDE\n",
    "        </td>\n",
    "        <td>\n",
    "            The beach's longitude\n",
    "        </td>\n",
    "    </tr>\n",
    "    <tr>\n",
    "        <td>\n",
    "            NAME\n",
    "        </td>\n",
    "        <td>\n",
    "            Name of the beach\n",
    "        </td>\n",
    "    </tr>\n",
    "    <tr>\n",
    "        <td>\n",
    "            LOCATION\n",
    "        </td>\n",
    "        <td>\n",
    "            A description of the beach's location\n",
    "        </td>\n",
    "    </tr>\n",
    "    <tr>\n",
    "        <td>\n",
    "            DESCRIPTION\n",
    "        </td>\n",
    "        <td>\n",
    "            A short description of the beach\n",
    "        </td>\n",
    "    </tr>\n",
    "</table>"
   ]
  },
  {
   "cell_type": "code",
   "execution_count": 592,
   "metadata": {},
   "outputs": [],
   "source": [
    "beaches_by_fee = beaches[beaches.get('FEE') == 'Yes'].groupby('COUNTY').count().sort_values('FEE',ascending=False)"
   ]
  },
  {
   "cell_type": "markdown",
   "metadata": {},
   "source": [
    "**Question 2.1.** Which county has the second most ***paid*** beaches?"
   ]
  },
  {
   "cell_type": "code",
   "execution_count": 593,
   "metadata": {},
   "outputs": [
    {
     "data": {
      "text/plain": [
       "'Monterey'"
      ]
     },
     "execution_count": 593,
     "metadata": {},
     "output_type": "execute_result"
    }
   ],
   "source": [
    "#... second_most_paid_beaches\n",
    "second_most_paid_beaches = beaches_by_fee.index[1]\n",
    "second_most_paid_beaches"
   ]
  },
  {
   "cell_type": "code",
   "execution_count": 594,
   "metadata": {},
   "outputs": [
    {
     "name": "stdout",
     "output_type": "stream",
     "text": [
      "~~~~~~~~~~~~~~~~~~~~~~~~~~~~~~~~~~~~~~~~~~~~~~~~~~~~~~~~~~~~~~~~~~~~~\n",
      "Running tests\n",
      "\n",
      "---------------------------------------------------------------------\n",
      "Test summary\n",
      "    Passed: 1\n",
      "    Failed: 0\n",
      "[ooooooooook] 100.0% passed\n",
      "\n"
     ]
    }
   ],
   "source": [
    "_ = ok.grade('q2_1')"
   ]
  },
  {
   "cell_type": "markdown",
   "metadata": {},
   "source": [
    "**Question 2.2.** Expensive beaches usually have more tourists and more facilities. Does that mean there is also access to parking? Let's find the percentage of paid and free beaches that have a parking service and compare. Respond **True** or **False** to `paid_parking`. True if paid beaches have a higher parking ratio, false otherwise. (Calculate the ratios individually for paid and free beaches."
   ]
  },
  {
   "cell_type": "code",
   "execution_count": 595,
   "metadata": {},
   "outputs": [
    {
     "data": {
      "text/plain": [
       "0.8253968253968254"
      ]
     },
     "execution_count": 595,
     "metadata": {},
     "output_type": "execute_result"
    }
   ],
   "source": [
    "#PERCENTAGE OF PAID BEACHES THAT HAVE PARKING \n",
    "a=beaches[beaches.get('FEE') == 'Yes']\n",
    "b=a[a.get('PARKING') == 'Yes'].shape[0]\n",
    "c=a[a.get('PARKING') == 'No' ].shape[0]\n",
    "d=b/(b+c)\n",
    "d\n",
    "#PERCENTAGE OF UNPAID BEACHES THAT HAVE PARKING\n",
    "e=beaches[beaches.get('FEE') == 'No']\n",
    "f=e[e.get('PARKING') == 'Yes'].shape[0]\n",
    "g=e[e.get('PARKING') == 'No'].shape[0]\n",
    "h=f/(f+g)\n",
    "h"
   ]
  },
  {
   "cell_type": "code",
   "execution_count": 596,
   "metadata": {},
   "outputs": [
    {
     "data": {
      "text/plain": [
       "True"
      ]
     },
     "execution_count": 596,
     "metadata": {},
     "output_type": "execute_result"
    }
   ],
   "source": [
    "#... paid_parking\n",
    "paid_parking = True\n",
    "paid_parking"
   ]
  },
  {
   "cell_type": "code",
   "execution_count": 597,
   "metadata": {},
   "outputs": [
    {
     "name": "stdout",
     "output_type": "stream",
     "text": [
      "~~~~~~~~~~~~~~~~~~~~~~~~~~~~~~~~~~~~~~~~~~~~~~~~~~~~~~~~~~~~~~~~~~~~~\n",
      "Running tests\n",
      "\n",
      "---------------------------------------------------------------------\n",
      "Test summary\n",
      "    Passed: 1\n",
      "    Failed: 0\n",
      "[ooooooooook] 100.0% passed\n",
      "\n"
     ]
    }
   ],
   "source": [
    "_ = ok.grade('q2_2')"
   ]
  },
  {
   "cell_type": "markdown",
   "metadata": {},
   "source": [
    "**Question 2.3.** How many beaches in Los Angeles county do not have a fee and do have parking? Store your result in `los_angeles_free_beaches_with_parking`"
   ]
  },
  {
   "cell_type": "code",
   "execution_count": 598,
   "metadata": {},
   "outputs": [
    {
     "data": {
      "text/plain": [
       "97"
      ]
     },
     "execution_count": 598,
     "metadata": {},
     "output_type": "execute_result"
    }
   ],
   "source": [
    "a=beaches[beaches.get('COUNTY') == 'Los Angeles']\n",
    "b=a[a.get('FEE') == 'No']\n",
    "c=b[b.get('PARKING') == 'Yes']\n",
    "d=c.shape[0]\n",
    "d"
   ]
  },
  {
   "cell_type": "code",
   "execution_count": 599,
   "metadata": {},
   "outputs": [
    {
     "data": {
      "text/plain": [
       "97"
      ]
     },
     "execution_count": 599,
     "metadata": {},
     "output_type": "execute_result"
    }
   ],
   "source": [
    "#... los_angeles_free_beaches_with_parking\n",
    "los_angeles_free_beaches_with_parking = d\n",
    "los_angeles_free_beaches_with_parking"
   ]
  },
  {
   "cell_type": "code",
   "execution_count": 600,
   "metadata": {},
   "outputs": [
    {
     "name": "stdout",
     "output_type": "stream",
     "text": [
      "~~~~~~~~~~~~~~~~~~~~~~~~~~~~~~~~~~~~~~~~~~~~~~~~~~~~~~~~~~~~~~~~~~~~~\n",
      "Running tests\n",
      "\n",
      "---------------------------------------------------------------------\n",
      "Test summary\n",
      "    Passed: 1\n",
      "    Failed: 0\n",
      "[ooooooooook] 100.0% passed\n",
      "\n"
     ]
    }
   ],
   "source": [
    "_ = ok.grade('q2_3')"
   ]
  },
  {
   "cell_type": "markdown",
   "metadata": {},
   "source": [
    "The California State Guide is publishing a favorite beach ranking that is asking you to rate the top beaches across the state. The given criteria is straightforward: 3 stars for beaches with free parking, 2 stars for beaches with paid parking or free beaches with no parking, 1 star for paid beaches with no parking.\n",
    "\n",
    "**Question 2.4.** To begin, we must clean our data first. We will be working with the first three columns, *COUNTY*, *PARKING*, *FEE*, so drop the irrelevant columns. Replace the strings **Yes** and **No** in the `PARKING` and `FEE` columns with 1 and 0 respectively. Save your processed dataframe in `processed_beaches`.\n",
    "\n",
    "*Hint: You can check all the unqie values in a column by `np.unique(Series)`. There is a built in function for the replacement.*"
   ]
  },
  {
   "cell_type": "code",
   "execution_count": 601,
   "metadata": {},
   "outputs": [
    {
     "data": {
      "text/html": [
       "<div>\n",
       "<style scoped>\n",
       "    .dataframe tbody tr th:only-of-type {\n",
       "        vertical-align: middle;\n",
       "    }\n",
       "\n",
       "    .dataframe tbody tr th {\n",
       "        vertical-align: top;\n",
       "    }\n",
       "\n",
       "    .dataframe thead th {\n",
       "        text-align: right;\n",
       "    }\n",
       "</style>\n",
       "<table border=\"1\" class=\"dataframe\">\n",
       "  <thead>\n",
       "    <tr style=\"text-align: right;\">\n",
       "      <th></th>\n",
       "      <th>COUNTY</th>\n",
       "      <th>PARKING</th>\n",
       "      <th>FEE</th>\n",
       "    </tr>\n",
       "  </thead>\n",
       "  <tbody>\n",
       "    <tr>\n",
       "      <th>0</th>\n",
       "      <td>Del Norte</td>\n",
       "      <td>Yes</td>\n",
       "      <td>No</td>\n",
       "    </tr>\n",
       "    <tr>\n",
       "      <th>1</th>\n",
       "      <td>Del Norte</td>\n",
       "      <td>Yes</td>\n",
       "      <td>No</td>\n",
       "    </tr>\n",
       "    <tr>\n",
       "      <th>2</th>\n",
       "      <td>Del Norte</td>\n",
       "      <td>Yes</td>\n",
       "      <td>No</td>\n",
       "    </tr>\n",
       "    <tr>\n",
       "      <th>3</th>\n",
       "      <td>Del Norte</td>\n",
       "      <td>Yes</td>\n",
       "      <td>Yes</td>\n",
       "    </tr>\n",
       "    <tr>\n",
       "      <th>4</th>\n",
       "      <td>Del Norte</td>\n",
       "      <td>Yes</td>\n",
       "      <td>No</td>\n",
       "    </tr>\n",
       "    <tr>\n",
       "      <th>...</th>\n",
       "      <td>...</td>\n",
       "      <td>...</td>\n",
       "      <td>...</td>\n",
       "    </tr>\n",
       "    <tr>\n",
       "      <th>1545</th>\n",
       "      <td>San Diego</td>\n",
       "      <td>Yes</td>\n",
       "      <td>No</td>\n",
       "    </tr>\n",
       "    <tr>\n",
       "      <th>1546</th>\n",
       "      <td>San Diego</td>\n",
       "      <td>Yes</td>\n",
       "      <td>No</td>\n",
       "    </tr>\n",
       "    <tr>\n",
       "      <th>1547</th>\n",
       "      <td>San Diego</td>\n",
       "      <td>Yes</td>\n",
       "      <td>No</td>\n",
       "    </tr>\n",
       "    <tr>\n",
       "      <th>1548</th>\n",
       "      <td>San Diego</td>\n",
       "      <td>Yes</td>\n",
       "      <td>Yes</td>\n",
       "    </tr>\n",
       "    <tr>\n",
       "      <th>1549</th>\n",
       "      <td>Humboldt</td>\n",
       "      <td>No</td>\n",
       "      <td>No</td>\n",
       "    </tr>\n",
       "  </tbody>\n",
       "</table>\n",
       "<p>1550 rows × 3 columns</p>\n",
       "</div>"
      ],
      "text/plain": [
       "         COUNTY PARKING  FEE\n",
       "0     Del Norte     Yes   No\n",
       "1     Del Norte     Yes   No\n",
       "2     Del Norte     Yes   No\n",
       "3     Del Norte     Yes  Yes\n",
       "4     Del Norte     Yes   No\n",
       "...         ...     ...  ...\n",
       "1545  San Diego     Yes   No\n",
       "1546  San Diego     Yes   No\n",
       "1547  San Diego     Yes   No\n",
       "1548  San Diego     Yes  Yes\n",
       "1549   Humboldt      No   No\n",
       "\n",
       "[1550 rows x 3 columns]"
      ]
     },
     "execution_count": 601,
     "metadata": {},
     "output_type": "execute_result"
    }
   ],
   "source": [
    "new = beaches.drop(columns = (['LATITUDE','LONGITUDE','NAME','LOCATION','DESCRIPTION']))\n",
    "new"
   ]
  },
  {
   "cell_type": "code",
   "execution_count": 602,
   "metadata": {},
   "outputs": [],
   "source": [
    "def replace(x):\n",
    "    if x=='Yes':return 1\n",
    "    if x=='No' or x=='No ': return 0"
   ]
  },
  {
   "cell_type": "code",
   "execution_count": 603,
   "metadata": {},
   "outputs": [
    {
     "data": {
      "text/plain": [
       "0       0\n",
       "1       0\n",
       "2       0\n",
       "3       1\n",
       "4       0\n",
       "       ..\n",
       "1545    0\n",
       "1546    0\n",
       "1547    0\n",
       "1548    1\n",
       "1549    0\n",
       "Name: FEE, Length: 1550, dtype: int64"
      ]
     },
     "execution_count": 603,
     "metadata": {},
     "output_type": "execute_result"
    }
   ],
   "source": [
    "parking_converted = new.get('PARKING').apply(replace)\n",
    "fee_converted = new.get('FEE').apply(replace)\n",
    "fee_converted"
   ]
  },
  {
   "cell_type": "code",
   "execution_count": 604,
   "metadata": {},
   "outputs": [
    {
     "data": {
      "text/html": [
       "<div>\n",
       "<style scoped>\n",
       "    .dataframe tbody tr th:only-of-type {\n",
       "        vertical-align: middle;\n",
       "    }\n",
       "\n",
       "    .dataframe tbody tr th {\n",
       "        vertical-align: top;\n",
       "    }\n",
       "\n",
       "    .dataframe thead th {\n",
       "        text-align: right;\n",
       "    }\n",
       "</style>\n",
       "<table border=\"1\" class=\"dataframe\">\n",
       "  <thead>\n",
       "    <tr style=\"text-align: right;\">\n",
       "      <th></th>\n",
       "      <th>COUNTY</th>\n",
       "      <th>PARKING</th>\n",
       "      <th>FEE</th>\n",
       "    </tr>\n",
       "  </thead>\n",
       "  <tbody>\n",
       "    <tr>\n",
       "      <th>0</th>\n",
       "      <td>Del Norte</td>\n",
       "      <td>1</td>\n",
       "      <td>0</td>\n",
       "    </tr>\n",
       "    <tr>\n",
       "      <th>1</th>\n",
       "      <td>Del Norte</td>\n",
       "      <td>1</td>\n",
       "      <td>0</td>\n",
       "    </tr>\n",
       "    <tr>\n",
       "      <th>2</th>\n",
       "      <td>Del Norte</td>\n",
       "      <td>1</td>\n",
       "      <td>0</td>\n",
       "    </tr>\n",
       "    <tr>\n",
       "      <th>3</th>\n",
       "      <td>Del Norte</td>\n",
       "      <td>1</td>\n",
       "      <td>1</td>\n",
       "    </tr>\n",
       "    <tr>\n",
       "      <th>4</th>\n",
       "      <td>Del Norte</td>\n",
       "      <td>1</td>\n",
       "      <td>0</td>\n",
       "    </tr>\n",
       "    <tr>\n",
       "      <th>...</th>\n",
       "      <td>...</td>\n",
       "      <td>...</td>\n",
       "      <td>...</td>\n",
       "    </tr>\n",
       "    <tr>\n",
       "      <th>1545</th>\n",
       "      <td>San Diego</td>\n",
       "      <td>1</td>\n",
       "      <td>0</td>\n",
       "    </tr>\n",
       "    <tr>\n",
       "      <th>1546</th>\n",
       "      <td>San Diego</td>\n",
       "      <td>1</td>\n",
       "      <td>0</td>\n",
       "    </tr>\n",
       "    <tr>\n",
       "      <th>1547</th>\n",
       "      <td>San Diego</td>\n",
       "      <td>1</td>\n",
       "      <td>0</td>\n",
       "    </tr>\n",
       "    <tr>\n",
       "      <th>1548</th>\n",
       "      <td>San Diego</td>\n",
       "      <td>1</td>\n",
       "      <td>1</td>\n",
       "    </tr>\n",
       "    <tr>\n",
       "      <th>1549</th>\n",
       "      <td>Humboldt</td>\n",
       "      <td>0</td>\n",
       "      <td>0</td>\n",
       "    </tr>\n",
       "  </tbody>\n",
       "</table>\n",
       "<p>1550 rows × 3 columns</p>\n",
       "</div>"
      ],
      "text/plain": [
       "         COUNTY  PARKING  FEE\n",
       "0     Del Norte        1    0\n",
       "1     Del Norte        1    0\n",
       "2     Del Norte        1    0\n",
       "3     Del Norte        1    1\n",
       "4     Del Norte        1    0\n",
       "...         ...      ...  ...\n",
       "1545  San Diego        1    0\n",
       "1546  San Diego        1    0\n",
       "1547  San Diego        1    0\n",
       "1548  San Diego        1    1\n",
       "1549   Humboldt        0    0\n",
       "\n",
       "[1550 rows x 3 columns]"
      ]
     },
     "execution_count": 604,
     "metadata": {},
     "output_type": "execute_result"
    }
   ],
   "source": [
    "#... processed_beaches\n",
    "processed_beaches = new.assign(PARKING=parking_converted,FEE=fee_converted)\n",
    "processed_beaches"
   ]
  },
  {
   "cell_type": "code",
   "execution_count": 605,
   "metadata": {},
   "outputs": [
    {
     "name": "stdout",
     "output_type": "stream",
     "text": [
      "~~~~~~~~~~~~~~~~~~~~~~~~~~~~~~~~~~~~~~~~~~~~~~~~~~~~~~~~~~~~~~~~~~~~~\n",
      "Running tests\n",
      "\n",
      "---------------------------------------------------------------------\n",
      "Test summary\n",
      "    Passed: 1\n",
      "    Failed: 0\n",
      "[ooooooooook] 100.0% passed\n",
      "\n"
     ]
    }
   ],
   "source": [
    "_ = ok.grade('q2_4')"
   ]
  },
  {
   "cell_type": "markdown",
   "metadata": {},
   "source": [
    "**Question 2.5.** Now create a new dataframe with the average rating for each county and save it in `ratings`. The first few rows of your answer should look like this.\n",
    "\n",
    "<img width=30% src=\"./q25_output.png\"/>"
   ]
  },
  {
   "cell_type": "code",
   "execution_count": 606,
   "metadata": {},
   "outputs": [
    {
     "data": {
      "text/html": [
       "<div>\n",
       "<style scoped>\n",
       "    .dataframe tbody tr th:only-of-type {\n",
       "        vertical-align: middle;\n",
       "    }\n",
       "\n",
       "    .dataframe tbody tr th {\n",
       "        vertical-align: top;\n",
       "    }\n",
       "\n",
       "    .dataframe thead th {\n",
       "        text-align: right;\n",
       "    }\n",
       "</style>\n",
       "<table border=\"1\" class=\"dataframe\">\n",
       "  <thead>\n",
       "    <tr style=\"text-align: right;\">\n",
       "      <th></th>\n",
       "      <th>RATING</th>\n",
       "    </tr>\n",
       "    <tr>\n",
       "      <th>COUNTY</th>\n",
       "      <th></th>\n",
       "    </tr>\n",
       "  </thead>\n",
       "  <tbody>\n",
       "    <tr>\n",
       "      <th>Del Norte</th>\n",
       "      <td>2.717391</td>\n",
       "    </tr>\n",
       "    <tr>\n",
       "      <th>Humboldt</th>\n",
       "      <td>2.785714</td>\n",
       "    </tr>\n",
       "    <tr>\n",
       "      <th>Los Angeles</th>\n",
       "      <td>2.388393</td>\n",
       "    </tr>\n",
       "    <tr>\n",
       "      <th>Marin</th>\n",
       "      <td>2.651163</td>\n",
       "    </tr>\n",
       "    <tr>\n",
       "      <th>Mendocino</th>\n",
       "      <td>2.520000</td>\n",
       "    </tr>\n",
       "    <tr>\n",
       "      <th>...</th>\n",
       "      <td>...</td>\n",
       "    </tr>\n",
       "    <tr>\n",
       "      <th>San Mateo</th>\n",
       "      <td>2.605263</td>\n",
       "    </tr>\n",
       "    <tr>\n",
       "      <th>Santa Barbara</th>\n",
       "      <td>2.477778</td>\n",
       "    </tr>\n",
       "    <tr>\n",
       "      <th>Santa Cruz</th>\n",
       "      <td>2.579545</td>\n",
       "    </tr>\n",
       "    <tr>\n",
       "      <th>Sonoma</th>\n",
       "      <td>2.524590</td>\n",
       "    </tr>\n",
       "    <tr>\n",
       "      <th>Ventura</th>\n",
       "      <td>2.555556</td>\n",
       "    </tr>\n",
       "  </tbody>\n",
       "</table>\n",
       "<p>15 rows × 1 columns</p>\n",
       "</div>"
      ],
      "text/plain": [
       "                 RATING\n",
       "COUNTY                 \n",
       "Del Norte      2.717391\n",
       "Humboldt       2.785714\n",
       "Los Angeles    2.388393\n",
       "Marin          2.651163\n",
       "Mendocino      2.520000\n",
       "...                 ...\n",
       "San Mateo      2.605263\n",
       "Santa Barbara  2.477778\n",
       "Santa Cruz     2.579545\n",
       "Sonoma         2.524590\n",
       "Ventura        2.555556\n",
       "\n",
       "[15 rows x 1 columns]"
      ]
     },
     "execution_count": 606,
     "metadata": {},
     "output_type": "execute_result"
    }
   ],
   "source": [
    "a=processed_beaches.get('PARKING')\n",
    "b=processed_beaches.get('FEE')*(-1)\n",
    "c=(a+b)+2\n",
    "d=processed_beaches.assign(RATING=c).drop(columns=(['PARKING','FEE']))\n",
    "e=d.groupby('COUNTY').mean()\n",
    "e"
   ]
  },
  {
   "cell_type": "code",
   "execution_count": 607,
   "metadata": {},
   "outputs": [
    {
     "data": {
      "text/html": [
       "<div>\n",
       "<style scoped>\n",
       "    .dataframe tbody tr th:only-of-type {\n",
       "        vertical-align: middle;\n",
       "    }\n",
       "\n",
       "    .dataframe tbody tr th {\n",
       "        vertical-align: top;\n",
       "    }\n",
       "\n",
       "    .dataframe thead th {\n",
       "        text-align: right;\n",
       "    }\n",
       "</style>\n",
       "<table border=\"1\" class=\"dataframe\">\n",
       "  <thead>\n",
       "    <tr style=\"text-align: right;\">\n",
       "      <th></th>\n",
       "      <th>RATING</th>\n",
       "    </tr>\n",
       "    <tr>\n",
       "      <th>COUNTY</th>\n",
       "      <th></th>\n",
       "    </tr>\n",
       "  </thead>\n",
       "  <tbody>\n",
       "    <tr>\n",
       "      <th>Del Norte</th>\n",
       "      <td>2.717391</td>\n",
       "    </tr>\n",
       "    <tr>\n",
       "      <th>Humboldt</th>\n",
       "      <td>2.785714</td>\n",
       "    </tr>\n",
       "    <tr>\n",
       "      <th>Los Angeles</th>\n",
       "      <td>2.388393</td>\n",
       "    </tr>\n",
       "    <tr>\n",
       "      <th>Marin</th>\n",
       "      <td>2.651163</td>\n",
       "    </tr>\n",
       "    <tr>\n",
       "      <th>Mendocino</th>\n",
       "      <td>2.520000</td>\n",
       "    </tr>\n",
       "    <tr>\n",
       "      <th>...</th>\n",
       "      <td>...</td>\n",
       "    </tr>\n",
       "    <tr>\n",
       "      <th>San Mateo</th>\n",
       "      <td>2.605263</td>\n",
       "    </tr>\n",
       "    <tr>\n",
       "      <th>Santa Barbara</th>\n",
       "      <td>2.477778</td>\n",
       "    </tr>\n",
       "    <tr>\n",
       "      <th>Santa Cruz</th>\n",
       "      <td>2.579545</td>\n",
       "    </tr>\n",
       "    <tr>\n",
       "      <th>Sonoma</th>\n",
       "      <td>2.524590</td>\n",
       "    </tr>\n",
       "    <tr>\n",
       "      <th>Ventura</th>\n",
       "      <td>2.555556</td>\n",
       "    </tr>\n",
       "  </tbody>\n",
       "</table>\n",
       "<p>15 rows × 1 columns</p>\n",
       "</div>"
      ],
      "text/plain": [
       "                 RATING\n",
       "COUNTY                 \n",
       "Del Norte      2.717391\n",
       "Humboldt       2.785714\n",
       "Los Angeles    2.388393\n",
       "Marin          2.651163\n",
       "Mendocino      2.520000\n",
       "...                 ...\n",
       "San Mateo      2.605263\n",
       "Santa Barbara  2.477778\n",
       "Santa Cruz     2.579545\n",
       "Sonoma         2.524590\n",
       "Ventura        2.555556\n",
       "\n",
       "[15 rows x 1 columns]"
      ]
     },
     "execution_count": 607,
     "metadata": {},
     "output_type": "execute_result"
    }
   ],
   "source": [
    "#3 stars for beaches with free parking\n",
    "#2 stars for beaches with paid parking or free beaches with no parking\n",
    "#1 star for paid beaches with no parking.\n",
    "\n",
    "#...ratings\n",
    "ratings = e\n",
    "ratings"
   ]
  },
  {
   "cell_type": "code",
   "execution_count": 764,
   "metadata": {},
   "outputs": [
    {
     "name": "stdout",
     "output_type": "stream",
     "text": [
      "~~~~~~~~~~~~~~~~~~~~~~~~~~~~~~~~~~~~~~~~~~~~~~~~~~~~~~~~~~~~~~~~~~~~~\n",
      "Running tests\n",
      "\n",
      "---------------------------------------------------------------------\n",
      "Test summary\n",
      "    Passed: 1\n",
      "    Failed: 0\n",
      "[ooooooooook] 100.0% passed\n",
      "\n"
     ]
    }
   ],
   "source": [
    "_ = ok.grade('q2_5')"
   ]
  },
  {
   "cell_type": "markdown",
   "metadata": {},
   "source": [
    "**Question 2.6.** Highway 101 stretches from Los Angeles to the Canadian border. How many beaches in the dataset are on Highway 101? *Hint*: Look for the string \"Hwy. 101\"."
   ]
  },
  {
   "cell_type": "code",
   "execution_count": 609,
   "metadata": {},
   "outputs": [
    {
     "data": {
      "text/plain": [
       "84"
      ]
     },
     "execution_count": 609,
     "metadata": {},
     "output_type": "execute_result"
    }
   ],
   "source": [
    "#... number_on_101\n",
    "number_on_101 = beaches[beaches.get('LOCATION').str.contains('Hwy. 101')].shape[0]\n",
    "number_on_101"
   ]
  },
  {
   "cell_type": "code",
   "execution_count": 610,
   "metadata": {},
   "outputs": [
    {
     "name": "stdout",
     "output_type": "stream",
     "text": [
      "~~~~~~~~~~~~~~~~~~~~~~~~~~~~~~~~~~~~~~~~~~~~~~~~~~~~~~~~~~~~~~~~~~~~~\n",
      "Running tests\n",
      "\n",
      "---------------------------------------------------------------------\n",
      "Test summary\n",
      "    Passed: 1\n",
      "    Failed: 0\n",
      "[ooooooooook] 100.0% passed\n",
      "\n"
     ]
    }
   ],
   "source": [
    "_ = ok.grade('q2_6')"
   ]
  },
  {
   "cell_type": "markdown",
   "metadata": {},
   "source": [
    "**Question 2.7.** Plot a density histogram of the beach locations by longitude. Use 15 bins."
   ]
  },
  {
   "cell_type": "code",
   "execution_count": 611,
   "metadata": {},
   "outputs": [
    {
     "data": {
      "text/plain": [
       "<matplotlib.axes._subplots.AxesSubplot at 0x7f661922b3c8>"
      ]
     },
     "execution_count": 611,
     "metadata": {},
     "output_type": "execute_result"
    },
    {
     "data": {
      "image/png": "[encoded data removed]",
      "text/plain": [
       "<Figure size 432x288 with 1 Axes>"
      ]
     },
     "metadata": {},
     "output_type": "display_data"
    }
   ],
   "source": [
    "#place your code here\n",
    "beaches.get('LONGITUDE').plot(kind='hist', bins=15, density=True)"
   ]
  },
  {
   "cell_type": "markdown",
   "metadata": {},
   "source": [
    "**Question 2.8.** What is the name of the southernmost beach in California?"
   ]
  },
  {
   "cell_type": "code",
   "execution_count": 612,
   "metadata": {},
   "outputs": [],
   "source": [
    "a=beaches.get('LATITUDE').sort_values()\n",
    "b=a.index[0]\n",
    "c=beaches.iloc[b].get('NAME')"
   ]
  },
  {
   "cell_type": "code",
   "execution_count": 613,
   "metadata": {},
   "outputs": [
    {
     "data": {
      "text/plain": [
       "'Tijuana River Valley Regional Park'"
      ]
     },
     "execution_count": 613,
     "metadata": {},
     "output_type": "execute_result"
    }
   ],
   "source": [
    "#... southernmost_beach\n",
    "southernmost_beach = c\n",
    "southernmost_beach"
   ]
  },
  {
   "cell_type": "code",
   "execution_count": 614,
   "metadata": {},
   "outputs": [
    {
     "name": "stdout",
     "output_type": "stream",
     "text": [
      "~~~~~~~~~~~~~~~~~~~~~~~~~~~~~~~~~~~~~~~~~~~~~~~~~~~~~~~~~~~~~~~~~~~~~\n",
      "Running tests\n",
      "\n",
      "---------------------------------------------------------------------\n",
      "Test summary\n",
      "    Passed: 1\n",
      "    Failed: 0\n",
      "[ooooooooook] 100.0% passed\n",
      "\n"
     ]
    }
   ],
   "source": [
    "_ = ok.grade('q2_8')"
   ]
  },
  {
   "cell_type": "markdown",
   "metadata": {},
   "source": [
    "## 3. Climate Change\n",
    "\n",
    "<img width=90% src=\"./scripps.jpg\"/>\n",
    "\n",
    "California has plenty of coastline, but it is eroding at an alarming rate due to rising sea levels. The USGS [estimates](https://www.usgs.gov/news/sea-level-rise-could-double-erosion-rates-southern-california-coastal-cliffs) that bluffs along the coast of Southern California could be suffer erosion of anywhere from 65 to 135 feet by the year 2100.\n",
    "\n",
    "The file `sea_temp.csv` contains historical measurements of the surface temperature (in Celsius) of the water at the La Jolla oceanographic station; `sea_level.csv` contains measurements of the sea level relative to a global baseline (in meters)."
   ]
  },
  {
   "cell_type": "code",
   "execution_count": 806,
   "metadata": {},
   "outputs": [
    {
     "data": {
      "text/html": [
       "<div>\n",
       "<style scoped>\n",
       "    .dataframe tbody tr th:only-of-type {\n",
       "        vertical-align: middle;\n",
       "    }\n",
       "\n",
       "    .dataframe tbody tr th {\n",
       "        vertical-align: top;\n",
       "    }\n",
       "\n",
       "    .dataframe thead th {\n",
       "        text-align: right;\n",
       "    }\n",
       "</style>\n",
       "<table border=\"1\" class=\"dataframe\">\n",
       "  <thead>\n",
       "    <tr style=\"text-align: right;\">\n",
       "      <th></th>\n",
       "      <th>YEAR</th>\n",
       "      <th>MONTH</th>\n",
       "      <th>DAY</th>\n",
       "      <th>SURFACE_TEMP</th>\n",
       "    </tr>\n",
       "  </thead>\n",
       "  <tbody>\n",
       "    <tr>\n",
       "      <th>0</th>\n",
       "      <td>1916</td>\n",
       "      <td>8</td>\n",
       "      <td>22</td>\n",
       "      <td>19.5</td>\n",
       "    </tr>\n",
       "    <tr>\n",
       "      <th>1</th>\n",
       "      <td>1916</td>\n",
       "      <td>8</td>\n",
       "      <td>23</td>\n",
       "      <td>19.9</td>\n",
       "    </tr>\n",
       "    <tr>\n",
       "      <th>2</th>\n",
       "      <td>1916</td>\n",
       "      <td>8</td>\n",
       "      <td>24</td>\n",
       "      <td>19.7</td>\n",
       "    </tr>\n",
       "    <tr>\n",
       "      <th>3</th>\n",
       "      <td>1916</td>\n",
       "      <td>8</td>\n",
       "      <td>25</td>\n",
       "      <td>19.7</td>\n",
       "    </tr>\n",
       "    <tr>\n",
       "      <th>4</th>\n",
       "      <td>1916</td>\n",
       "      <td>8</td>\n",
       "      <td>26</td>\n",
       "      <td>19.5</td>\n",
       "    </tr>\n",
       "    <tr>\n",
       "      <th>...</th>\n",
       "      <td>...</td>\n",
       "      <td>...</td>\n",
       "      <td>...</td>\n",
       "      <td>...</td>\n",
       "    </tr>\n",
       "    <tr>\n",
       "      <th>36292</th>\n",
       "      <td>2019</td>\n",
       "      <td>5</td>\n",
       "      <td>26</td>\n",
       "      <td>18.0</td>\n",
       "    </tr>\n",
       "    <tr>\n",
       "      <th>36293</th>\n",
       "      <td>2019</td>\n",
       "      <td>5</td>\n",
       "      <td>27</td>\n",
       "      <td>17.6</td>\n",
       "    </tr>\n",
       "    <tr>\n",
       "      <th>36294</th>\n",
       "      <td>2019</td>\n",
       "      <td>5</td>\n",
       "      <td>28</td>\n",
       "      <td>17.1</td>\n",
       "    </tr>\n",
       "    <tr>\n",
       "      <th>36295</th>\n",
       "      <td>2019</td>\n",
       "      <td>5</td>\n",
       "      <td>29</td>\n",
       "      <td>18.1</td>\n",
       "    </tr>\n",
       "    <tr>\n",
       "      <th>36296</th>\n",
       "      <td>2019</td>\n",
       "      <td>5</td>\n",
       "      <td>31</td>\n",
       "      <td>18.3</td>\n",
       "    </tr>\n",
       "  </tbody>\n",
       "</table>\n",
       "<p>36297 rows × 4 columns</p>\n",
       "</div>"
      ],
      "text/plain": [
       "       YEAR  MONTH  DAY  SURFACE_TEMP\n",
       "0      1916      8   22          19.5\n",
       "1      1916      8   23          19.9\n",
       "2      1916      8   24          19.7\n",
       "3      1916      8   25          19.7\n",
       "4      1916      8   26          19.5\n",
       "...     ...    ...  ...           ...\n",
       "36292  2019      5   26          18.0\n",
       "36293  2019      5   27          17.6\n",
       "36294  2019      5   28          17.1\n",
       "36295  2019      5   29          18.1\n",
       "36296  2019      5   31          18.3\n",
       "\n",
       "[36297 rows x 4 columns]"
      ]
     },
     "execution_count": 806,
     "metadata": {},
     "output_type": "execute_result"
    }
   ],
   "source": [
    "sea_temp= bpd.read_csv('data/sea_temp.csv')\n",
    "sea_temp"
   ]
  },
  {
   "cell_type": "code",
   "execution_count": 807,
   "metadata": {},
   "outputs": [
    {
     "data": {
      "text/html": [
       "<div>\n",
       "<style scoped>\n",
       "    .dataframe tbody tr th:only-of-type {\n",
       "        vertical-align: middle;\n",
       "    }\n",
       "\n",
       "    .dataframe tbody tr th {\n",
       "        vertical-align: top;\n",
       "    }\n",
       "\n",
       "    .dataframe thead th {\n",
       "        text-align: right;\n",
       "    }\n",
       "</style>\n",
       "<table border=\"1\" class=\"dataframe\">\n",
       "  <thead>\n",
       "    <tr style=\"text-align: right;\">\n",
       "      <th></th>\n",
       "      <th>year</th>\n",
       "      <th>month</th>\n",
       "      <th>level</th>\n",
       "    </tr>\n",
       "  </thead>\n",
       "  <tbody>\n",
       "    <tr>\n",
       "      <th>0</th>\n",
       "      <td>1924</td>\n",
       "      <td>11</td>\n",
       "      <td>-0.225</td>\n",
       "    </tr>\n",
       "    <tr>\n",
       "      <th>1</th>\n",
       "      <td>1924</td>\n",
       "      <td>12</td>\n",
       "      <td>-0.195</td>\n",
       "    </tr>\n",
       "    <tr>\n",
       "      <th>2</th>\n",
       "      <td>1925</td>\n",
       "      <td>1</td>\n",
       "      <td>-0.198</td>\n",
       "    </tr>\n",
       "    <tr>\n",
       "      <th>3</th>\n",
       "      <td>1925</td>\n",
       "      <td>2</td>\n",
       "      <td>-0.207</td>\n",
       "    </tr>\n",
       "    <tr>\n",
       "      <th>4</th>\n",
       "      <td>1925</td>\n",
       "      <td>3</td>\n",
       "      <td>-0.150</td>\n",
       "    </tr>\n",
       "    <tr>\n",
       "      <th>...</th>\n",
       "      <td>...</td>\n",
       "      <td>...</td>\n",
       "      <td>...</td>\n",
       "    </tr>\n",
       "    <tr>\n",
       "      <th>1136</th>\n",
       "      <td>2019</td>\n",
       "      <td>7</td>\n",
       "      <td>0.006</td>\n",
       "    </tr>\n",
       "    <tr>\n",
       "      <th>1137</th>\n",
       "      <td>2019</td>\n",
       "      <td>8</td>\n",
       "      <td>-0.008</td>\n",
       "    </tr>\n",
       "    <tr>\n",
       "      <th>1138</th>\n",
       "      <td>2019</td>\n",
       "      <td>9</td>\n",
       "      <td>0.036</td>\n",
       "    </tr>\n",
       "    <tr>\n",
       "      <th>1139</th>\n",
       "      <td>2019</td>\n",
       "      <td>10</td>\n",
       "      <td>0.020</td>\n",
       "    </tr>\n",
       "    <tr>\n",
       "      <th>1140</th>\n",
       "      <td>2019</td>\n",
       "      <td>11</td>\n",
       "      <td>0.097</td>\n",
       "    </tr>\n",
       "  </tbody>\n",
       "</table>\n",
       "<p>1141 rows × 3 columns</p>\n",
       "</div>"
      ],
      "text/plain": [
       "      year  month  level\n",
       "0     1924     11 -0.225\n",
       "1     1924     12 -0.195\n",
       "2     1925      1 -0.198\n",
       "3     1925      2 -0.207\n",
       "4     1925      3 -0.150\n",
       "...    ...    ...    ...\n",
       "1136  2019      7  0.006\n",
       "1137  2019      8 -0.008\n",
       "1138  2019      9  0.036\n",
       "1139  2019     10  0.020\n",
       "1140  2019     11  0.097\n",
       "\n",
       "[1141 rows x 3 columns]"
      ]
     },
     "execution_count": 807,
     "metadata": {},
     "output_type": "execute_result"
    }
   ],
   "source": [
    "sea_level = bpd.read_csv('data/sea_level.csv')\n",
    "sea_level"
   ]
  },
  {
   "cell_type": "markdown",
   "metadata": {},
   "source": [
    "**Question 3.1.** Create a new table named `sea_level_rounded` which has the same three columns as `sea_level`, but where the \"level\" column is rounded to 2 decimal points.\n"
   ]
  },
  {
   "cell_type": "code",
   "execution_count": 799,
   "metadata": {},
   "outputs": [
    {
     "data": {
      "text/plain": [
       "array([-0.22, -0.2 , -0.2 , ...,  0.04,  0.02,  0.1 ])"
      ]
     },
     "execution_count": 799,
     "metadata": {},
     "output_type": "execute_result"
    }
   ],
   "source": [
    "a=sea_level.get('level')\n",
    "b=np.round(a,2)\n",
    "c=np.array(b)\n",
    "c"
   ]
  },
  {
   "cell_type": "code",
   "execution_count": 800,
   "metadata": {},
   "outputs": [
    {
     "data": {
      "text/html": [
       "<div>\n",
       "<style scoped>\n",
       "    .dataframe tbody tr th:only-of-type {\n",
       "        vertical-align: middle;\n",
       "    }\n",
       "\n",
       "    .dataframe tbody tr th {\n",
       "        vertical-align: top;\n",
       "    }\n",
       "\n",
       "    .dataframe thead th {\n",
       "        text-align: right;\n",
       "    }\n",
       "</style>\n",
       "<table border=\"1\" class=\"dataframe\">\n",
       "  <thead>\n",
       "    <tr style=\"text-align: right;\">\n",
       "      <th></th>\n",
       "      <th>year</th>\n",
       "      <th>month</th>\n",
       "      <th>level</th>\n",
       "    </tr>\n",
       "  </thead>\n",
       "  <tbody>\n",
       "    <tr>\n",
       "      <th>0</th>\n",
       "      <td>1924</td>\n",
       "      <td>11</td>\n",
       "      <td>-0.22</td>\n",
       "    </tr>\n",
       "    <tr>\n",
       "      <th>1</th>\n",
       "      <td>1924</td>\n",
       "      <td>12</td>\n",
       "      <td>-0.20</td>\n",
       "    </tr>\n",
       "    <tr>\n",
       "      <th>2</th>\n",
       "      <td>1925</td>\n",
       "      <td>1</td>\n",
       "      <td>-0.20</td>\n",
       "    </tr>\n",
       "    <tr>\n",
       "      <th>3</th>\n",
       "      <td>1925</td>\n",
       "      <td>2</td>\n",
       "      <td>-0.21</td>\n",
       "    </tr>\n",
       "    <tr>\n",
       "      <th>4</th>\n",
       "      <td>1925</td>\n",
       "      <td>3</td>\n",
       "      <td>-0.15</td>\n",
       "    </tr>\n",
       "    <tr>\n",
       "      <th>...</th>\n",
       "      <td>...</td>\n",
       "      <td>...</td>\n",
       "      <td>...</td>\n",
       "    </tr>\n",
       "    <tr>\n",
       "      <th>1136</th>\n",
       "      <td>2019</td>\n",
       "      <td>7</td>\n",
       "      <td>0.01</td>\n",
       "    </tr>\n",
       "    <tr>\n",
       "      <th>1137</th>\n",
       "      <td>2019</td>\n",
       "      <td>8</td>\n",
       "      <td>-0.01</td>\n",
       "    </tr>\n",
       "    <tr>\n",
       "      <th>1138</th>\n",
       "      <td>2019</td>\n",
       "      <td>9</td>\n",
       "      <td>0.04</td>\n",
       "    </tr>\n",
       "    <tr>\n",
       "      <th>1139</th>\n",
       "      <td>2019</td>\n",
       "      <td>10</td>\n",
       "      <td>0.02</td>\n",
       "    </tr>\n",
       "    <tr>\n",
       "      <th>1140</th>\n",
       "      <td>2019</td>\n",
       "      <td>11</td>\n",
       "      <td>0.10</td>\n",
       "    </tr>\n",
       "  </tbody>\n",
       "</table>\n",
       "<p>1141 rows × 3 columns</p>\n",
       "</div>"
      ],
      "text/plain": [
       "      year  month  level\n",
       "0     1924     11  -0.22\n",
       "1     1924     12  -0.20\n",
       "2     1925      1  -0.20\n",
       "3     1925      2  -0.21\n",
       "4     1925      3  -0.15\n",
       "...    ...    ...    ...\n",
       "1136  2019      7   0.01\n",
       "1137  2019      8  -0.01\n",
       "1138  2019      9   0.04\n",
       "1139  2019     10   0.02\n",
       "1140  2019     11   0.10\n",
       "\n",
       "[1141 rows x 3 columns]"
      ]
     },
     "execution_count": 800,
     "metadata": {},
     "output_type": "execute_result"
    }
   ],
   "source": [
    "sea_level_rounded=sea_level.assign(level=b)\n",
    "sea_level_rounded"
   ]
  },
  {
   "cell_type": "code",
   "execution_count": 801,
   "metadata": {},
   "outputs": [
    {
     "name": "stdout",
     "output_type": "stream",
     "text": [
      "~~~~~~~~~~~~~~~~~~~~~~~~~~~~~~~~~~~~~~~~~~~~~~~~~~~~~~~~~~~~~~~~~~~~~\n",
      "Running tests\n",
      "\n",
      "---------------------------------------------------------------------\n",
      "Test summary\n",
      "    Passed: 1\n",
      "    Failed: 0\n",
      "[ooooooooook] 100.0% passed\n",
      "\n"
     ]
    }
   ],
   "source": [
    "_ = ok.grade('q3_1')"
   ]
  },
  {
   "cell_type": "markdown",
   "metadata": {},
   "source": [
    "**Question 3.2.** Create a new table named `sea_temp_kelvin` which has the same three columns as `sea_temp`, but where the \"SURFACE_TEMP\" column is measured in kelvin instead of Celsius and give this column a new name ‘SURFACE_TEMP_K”.\n"
   ]
  },
  {
   "cell_type": "code",
   "execution_count": 619,
   "metadata": {},
   "outputs": [
    {
     "data": {
      "text/html": [
       "<div>\n",
       "<style scoped>\n",
       "    .dataframe tbody tr th:only-of-type {\n",
       "        vertical-align: middle;\n",
       "    }\n",
       "\n",
       "    .dataframe tbody tr th {\n",
       "        vertical-align: top;\n",
       "    }\n",
       "\n",
       "    .dataframe thead th {\n",
       "        text-align: right;\n",
       "    }\n",
       "</style>\n",
       "<table border=\"1\" class=\"dataframe\">\n",
       "  <thead>\n",
       "    <tr style=\"text-align: right;\">\n",
       "      <th></th>\n",
       "      <th>YEAR</th>\n",
       "      <th>MONTH</th>\n",
       "      <th>DAY</th>\n",
       "      <th>SURFACE_TEMP_K</th>\n",
       "    </tr>\n",
       "  </thead>\n",
       "  <tbody>\n",
       "    <tr>\n",
       "      <th>0</th>\n",
       "      <td>1916</td>\n",
       "      <td>8</td>\n",
       "      <td>22</td>\n",
       "      <td>292.65</td>\n",
       "    </tr>\n",
       "    <tr>\n",
       "      <th>1</th>\n",
       "      <td>1916</td>\n",
       "      <td>8</td>\n",
       "      <td>23</td>\n",
       "      <td>293.05</td>\n",
       "    </tr>\n",
       "    <tr>\n",
       "      <th>2</th>\n",
       "      <td>1916</td>\n",
       "      <td>8</td>\n",
       "      <td>24</td>\n",
       "      <td>292.85</td>\n",
       "    </tr>\n",
       "    <tr>\n",
       "      <th>3</th>\n",
       "      <td>1916</td>\n",
       "      <td>8</td>\n",
       "      <td>25</td>\n",
       "      <td>292.85</td>\n",
       "    </tr>\n",
       "    <tr>\n",
       "      <th>4</th>\n",
       "      <td>1916</td>\n",
       "      <td>8</td>\n",
       "      <td>26</td>\n",
       "      <td>292.65</td>\n",
       "    </tr>\n",
       "    <tr>\n",
       "      <th>...</th>\n",
       "      <td>...</td>\n",
       "      <td>...</td>\n",
       "      <td>...</td>\n",
       "      <td>...</td>\n",
       "    </tr>\n",
       "    <tr>\n",
       "      <th>36292</th>\n",
       "      <td>2019</td>\n",
       "      <td>5</td>\n",
       "      <td>26</td>\n",
       "      <td>291.15</td>\n",
       "    </tr>\n",
       "    <tr>\n",
       "      <th>36293</th>\n",
       "      <td>2019</td>\n",
       "      <td>5</td>\n",
       "      <td>27</td>\n",
       "      <td>290.75</td>\n",
       "    </tr>\n",
       "    <tr>\n",
       "      <th>36294</th>\n",
       "      <td>2019</td>\n",
       "      <td>5</td>\n",
       "      <td>28</td>\n",
       "      <td>290.25</td>\n",
       "    </tr>\n",
       "    <tr>\n",
       "      <th>36295</th>\n",
       "      <td>2019</td>\n",
       "      <td>5</td>\n",
       "      <td>29</td>\n",
       "      <td>291.25</td>\n",
       "    </tr>\n",
       "    <tr>\n",
       "      <th>36296</th>\n",
       "      <td>2019</td>\n",
       "      <td>5</td>\n",
       "      <td>31</td>\n",
       "      <td>291.45</td>\n",
       "    </tr>\n",
       "  </tbody>\n",
       "</table>\n",
       "<p>36297 rows × 4 columns</p>\n",
       "</div>"
      ],
      "text/plain": [
       "       YEAR  MONTH  DAY  SURFACE_TEMP_K\n",
       "0      1916      8   22          292.65\n",
       "1      1916      8   23          293.05\n",
       "2      1916      8   24          292.85\n",
       "3      1916      8   25          292.85\n",
       "4      1916      8   26          292.65\n",
       "...     ...    ...  ...             ...\n",
       "36292  2019      5   26          291.15\n",
       "36293  2019      5   27          290.75\n",
       "36294  2019      5   28          290.25\n",
       "36295  2019      5   29          291.25\n",
       "36296  2019      5   31          291.45\n",
       "\n",
       "[36297 rows x 4 columns]"
      ]
     },
     "execution_count": 619,
     "metadata": {},
     "output_type": "execute_result"
    }
   ],
   "source": [
    "a=sea_temp.get('SURFACE_TEMP')+273.15\n",
    "b=sea_temp.assign(SURFACE_TEMP_K=a).drop(columns=(['SURFACE_TEMP']))\n",
    "#... sea_temp_kelvin\n",
    "sea_temp_kelvin = b\n",
    "sea_temp_kelvin"
   ]
  },
  {
   "cell_type": "code",
   "execution_count": 620,
   "metadata": {},
   "outputs": [
    {
     "name": "stdout",
     "output_type": "stream",
     "text": [
      "~~~~~~~~~~~~~~~~~~~~~~~~~~~~~~~~~~~~~~~~~~~~~~~~~~~~~~~~~~~~~~~~~~~~~\n",
      "Running tests\n",
      "\n",
      "---------------------------------------------------------------------\n",
      "Test summary\n",
      "    Passed: 1\n",
      "    Failed: 0\n",
      "[ooooooooook] 100.0% passed\n",
      "\n"
     ]
    }
   ],
   "source": [
    "_ = ok.grade('q3_2')"
   ]
  },
  {
   "cell_type": "markdown",
   "metadata": {},
   "source": [
    "**Question 3.3.** Create a new table named `sea_averages` which contains one row for each year and two columns: \"TEMPERATURE\", containing the average sea temperature in Kelvin for each year, and \"LEVEL\", containing the average sea level in meter for each year. Note that historical temperatures go back to 1916, but historical sea level measurements only go back to 1924. Therefore your table will only have rows for 1924 to 2019. The index of your table should contain the years.\n",
    "\n",
    "*Hint*: As always, you can create intermediate variables.\n",
    "\n"
   ]
  },
  {
   "cell_type": "code",
   "execution_count": 621,
   "metadata": {},
   "outputs": [],
   "source": [
    "a=sea_temp_kelvin.groupby('YEAR').mean().get('SURFACE_TEMP_K')\n",
    "b=sea_level.groupby('year').mean().get('level')\n",
    "c=sea_level.get('year')\n",
    "d=a.iloc[8:]"
   ]
  },
  {
   "cell_type": "code",
   "execution_count": 622,
   "metadata": {},
   "outputs": [
    {
     "data": {
      "text/html": [
       "<div>\n",
       "<style scoped>\n",
       "    .dataframe tbody tr th:only-of-type {\n",
       "        vertical-align: middle;\n",
       "    }\n",
       "\n",
       "    .dataframe tbody tr th {\n",
       "        vertical-align: top;\n",
       "    }\n",
       "\n",
       "    .dataframe thead th {\n",
       "        text-align: right;\n",
       "    }\n",
       "</style>\n",
       "<table border=\"1\" class=\"dataframe\">\n",
       "  <thead>\n",
       "    <tr style=\"text-align: right;\">\n",
       "      <th></th>\n",
       "      <th>TEMPERATURE</th>\n",
       "      <th>LEVEL</th>\n",
       "    </tr>\n",
       "    <tr>\n",
       "      <th>YEAR</th>\n",
       "      <th></th>\n",
       "      <th></th>\n",
       "    </tr>\n",
       "  </thead>\n",
       "  <tbody>\n",
       "    <tr>\n",
       "      <th>1924</th>\n",
       "      <td>289.586808</td>\n",
       "      <td>-0.210000</td>\n",
       "    </tr>\n",
       "    <tr>\n",
       "      <th>1925</th>\n",
       "      <td>290.182329</td>\n",
       "      <td>-0.148000</td>\n",
       "    </tr>\n",
       "    <tr>\n",
       "      <th>1926</th>\n",
       "      <td>291.231096</td>\n",
       "      <td>-0.122000</td>\n",
       "    </tr>\n",
       "    <tr>\n",
       "      <th>1927</th>\n",
       "      <td>290.030274</td>\n",
       "      <td>-0.148833</td>\n",
       "    </tr>\n",
       "    <tr>\n",
       "      <th>1928</th>\n",
       "      <td>289.895082</td>\n",
       "      <td>-0.129000</td>\n",
       "    </tr>\n",
       "    <tr>\n",
       "      <th>...</th>\n",
       "      <td>...</td>\n",
       "      <td>...</td>\n",
       "    </tr>\n",
       "    <tr>\n",
       "      <th>2015</th>\n",
       "      <td>292.735294</td>\n",
       "      <td>0.123167</td>\n",
       "    </tr>\n",
       "    <tr>\n",
       "      <th>2016</th>\n",
       "      <td>291.817925</td>\n",
       "      <td>0.036333</td>\n",
       "    </tr>\n",
       "    <tr>\n",
       "      <th>2017</th>\n",
       "      <td>291.741030</td>\n",
       "      <td>0.028167</td>\n",
       "    </tr>\n",
       "    <tr>\n",
       "      <th>2018</th>\n",
       "      <td>292.232581</td>\n",
       "      <td>0.038000</td>\n",
       "    </tr>\n",
       "    <tr>\n",
       "      <th>2019</th>\n",
       "      <td>289.681933</td>\n",
       "      <td>0.032909</td>\n",
       "    </tr>\n",
       "  </tbody>\n",
       "</table>\n",
       "<p>96 rows × 2 columns</p>\n",
       "</div>"
      ],
      "text/plain": [
       "      TEMPERATURE     LEVEL\n",
       "YEAR                       \n",
       "1924   289.586808 -0.210000\n",
       "1925   290.182329 -0.148000\n",
       "1926   291.231096 -0.122000\n",
       "1927   290.030274 -0.148833\n",
       "1928   289.895082 -0.129000\n",
       "...           ...       ...\n",
       "2015   292.735294  0.123167\n",
       "2016   291.817925  0.036333\n",
       "2017   291.741030  0.028167\n",
       "2018   292.232581  0.038000\n",
       "2019   289.681933  0.032909\n",
       "\n",
       "[96 rows x 2 columns]"
      ]
     },
     "execution_count": 622,
     "metadata": {},
     "output_type": "execute_result"
    }
   ],
   "source": [
    "#... sea_averages\n",
    "sea_averages = bpd.DataFrame().assign(TEMPERATURE=d,LEVEL=b)\n",
    "sea_averages"
   ]
  },
  {
   "cell_type": "code",
   "execution_count": 623,
   "metadata": {},
   "outputs": [
    {
     "name": "stdout",
     "output_type": "stream",
     "text": [
      "~~~~~~~~~~~~~~~~~~~~~~~~~~~~~~~~~~~~~~~~~~~~~~~~~~~~~~~~~~~~~~~~~~~~~\n",
      "Running tests\n",
      "\n",
      "---------------------------------------------------------------------\n",
      "Test summary\n",
      "    Passed: 1\n",
      "    Failed: 0\n",
      "[ooooooooook] 100.0% passed\n",
      "\n"
     ]
    }
   ],
   "source": [
    "_ = ok.grade('q3_3')"
   ]
  },
  {
   "cell_type": "markdown",
   "metadata": {},
   "source": [
    "**Question 3.4.** Add a column called “INCREASE” to sea_averages dataframe that checks if the sea level in that year increased or not. Save it into a new dataframe called `sea_averages_added`.\n"
   ]
  },
  {
   "cell_type": "code",
   "execution_count": 624,
   "metadata": {},
   "outputs": [],
   "source": [
    "a=sea_averages.get('LEVEL') > 0\n",
    "b=sea_averages.assign(INCREASE=a)"
   ]
  },
  {
   "cell_type": "code",
   "execution_count": 625,
   "metadata": {},
   "outputs": [
    {
     "data": {
      "text/html": [
       "<div>\n",
       "<style scoped>\n",
       "    .dataframe tbody tr th:only-of-type {\n",
       "        vertical-align: middle;\n",
       "    }\n",
       "\n",
       "    .dataframe tbody tr th {\n",
       "        vertical-align: top;\n",
       "    }\n",
       "\n",
       "    .dataframe thead th {\n",
       "        text-align: right;\n",
       "    }\n",
       "</style>\n",
       "<table border=\"1\" class=\"dataframe\">\n",
       "  <thead>\n",
       "    <tr style=\"text-align: right;\">\n",
       "      <th></th>\n",
       "      <th>TEMPERATURE</th>\n",
       "      <th>LEVEL</th>\n",
       "      <th>INCREASE</th>\n",
       "    </tr>\n",
       "    <tr>\n",
       "      <th>YEAR</th>\n",
       "      <th></th>\n",
       "      <th></th>\n",
       "      <th></th>\n",
       "    </tr>\n",
       "  </thead>\n",
       "  <tbody>\n",
       "    <tr>\n",
       "      <th>1924</th>\n",
       "      <td>289.586808</td>\n",
       "      <td>-0.210000</td>\n",
       "      <td>False</td>\n",
       "    </tr>\n",
       "    <tr>\n",
       "      <th>1925</th>\n",
       "      <td>290.182329</td>\n",
       "      <td>-0.148000</td>\n",
       "      <td>False</td>\n",
       "    </tr>\n",
       "    <tr>\n",
       "      <th>1926</th>\n",
       "      <td>291.231096</td>\n",
       "      <td>-0.122000</td>\n",
       "      <td>False</td>\n",
       "    </tr>\n",
       "    <tr>\n",
       "      <th>1927</th>\n",
       "      <td>290.030274</td>\n",
       "      <td>-0.148833</td>\n",
       "      <td>False</td>\n",
       "    </tr>\n",
       "    <tr>\n",
       "      <th>1928</th>\n",
       "      <td>289.895082</td>\n",
       "      <td>-0.129000</td>\n",
       "      <td>False</td>\n",
       "    </tr>\n",
       "    <tr>\n",
       "      <th>...</th>\n",
       "      <td>...</td>\n",
       "      <td>...</td>\n",
       "      <td>...</td>\n",
       "    </tr>\n",
       "    <tr>\n",
       "      <th>2015</th>\n",
       "      <td>292.735294</td>\n",
       "      <td>0.123167</td>\n",
       "      <td>True</td>\n",
       "    </tr>\n",
       "    <tr>\n",
       "      <th>2016</th>\n",
       "      <td>291.817925</td>\n",
       "      <td>0.036333</td>\n",
       "      <td>True</td>\n",
       "    </tr>\n",
       "    <tr>\n",
       "      <th>2017</th>\n",
       "      <td>291.741030</td>\n",
       "      <td>0.028167</td>\n",
       "      <td>True</td>\n",
       "    </tr>\n",
       "    <tr>\n",
       "      <th>2018</th>\n",
       "      <td>292.232581</td>\n",
       "      <td>0.038000</td>\n",
       "      <td>True</td>\n",
       "    </tr>\n",
       "    <tr>\n",
       "      <th>2019</th>\n",
       "      <td>289.681933</td>\n",
       "      <td>0.032909</td>\n",
       "      <td>True</td>\n",
       "    </tr>\n",
       "  </tbody>\n",
       "</table>\n",
       "<p>96 rows × 3 columns</p>\n",
       "</div>"
      ],
      "text/plain": [
       "      TEMPERATURE     LEVEL  INCREASE\n",
       "YEAR                                 \n",
       "1924   289.586808 -0.210000     False\n",
       "1925   290.182329 -0.148000     False\n",
       "1926   291.231096 -0.122000     False\n",
       "1927   290.030274 -0.148833     False\n",
       "1928   289.895082 -0.129000     False\n",
       "...           ...       ...       ...\n",
       "2015   292.735294  0.123167      True\n",
       "2016   291.817925  0.036333      True\n",
       "2017   291.741030  0.028167      True\n",
       "2018   292.232581  0.038000      True\n",
       "2019   289.681933  0.032909      True\n",
       "\n",
       "[96 rows x 3 columns]"
      ]
     },
     "execution_count": 625,
     "metadata": {},
     "output_type": "execute_result"
    }
   ],
   "source": [
    "#... sea_averages_added\n",
    "sea_averages_added = b\n",
    "sea_averages_added"
   ]
  },
  {
   "cell_type": "code",
   "execution_count": 626,
   "metadata": {},
   "outputs": [
    {
     "name": "stdout",
     "output_type": "stream",
     "text": [
      "~~~~~~~~~~~~~~~~~~~~~~~~~~~~~~~~~~~~~~~~~~~~~~~~~~~~~~~~~~~~~~~~~~~~~\n",
      "Running tests\n",
      "\n",
      "---------------------------------------------------------------------\n",
      "Test summary\n",
      "    Passed: 1\n",
      "    Failed: 0\n",
      "[ooooooooook] 100.0% passed\n",
      "\n"
     ]
    }
   ],
   "source": [
    "_ = ok.grade('q3_4')"
   ]
  },
  {
   "cell_type": "markdown",
   "metadata": {},
   "source": [
    "**Question 3.5** Consider the following two values: average temperature of years with increased sea level,  average temperature of years with decreased sea level. What was the difference between these two values? (Hint: your answer should be negative.)\n"
   ]
  },
  {
   "cell_type": "code",
   "execution_count": 812,
   "metadata": {},
   "outputs": [
    {
     "data": {
      "text/plain": [
       "-1.1659045248953248"
      ]
     },
     "execution_count": 812,
     "metadata": {},
     "output_type": "execute_result"
    }
   ],
   "source": [
    "a=sea_averages_added[sea_averages_added.get('LEVEL') > 0]\n",
    "b=a.get('TEMPERATURE').mean()\n",
    "c=sea_averages_added[sea_averages_added.get('LEVEL') < 0]\n",
    "d=c.get('TEMPERATURE').mean()\n",
    "d-b"
   ]
  },
  {
   "cell_type": "code",
   "execution_count": 813,
   "metadata": {},
   "outputs": [
    {
     "data": {
      "text/plain": [
       "-1.1659045248953248"
      ]
     },
     "execution_count": 813,
     "metadata": {},
     "output_type": "execute_result"
    }
   ],
   "source": [
    "#... avg_temp_difference\n",
    "avg_temp_difference = d-b\n",
    "avg_temp_difference"
   ]
  },
  {
   "cell_type": "code",
   "execution_count": 814,
   "metadata": {},
   "outputs": [
    {
     "name": "stdout",
     "output_type": "stream",
     "text": [
      "~~~~~~~~~~~~~~~~~~~~~~~~~~~~~~~~~~~~~~~~~~~~~~~~~~~~~~~~~~~~~~~~~~~~~\n",
      "Running tests\n",
      "\n",
      "---------------------------------------------------------------------\n",
      "Test summary\n",
      "    Passed: 1\n",
      "    Failed: 0\n",
      "[ooooooooook] 100.0% passed\n",
      "\n"
     ]
    }
   ],
   "source": [
    "_ = ok.grade('q3_5')"
   ]
  },
  {
   "cell_type": "markdown",
   "metadata": {},
   "source": [
    "Now let's plot the yearly average surface temperature in Fahrenheit as a line plot, with year on the horizontal axis:"
   ]
  },
  {
   "cell_type": "code",
   "execution_count": 630,
   "metadata": {},
   "outputs": [
    {
     "data": {
      "text/plain": [
       "<matplotlib.axes._subplots.AxesSubplot at 0x7f664c27e048>"
      ]
     },
     "execution_count": 630,
     "metadata": {},
     "output_type": "execute_result"
    },
    {
     "data": {
      "image/png": "[encoded data removed]",
      "text/plain": [
       "<Figure size 432x288 with 1 Axes>"
      ]
     },
     "metadata": {},
     "output_type": "display_data"
    }
   ],
   "source": [
    "#- your code here\n",
    "sea_averages.plot(y='TEMPERATURE')"
   ]
  },
  {
   "cell_type": "markdown",
   "metadata": {},
   "source": [
    "Let's plot the yearly average sea level in inches as a line plot, with year on the horizontal axis:"
   ]
  },
  {
   "cell_type": "code",
   "execution_count": 631,
   "metadata": {},
   "outputs": [
    {
     "data": {
      "text/plain": [
       "<matplotlib.axes._subplots.AxesSubplot at 0x7f664c275828>"
      ]
     },
     "execution_count": 631,
     "metadata": {},
     "output_type": "execute_result"
    },
    {
     "data": {
      "image/png": "[encoded data removed]",
      "text/plain": [
       "<Figure size 432x288 with 1 Axes>"
      ]
     },
     "metadata": {},
     "output_type": "display_data"
    }
   ],
   "source": [
    "sea_averages.plot(y='LEVEL')"
   ]
  },
  {
   "cell_type": "markdown",
   "metadata": {},
   "source": [
    "If your `sea_averages` is right, you should notice a linear increase in the sea level."
   ]
  },
  {
   "cell_type": "markdown",
   "metadata": {},
   "source": [
    "**Question 3.6.** In the 21th century (including 2000), what percentage of the years have an increased sea level? "
   ]
  },
  {
   "cell_type": "code",
   "execution_count": 632,
   "metadata": {},
   "outputs": [],
   "source": [
    "a=sea_averages_added.loc[2000:]\n",
    "b=a.get('LEVEL') > 0\n",
    "c=a[b].shape[0]\n",
    "d=a.shape[0]"
   ]
  },
  {
   "cell_type": "code",
   "execution_count": 633,
   "metadata": {},
   "outputs": [
    {
     "data": {
      "text/plain": [
       "0.75"
      ]
     },
     "execution_count": 633,
     "metadata": {},
     "output_type": "execute_result"
    }
   ],
   "source": [
    "#... percentage_year_increased\n",
    "percentage_year_increased = c/d\n",
    "percentage_year_increased"
   ]
  },
  {
   "cell_type": "code",
   "execution_count": 634,
   "metadata": {},
   "outputs": [
    {
     "name": "stdout",
     "output_type": "stream",
     "text": [
      "~~~~~~~~~~~~~~~~~~~~~~~~~~~~~~~~~~~~~~~~~~~~~~~~~~~~~~~~~~~~~~~~~~~~~\n",
      "Running tests\n",
      "\n",
      "---------------------------------------------------------------------\n",
      "Test summary\n",
      "    Passed: 1\n",
      "    Failed: 0\n",
      "[ooooooooook] 100.0% passed\n",
      "\n"
     ]
    }
   ],
   "source": [
    "_ = ok.grade('q3_6')"
   ]
  },
  {
   "cell_type": "markdown",
   "metadata": {},
   "source": [
    "**Question 3.7.** What is the median temperature in Kelvin of all the measurements in the 20th century? (doesn't include 2000, round your answer to two decimal points)\n"
   ]
  },
  {
   "cell_type": "code",
   "execution_count": 818,
   "metadata": {},
   "outputs": [
    {
     "data": {
      "text/plain": [
       "290.13"
      ]
     },
     "execution_count": 818,
     "metadata": {},
     "output_type": "execute_result"
    }
   ],
   "source": [
    "a=sea_averages_added.loc[:1999]\n",
    "b=a.get('TEMPERATURE').median()\n",
    "c=b.round(2)\n",
    "c"
   ]
  },
  {
   "cell_type": "code",
   "execution_count": 636,
   "metadata": {},
   "outputs": [
    {
     "data": {
      "text/plain": [
       "290.13"
      ]
     },
     "execution_count": 636,
     "metadata": {},
     "output_type": "execute_result"
    }
   ],
   "source": [
    "#... last_century_med\n",
    "last_century_med= b.round(2)\n",
    "last_century_med"
   ]
  },
  {
   "cell_type": "code",
   "execution_count": 819,
   "metadata": {},
   "outputs": [
    {
     "name": "stdout",
     "output_type": "stream",
     "text": [
      "~~~~~~~~~~~~~~~~~~~~~~~~~~~~~~~~~~~~~~~~~~~~~~~~~~~~~~~~~~~~~~~~~~~~~\n",
      "Running tests\n",
      "\n",
      "---------------------------------------------------------------------\n",
      "Test summary\n",
      "    Passed: 1\n",
      "    Failed: 0\n",
      "[ooooooooook] 100.0% passed\n",
      "\n"
     ]
    }
   ],
   "source": [
    "_ = ok.grade('q3_7')"
   ]
  },
  {
   "cell_type": "markdown",
   "metadata": {},
   "source": [
    "**Question 3.8.** What is the median temperature in Kelvin of all the measurements in the 21th century?\n",
    "(round your answer to two decimal points)\n"
   ]
  },
  {
   "cell_type": "code",
   "execution_count": 638,
   "metadata": {},
   "outputs": [
    {
     "data": {
      "text/plain": [
       "290.87792081949044"
      ]
     },
     "execution_count": 638,
     "metadata": {},
     "output_type": "execute_result"
    }
   ],
   "source": [
    "a=sea_averages_added.loc[2000:]\n",
    "b=a.get('TEMPERATURE').median()\n",
    "b"
   ]
  },
  {
   "cell_type": "code",
   "execution_count": 639,
   "metadata": {},
   "outputs": [
    {
     "data": {
      "text/plain": [
       "290.88"
      ]
     },
     "execution_count": 639,
     "metadata": {},
     "output_type": "execute_result"
    }
   ],
   "source": [
    "#this_century_med\n",
    "this_century_med = b.round(2)\n",
    "this_century_med\n"
   ]
  },
  {
   "cell_type": "code",
   "execution_count": 640,
   "metadata": {},
   "outputs": [
    {
     "name": "stdout",
     "output_type": "stream",
     "text": [
      "~~~~~~~~~~~~~~~~~~~~~~~~~~~~~~~~~~~~~~~~~~~~~~~~~~~~~~~~~~~~~~~~~~~~~\n",
      "Running tests\n",
      "\n",
      "---------------------------------------------------------------------\n",
      "Test summary\n",
      "    Passed: 1\n",
      "    Failed: 0\n",
      "[ooooooooook] 100.0% passed\n",
      "\n"
     ]
    }
   ],
   "source": [
    "_ = ok.grade('q3_8')"
   ]
  },
  {
   "cell_type": "markdown",
   "metadata": {},
   "source": [
    "**Question 3.9.** Make a scatter plot of the yearly average temperature on the horizontal axis versus the yearly average sea level on the vertical axis."
   ]
  },
  {
   "cell_type": "code",
   "execution_count": 641,
   "metadata": {},
   "outputs": [
    {
     "data": {
      "text/plain": [
       "<matplotlib.axes._subplots.AxesSubplot at 0x7f660deb5710>"
      ]
     },
     "execution_count": 641,
     "metadata": {},
     "output_type": "execute_result"
    },
    {
     "data": {
      "image/png": "[encoded data removed]",
      "text/plain": [
       "<Figure size 432x288 with 1 Axes>"
      ]
     },
     "metadata": {},
     "output_type": "display_data"
    }
   ],
   "source": [
    "sea_averages.plot(kind='scatter', x='TEMPERATURE', y='LEVEL')"
   ]
  },
  {
   "cell_type": "markdown",
   "metadata": {},
   "source": [
    "## 4. California's Renewable Energy"
   ]
  },
  {
   "cell_type": "markdown",
   "metadata": {},
   "source": [
    "<img width=85% src=\"wind_energy.jpg\"/>"
   ]
  },
  {
   "cell_type": "markdown",
   "metadata": {},
   "source": [
    "To combat climate change, California has increasingly generated its energy from renewable resources, such as solar and wind power. The file `energy.csv` contains hourly measurements of the amount of energy produced in California by various renewable sources in megawatts between April 2010 and January 2018."
   ]
  },
  {
   "cell_type": "code",
   "execution_count": 642,
   "metadata": {},
   "outputs": [
    {
     "data": {
      "text/html": [
       "<div>\n",
       "<style scoped>\n",
       "    .dataframe tbody tr th:only-of-type {\n",
       "        vertical-align: middle;\n",
       "    }\n",
       "\n",
       "    .dataframe tbody tr th {\n",
       "        vertical-align: top;\n",
       "    }\n",
       "\n",
       "    .dataframe thead th {\n",
       "        text-align: right;\n",
       "    }\n",
       "</style>\n",
       "<table border=\"1\" class=\"dataframe\">\n",
       "  <thead>\n",
       "    <tr style=\"text-align: right;\">\n",
       "      <th></th>\n",
       "      <th>BIOGAS</th>\n",
       "      <th>BIOMASS</th>\n",
       "      <th>GEOTHERMAL</th>\n",
       "      <th>SMALL HYDRO</th>\n",
       "      <th>SOLAR</th>\n",
       "      <th>SOLAR PV</th>\n",
       "      <th>SOLAR THERMAL</th>\n",
       "      <th>WIND TOTAL</th>\n",
       "    </tr>\n",
       "    <tr>\n",
       "      <th>TIMESTAMP</th>\n",
       "      <th></th>\n",
       "      <th></th>\n",
       "      <th></th>\n",
       "      <th></th>\n",
       "      <th></th>\n",
       "      <th></th>\n",
       "      <th></th>\n",
       "      <th></th>\n",
       "    </tr>\n",
       "  </thead>\n",
       "  <tbody>\n",
       "    <tr>\n",
       "      <th>2011-07-21 00:00:00</th>\n",
       "      <td>177.0</td>\n",
       "      <td>372.0</td>\n",
       "      <td>984.0</td>\n",
       "      <td>516.0</td>\n",
       "      <td>0.0</td>\n",
       "      <td>0.0</td>\n",
       "      <td>0.0</td>\n",
       "      <td>1607.0</td>\n",
       "    </tr>\n",
       "    <tr>\n",
       "      <th>2011-07-21 01:00:00</th>\n",
       "      <td>176.0</td>\n",
       "      <td>373.0</td>\n",
       "      <td>984.0</td>\n",
       "      <td>509.0</td>\n",
       "      <td>0.0</td>\n",
       "      <td>0.0</td>\n",
       "      <td>0.0</td>\n",
       "      <td>1619.0</td>\n",
       "    </tr>\n",
       "    <tr>\n",
       "      <th>2011-07-21 02:00:00</th>\n",
       "      <td>177.0</td>\n",
       "      <td>371.0</td>\n",
       "      <td>985.0</td>\n",
       "      <td>506.0</td>\n",
       "      <td>0.0</td>\n",
       "      <td>0.0</td>\n",
       "      <td>0.0</td>\n",
       "      <td>1660.0</td>\n",
       "    </tr>\n",
       "    <tr>\n",
       "      <th>2011-07-21 03:00:00</th>\n",
       "      <td>177.0</td>\n",
       "      <td>374.0</td>\n",
       "      <td>985.0</td>\n",
       "      <td>504.0</td>\n",
       "      <td>0.0</td>\n",
       "      <td>0.0</td>\n",
       "      <td>0.0</td>\n",
       "      <td>1633.0</td>\n",
       "    </tr>\n",
       "    <tr>\n",
       "      <th>2011-07-21 04:00:00</th>\n",
       "      <td>177.0</td>\n",
       "      <td>377.0</td>\n",
       "      <td>984.0</td>\n",
       "      <td>508.0</td>\n",
       "      <td>0.0</td>\n",
       "      <td>0.0</td>\n",
       "      <td>0.0</td>\n",
       "      <td>1520.0</td>\n",
       "    </tr>\n",
       "    <tr>\n",
       "      <th>...</th>\n",
       "      <td>...</td>\n",
       "      <td>...</td>\n",
       "      <td>...</td>\n",
       "      <td>...</td>\n",
       "      <td>...</td>\n",
       "      <td>...</td>\n",
       "      <td>...</td>\n",
       "      <td>...</td>\n",
       "    </tr>\n",
       "    <tr>\n",
       "      <th>2013-01-28 19:00:00</th>\n",
       "      <td>209.0</td>\n",
       "      <td>331.0</td>\n",
       "      <td>924.0</td>\n",
       "      <td>404.0</td>\n",
       "      <td>0.0</td>\n",
       "      <td>0.0</td>\n",
       "      <td>0.0</td>\n",
       "      <td>2633.0</td>\n",
       "    </tr>\n",
       "    <tr>\n",
       "      <th>2013-01-28 20:00:00</th>\n",
       "      <td>207.0</td>\n",
       "      <td>334.0</td>\n",
       "      <td>924.0</td>\n",
       "      <td>372.0</td>\n",
       "      <td>0.0</td>\n",
       "      <td>0.0</td>\n",
       "      <td>0.0</td>\n",
       "      <td>2540.0</td>\n",
       "    </tr>\n",
       "    <tr>\n",
       "      <th>2013-01-28 21:00:00</th>\n",
       "      <td>208.0</td>\n",
       "      <td>342.0</td>\n",
       "      <td>926.0</td>\n",
       "      <td>372.0</td>\n",
       "      <td>0.0</td>\n",
       "      <td>0.0</td>\n",
       "      <td>0.0</td>\n",
       "      <td>2408.0</td>\n",
       "    </tr>\n",
       "    <tr>\n",
       "      <th>2013-01-28 22:00:00</th>\n",
       "      <td>208.0</td>\n",
       "      <td>334.0</td>\n",
       "      <td>928.0</td>\n",
       "      <td>358.0</td>\n",
       "      <td>0.0</td>\n",
       "      <td>0.0</td>\n",
       "      <td>0.0</td>\n",
       "      <td>2274.0</td>\n",
       "    </tr>\n",
       "    <tr>\n",
       "      <th>2013-01-28 23:00:00</th>\n",
       "      <td>208.0</td>\n",
       "      <td>335.0</td>\n",
       "      <td>928.0</td>\n",
       "      <td>331.0</td>\n",
       "      <td>0.0</td>\n",
       "      <td>0.0</td>\n",
       "      <td>0.0</td>\n",
       "      <td>2230.0</td>\n",
       "    </tr>\n",
       "  </tbody>\n",
       "</table>\n",
       "<p>67584 rows × 8 columns</p>\n",
       "</div>"
      ],
      "text/plain": [
       "                     BIOGAS  BIOMASS  GEOTHERMAL  SMALL HYDRO  SOLAR  \\\n",
       "TIMESTAMP                                                              \n",
       "2011-07-21 00:00:00   177.0    372.0       984.0        516.0    0.0   \n",
       "2011-07-21 01:00:00   176.0    373.0       984.0        509.0    0.0   \n",
       "2011-07-21 02:00:00   177.0    371.0       985.0        506.0    0.0   \n",
       "2011-07-21 03:00:00   177.0    374.0       985.0        504.0    0.0   \n",
       "2011-07-21 04:00:00   177.0    377.0       984.0        508.0    0.0   \n",
       "...                     ...      ...         ...          ...    ...   \n",
       "2013-01-28 19:00:00   209.0    331.0       924.0        404.0    0.0   \n",
       "2013-01-28 20:00:00   207.0    334.0       924.0        372.0    0.0   \n",
       "2013-01-28 21:00:00   208.0    342.0       926.0        372.0    0.0   \n",
       "2013-01-28 22:00:00   208.0    334.0       928.0        358.0    0.0   \n",
       "2013-01-28 23:00:00   208.0    335.0       928.0        331.0    0.0   \n",
       "\n",
       "                     SOLAR PV  SOLAR THERMAL  WIND TOTAL  \n",
       "TIMESTAMP                                                 \n",
       "2011-07-21 00:00:00       0.0            0.0      1607.0  \n",
       "2011-07-21 01:00:00       0.0            0.0      1619.0  \n",
       "2011-07-21 02:00:00       0.0            0.0      1660.0  \n",
       "2011-07-21 03:00:00       0.0            0.0      1633.0  \n",
       "2011-07-21 04:00:00       0.0            0.0      1520.0  \n",
       "...                       ...            ...         ...  \n",
       "2013-01-28 19:00:00       0.0            0.0      2633.0  \n",
       "2013-01-28 20:00:00       0.0            0.0      2540.0  \n",
       "2013-01-28 21:00:00       0.0            0.0      2408.0  \n",
       "2013-01-28 22:00:00       0.0            0.0      2274.0  \n",
       "2013-01-28 23:00:00       0.0            0.0      2230.0  \n",
       "\n",
       "[67584 rows x 8 columns]"
      ]
     },
     "execution_count": 642,
     "metadata": {},
     "output_type": "execute_result"
    }
   ],
   "source": [
    "energy_raw = bpd.read_csv('data/energy.csv').set_index('TIMESTAMP')\n",
    "energy_raw"
   ]
  },
  {
   "cell_type": "markdown",
   "metadata": {},
   "source": [
    "The index labels are *timestamps*. These are standardized strings specifying a particular time and date. For instance, \"2013-01-28 23:00:00\" represents January 28, 2013 at 11 pm."
   ]
  },
  {
   "cell_type": "markdown",
   "metadata": {},
   "source": [
    "**Question 4.1.** The dataset has two columns for similar solar technologies: SOLAR and SOLAR PV. It makes sense to combine these columns into one. Create a new table named `energy` in which the \"SOLAR\" column is the sum of the \"SOLAR\" and \"SOLAR PV\" columns in `energy_raw`. Remove \"SOLAR PV\" from this new table."
   ]
  },
  {
   "cell_type": "code",
   "execution_count": 820,
   "metadata": {},
   "outputs": [
    {
     "data": {
      "text/plain": [
       "TIMESTAMP\n",
       "2011-07-21 00:00:00    0.0\n",
       "2011-07-21 01:00:00    0.0\n",
       "2011-07-21 02:00:00    0.0\n",
       "2011-07-21 03:00:00    0.0\n",
       "2011-07-21 04:00:00    0.0\n",
       "                      ... \n",
       "2013-01-28 19:00:00    0.0\n",
       "2013-01-28 20:00:00    0.0\n",
       "2013-01-28 21:00:00    0.0\n",
       "2013-01-28 22:00:00    0.0\n",
       "2013-01-28 23:00:00    0.0\n",
       "Length: 67584, dtype: float64"
      ]
     },
     "execution_count": 820,
     "metadata": {},
     "output_type": "execute_result"
    }
   ],
   "source": [
    "a=energy_raw.get('SOLAR')\n",
    "b=energy_raw.get('SOLAR PV')\n",
    "c=a+b\n",
    "c"
   ]
  },
  {
   "cell_type": "code",
   "execution_count": 821,
   "metadata": {},
   "outputs": [
    {
     "data": {
      "text/html": [
       "<div>\n",
       "<style scoped>\n",
       "    .dataframe tbody tr th:only-of-type {\n",
       "        vertical-align: middle;\n",
       "    }\n",
       "\n",
       "    .dataframe tbody tr th {\n",
       "        vertical-align: top;\n",
       "    }\n",
       "\n",
       "    .dataframe thead th {\n",
       "        text-align: right;\n",
       "    }\n",
       "</style>\n",
       "<table border=\"1\" class=\"dataframe\">\n",
       "  <thead>\n",
       "    <tr style=\"text-align: right;\">\n",
       "      <th></th>\n",
       "      <th>BIOGAS</th>\n",
       "      <th>BIOMASS</th>\n",
       "      <th>GEOTHERMAL</th>\n",
       "      <th>SMALL HYDRO</th>\n",
       "      <th>SOLAR</th>\n",
       "      <th>SOLAR THERMAL</th>\n",
       "      <th>WIND TOTAL</th>\n",
       "    </tr>\n",
       "    <tr>\n",
       "      <th>TIMESTAMP</th>\n",
       "      <th></th>\n",
       "      <th></th>\n",
       "      <th></th>\n",
       "      <th></th>\n",
       "      <th></th>\n",
       "      <th></th>\n",
       "      <th></th>\n",
       "    </tr>\n",
       "  </thead>\n",
       "  <tbody>\n",
       "    <tr>\n",
       "      <th>2011-07-21 00:00:00</th>\n",
       "      <td>177.0</td>\n",
       "      <td>372.0</td>\n",
       "      <td>984.0</td>\n",
       "      <td>516.0</td>\n",
       "      <td>0.0</td>\n",
       "      <td>0.0</td>\n",
       "      <td>1607.0</td>\n",
       "    </tr>\n",
       "    <tr>\n",
       "      <th>2011-07-21 01:00:00</th>\n",
       "      <td>176.0</td>\n",
       "      <td>373.0</td>\n",
       "      <td>984.0</td>\n",
       "      <td>509.0</td>\n",
       "      <td>0.0</td>\n",
       "      <td>0.0</td>\n",
       "      <td>1619.0</td>\n",
       "    </tr>\n",
       "    <tr>\n",
       "      <th>2011-07-21 02:00:00</th>\n",
       "      <td>177.0</td>\n",
       "      <td>371.0</td>\n",
       "      <td>985.0</td>\n",
       "      <td>506.0</td>\n",
       "      <td>0.0</td>\n",
       "      <td>0.0</td>\n",
       "      <td>1660.0</td>\n",
       "    </tr>\n",
       "    <tr>\n",
       "      <th>2011-07-21 03:00:00</th>\n",
       "      <td>177.0</td>\n",
       "      <td>374.0</td>\n",
       "      <td>985.0</td>\n",
       "      <td>504.0</td>\n",
       "      <td>0.0</td>\n",
       "      <td>0.0</td>\n",
       "      <td>1633.0</td>\n",
       "    </tr>\n",
       "    <tr>\n",
       "      <th>2011-07-21 04:00:00</th>\n",
       "      <td>177.0</td>\n",
       "      <td>377.0</td>\n",
       "      <td>984.0</td>\n",
       "      <td>508.0</td>\n",
       "      <td>0.0</td>\n",
       "      <td>0.0</td>\n",
       "      <td>1520.0</td>\n",
       "    </tr>\n",
       "    <tr>\n",
       "      <th>...</th>\n",
       "      <td>...</td>\n",
       "      <td>...</td>\n",
       "      <td>...</td>\n",
       "      <td>...</td>\n",
       "      <td>...</td>\n",
       "      <td>...</td>\n",
       "      <td>...</td>\n",
       "    </tr>\n",
       "    <tr>\n",
       "      <th>2013-01-28 19:00:00</th>\n",
       "      <td>209.0</td>\n",
       "      <td>331.0</td>\n",
       "      <td>924.0</td>\n",
       "      <td>404.0</td>\n",
       "      <td>0.0</td>\n",
       "      <td>0.0</td>\n",
       "      <td>2633.0</td>\n",
       "    </tr>\n",
       "    <tr>\n",
       "      <th>2013-01-28 20:00:00</th>\n",
       "      <td>207.0</td>\n",
       "      <td>334.0</td>\n",
       "      <td>924.0</td>\n",
       "      <td>372.0</td>\n",
       "      <td>0.0</td>\n",
       "      <td>0.0</td>\n",
       "      <td>2540.0</td>\n",
       "    </tr>\n",
       "    <tr>\n",
       "      <th>2013-01-28 21:00:00</th>\n",
       "      <td>208.0</td>\n",
       "      <td>342.0</td>\n",
       "      <td>926.0</td>\n",
       "      <td>372.0</td>\n",
       "      <td>0.0</td>\n",
       "      <td>0.0</td>\n",
       "      <td>2408.0</td>\n",
       "    </tr>\n",
       "    <tr>\n",
       "      <th>2013-01-28 22:00:00</th>\n",
       "      <td>208.0</td>\n",
       "      <td>334.0</td>\n",
       "      <td>928.0</td>\n",
       "      <td>358.0</td>\n",
       "      <td>0.0</td>\n",
       "      <td>0.0</td>\n",
       "      <td>2274.0</td>\n",
       "    </tr>\n",
       "    <tr>\n",
       "      <th>2013-01-28 23:00:00</th>\n",
       "      <td>208.0</td>\n",
       "      <td>335.0</td>\n",
       "      <td>928.0</td>\n",
       "      <td>331.0</td>\n",
       "      <td>0.0</td>\n",
       "      <td>0.0</td>\n",
       "      <td>2230.0</td>\n",
       "    </tr>\n",
       "  </tbody>\n",
       "</table>\n",
       "<p>67584 rows × 7 columns</p>\n",
       "</div>"
      ],
      "text/plain": [
       "                     BIOGAS  BIOMASS  GEOTHERMAL  SMALL HYDRO  SOLAR  \\\n",
       "TIMESTAMP                                                              \n",
       "2011-07-21 00:00:00   177.0    372.0       984.0        516.0    0.0   \n",
       "2011-07-21 01:00:00   176.0    373.0       984.0        509.0    0.0   \n",
       "2011-07-21 02:00:00   177.0    371.0       985.0        506.0    0.0   \n",
       "2011-07-21 03:00:00   177.0    374.0       985.0        504.0    0.0   \n",
       "2011-07-21 04:00:00   177.0    377.0       984.0        508.0    0.0   \n",
       "...                     ...      ...         ...          ...    ...   \n",
       "2013-01-28 19:00:00   209.0    331.0       924.0        404.0    0.0   \n",
       "2013-01-28 20:00:00   207.0    334.0       924.0        372.0    0.0   \n",
       "2013-01-28 21:00:00   208.0    342.0       926.0        372.0    0.0   \n",
       "2013-01-28 22:00:00   208.0    334.0       928.0        358.0    0.0   \n",
       "2013-01-28 23:00:00   208.0    335.0       928.0        331.0    0.0   \n",
       "\n",
       "                     SOLAR THERMAL  WIND TOTAL  \n",
       "TIMESTAMP                                       \n",
       "2011-07-21 00:00:00            0.0      1607.0  \n",
       "2011-07-21 01:00:00            0.0      1619.0  \n",
       "2011-07-21 02:00:00            0.0      1660.0  \n",
       "2011-07-21 03:00:00            0.0      1633.0  \n",
       "2011-07-21 04:00:00            0.0      1520.0  \n",
       "...                            ...         ...  \n",
       "2013-01-28 19:00:00            0.0      2633.0  \n",
       "2013-01-28 20:00:00            0.0      2540.0  \n",
       "2013-01-28 21:00:00            0.0      2408.0  \n",
       "2013-01-28 22:00:00            0.0      2274.0  \n",
       "2013-01-28 23:00:00            0.0      2230.0  \n",
       "\n",
       "[67584 rows x 7 columns]"
      ]
     },
     "execution_count": 821,
     "metadata": {},
     "output_type": "execute_result"
    }
   ],
   "source": [
    "#... energy\n",
    "energy = energy_raw.assign(SOLAR=c).drop(columns=(['SOLAR PV']))\n",
    "energy"
   ]
  },
  {
   "cell_type": "code",
   "execution_count": 822,
   "metadata": {},
   "outputs": [
    {
     "name": "stdout",
     "output_type": "stream",
     "text": [
      "~~~~~~~~~~~~~~~~~~~~~~~~~~~~~~~~~~~~~~~~~~~~~~~~~~~~~~~~~~~~~~~~~~~~~\n",
      "Running tests\n",
      "\n",
      "---------------------------------------------------------------------\n",
      "Test summary\n",
      "    Passed: 1\n",
      "    Failed: 0\n",
      "[ooooooooook] 100.0% passed\n",
      "\n"
     ]
    }
   ],
   "source": [
    "_ = ok.grade('q4_1')"
   ]
  },
  {
   "cell_type": "markdown",
   "metadata": {},
   "source": [
    "**Question 4.2.** Very few of the timestamps have a biomass energy value of 0: most of them have positive productions. Return the date which had the lowest production of biomass energy, that does not equal to zero. Your answer should be in the form of a timestamp, eg. \"2011-07-21 00:00:00\""
   ]
  },
  {
   "cell_type": "code",
   "execution_count": 646,
   "metadata": {},
   "outputs": [
    {
     "data": {
      "text/plain": [
       "'2017-04-24 09:00:00'"
      ]
     },
     "execution_count": 646,
     "metadata": {},
     "output_type": "execute_result"
    }
   ],
   "source": [
    "a = energy.get('BIOMASS') != 0\n",
    "b = energy[a]\n",
    "c = b.get('BIOMASS').sort_values()\n",
    "d = c.index[0]\n",
    "d"
   ]
  },
  {
   "cell_type": "code",
   "execution_count": 647,
   "metadata": {},
   "outputs": [
    {
     "data": {
      "text/plain": [
       "'2017-04-24 09:00:00'"
      ]
     },
     "execution_count": 647,
     "metadata": {},
     "output_type": "execute_result"
    }
   ],
   "source": [
    "#... Lowest_biomass (that does not equal to zero)\n",
    "Lowest_biomass = d\n",
    "Lowest_biomass"
   ]
  },
  {
   "cell_type": "code",
   "execution_count": 823,
   "metadata": {},
   "outputs": [
    {
     "name": "stdout",
     "output_type": "stream",
     "text": [
      "~~~~~~~~~~~~~~~~~~~~~~~~~~~~~~~~~~~~~~~~~~~~~~~~~~~~~~~~~~~~~~~~~~~~~\n",
      "Running tests\n",
      "\n",
      "---------------------------------------------------------------------\n",
      "Test summary\n",
      "    Passed: 1\n",
      "    Failed: 0\n",
      "[ooooooooook] 100.0% passed\n",
      "\n"
     ]
    }
   ],
   "source": [
    "_ = ok.grade('q4_2')"
   ]
  },
  {
   "cell_type": "markdown",
   "metadata": {},
   "source": [
    "**Question 4.3.** Create functions called `extract_year`, `extract_month`, and `extract_day` which, given a timestamp string of the form \"2011-07-21 00:00:00\", returns the year, month, and day, respectively, all as a `int`s.\n",
    "\n",
    "*Hint*: remember that `.split()` can accept the character to split on."
   ]
  },
  {
   "cell_type": "code",
   "execution_count": 824,
   "metadata": {},
   "outputs": [],
   "source": [
    "def extract_year(timestamp):\n",
    "    splitted = timestamp.replace(' ','-').split('-')\n",
    "    return splitted[0]\n",
    "def extract_month(timestamp):\n",
    "    splitted = timestamp.replace(' ','-').split('-')\n",
    "    return int(splitted[1])\n",
    "def extract_day(timestamp):\n",
    "    splitted = timestamp.replace(' ','-').split('-')\n",
    "    return splitted[2]"
   ]
  },
  {
   "cell_type": "code",
   "execution_count": 825,
   "metadata": {},
   "outputs": [
    {
     "name": "stdout",
     "output_type": "stream",
     "text": [
      "Should return 2011: 2011\n",
      "Should return 7: 7\n",
      "Should return 21: 21\n"
     ]
    }
   ],
   "source": [
    "print('Should return 2011:', extract_year('2011-07-21 00:00:00'))\n",
    "print('Should return 7:', extract_month('2011-07-21 00:00:00'))\n",
    "print('Should return 21:', extract_day('2011-07-21 00:00:00'))"
   ]
  },
  {
   "cell_type": "code",
   "execution_count": 826,
   "metadata": {},
   "outputs": [
    {
     "name": "stdout",
     "output_type": "stream",
     "text": [
      "~~~~~~~~~~~~~~~~~~~~~~~~~~~~~~~~~~~~~~~~~~~~~~~~~~~~~~~~~~~~~~~~~~~~~\n",
      "Running tests\n",
      "\n",
      "---------------------------------------------------------------------\n",
      "Test summary\n",
      "    Passed: 1\n",
      "    Failed: 0\n",
      "[ooooooooook] 100.0% passed\n",
      "\n"
     ]
    }
   ],
   "source": [
    "_ = ok.grade('q4_3')"
   ]
  },
  {
   "cell_type": "markdown",
   "metadata": {},
   "source": [
    "**Question 4.4.** Create a function called `extract_hour` which, given a timestamp string of the form \"2011-07-21 00:00:00\", returns the hour as an `int`."
   ]
  },
  {
   "cell_type": "code",
   "execution_count": 652,
   "metadata": {},
   "outputs": [
    {
     "data": {
      "text/plain": [
       "['2011-07-21', '13:00:00']"
      ]
     },
     "execution_count": 652,
     "metadata": {},
     "output_type": "execute_result"
    }
   ],
   "source": [
    "a='2011-07-21 13:00:00'\n",
    "a.split(' ')"
   ]
  },
  {
   "cell_type": "code",
   "execution_count": 653,
   "metadata": {},
   "outputs": [
    {
     "data": {
      "text/plain": [
       "'13'"
      ]
     },
     "execution_count": 653,
     "metadata": {},
     "output_type": "execute_result"
    }
   ],
   "source": [
    "a='2011-07-21 13:00:00'\n",
    "b=a.replace(':',' ')\n",
    "c=b.split(' ')\n",
    "c[1]"
   ]
  },
  {
   "cell_type": "code",
   "execution_count": 833,
   "metadata": {},
   "outputs": [],
   "source": [
    "def extract_hour(timestamp):\n",
    "    replacer = timestamp.replace(':',' ')\n",
    "    splitted = replacer.split(' ')\n",
    "    return int(splitted[1])"
   ]
  },
  {
   "cell_type": "code",
   "execution_count": 834,
   "metadata": {},
   "outputs": [
    {
     "name": "stdout",
     "output_type": "stream",
     "text": [
      "Should return 13: 13\n"
     ]
    }
   ],
   "source": [
    "print('Should return 13:', extract_hour('2011-07-21 13:00:00'))"
   ]
  },
  {
   "cell_type": "code",
   "execution_count": 835,
   "metadata": {},
   "outputs": [
    {
     "name": "stdout",
     "output_type": "stream",
     "text": [
      "~~~~~~~~~~~~~~~~~~~~~~~~~~~~~~~~~~~~~~~~~~~~~~~~~~~~~~~~~~~~~~~~~~~~~\n",
      "Running tests\n",
      "\n",
      "---------------------------------------------------------------------\n",
      "Test summary\n",
      "    Passed: 1\n",
      "    Failed: 0\n",
      "[ooooooooook] 100.0% passed\n",
      "\n"
     ]
    }
   ],
   "source": [
    "_ = ok.grade('q4_4')"
   ]
  },
  {
   "cell_type": "markdown",
   "metadata": {},
   "source": [
    "**Question 4.5.** Create a new table called `energy_with_time` which contains all of the columns of `energy`, plus columns \"YEAR\", \"MONTH\", \"DAY\", and \"HOUR\" containing the year, month, day, and hour of each row as integers. Your table should not have an index (other than the default index consisting of numbers).\n",
    "\n",
    "Your table should look like the picture below, but with the `?`s replaced by numbers:\n",
    "<img width=85% src=\"./q4_output.png\"/>"
   ]
  },
  {
   "cell_type": "code",
   "execution_count": 837,
   "metadata": {},
   "outputs": [
    {
     "data": {
      "text/html": [
       "<div>\n",
       "<style scoped>\n",
       "    .dataframe tbody tr th:only-of-type {\n",
       "        vertical-align: middle;\n",
       "    }\n",
       "\n",
       "    .dataframe tbody tr th {\n",
       "        vertical-align: top;\n",
       "    }\n",
       "\n",
       "    .dataframe thead th {\n",
       "        text-align: right;\n",
       "    }\n",
       "</style>\n",
       "<table border=\"1\" class=\"dataframe\">\n",
       "  <thead>\n",
       "    <tr style=\"text-align: right;\">\n",
       "      <th></th>\n",
       "      <th>BIOGAS</th>\n",
       "      <th>BIOMASS</th>\n",
       "      <th>GEOTHERMAL</th>\n",
       "      <th>SMALL HYDRO</th>\n",
       "      <th>SOLAR</th>\n",
       "      <th>SOLAR THERMAL</th>\n",
       "      <th>WIND TOTAL</th>\n",
       "      <th>YEAR</th>\n",
       "      <th>MONTH</th>\n",
       "      <th>DAY</th>\n",
       "      <th>HOUR</th>\n",
       "    </tr>\n",
       "  </thead>\n",
       "  <tbody>\n",
       "    <tr>\n",
       "      <th>0</th>\n",
       "      <td>177.0</td>\n",
       "      <td>372.0</td>\n",
       "      <td>984.0</td>\n",
       "      <td>516.0</td>\n",
       "      <td>0.0</td>\n",
       "      <td>0.0</td>\n",
       "      <td>1607.0</td>\n",
       "      <td>2011</td>\n",
       "      <td>7</td>\n",
       "      <td>21</td>\n",
       "      <td>0</td>\n",
       "    </tr>\n",
       "    <tr>\n",
       "      <th>1</th>\n",
       "      <td>176.0</td>\n",
       "      <td>373.0</td>\n",
       "      <td>984.0</td>\n",
       "      <td>509.0</td>\n",
       "      <td>0.0</td>\n",
       "      <td>0.0</td>\n",
       "      <td>1619.0</td>\n",
       "      <td>2011</td>\n",
       "      <td>7</td>\n",
       "      <td>21</td>\n",
       "      <td>1</td>\n",
       "    </tr>\n",
       "    <tr>\n",
       "      <th>2</th>\n",
       "      <td>177.0</td>\n",
       "      <td>371.0</td>\n",
       "      <td>985.0</td>\n",
       "      <td>506.0</td>\n",
       "      <td>0.0</td>\n",
       "      <td>0.0</td>\n",
       "      <td>1660.0</td>\n",
       "      <td>2011</td>\n",
       "      <td>7</td>\n",
       "      <td>21</td>\n",
       "      <td>2</td>\n",
       "    </tr>\n",
       "    <tr>\n",
       "      <th>3</th>\n",
       "      <td>177.0</td>\n",
       "      <td>374.0</td>\n",
       "      <td>985.0</td>\n",
       "      <td>504.0</td>\n",
       "      <td>0.0</td>\n",
       "      <td>0.0</td>\n",
       "      <td>1633.0</td>\n",
       "      <td>2011</td>\n",
       "      <td>7</td>\n",
       "      <td>21</td>\n",
       "      <td>3</td>\n",
       "    </tr>\n",
       "    <tr>\n",
       "      <th>4</th>\n",
       "      <td>177.0</td>\n",
       "      <td>377.0</td>\n",
       "      <td>984.0</td>\n",
       "      <td>508.0</td>\n",
       "      <td>0.0</td>\n",
       "      <td>0.0</td>\n",
       "      <td>1520.0</td>\n",
       "      <td>2011</td>\n",
       "      <td>7</td>\n",
       "      <td>21</td>\n",
       "      <td>4</td>\n",
       "    </tr>\n",
       "    <tr>\n",
       "      <th>...</th>\n",
       "      <td>...</td>\n",
       "      <td>...</td>\n",
       "      <td>...</td>\n",
       "      <td>...</td>\n",
       "      <td>...</td>\n",
       "      <td>...</td>\n",
       "      <td>...</td>\n",
       "      <td>...</td>\n",
       "      <td>...</td>\n",
       "      <td>...</td>\n",
       "      <td>...</td>\n",
       "    </tr>\n",
       "    <tr>\n",
       "      <th>67579</th>\n",
       "      <td>209.0</td>\n",
       "      <td>331.0</td>\n",
       "      <td>924.0</td>\n",
       "      <td>404.0</td>\n",
       "      <td>0.0</td>\n",
       "      <td>0.0</td>\n",
       "      <td>2633.0</td>\n",
       "      <td>2013</td>\n",
       "      <td>1</td>\n",
       "      <td>28</td>\n",
       "      <td>19</td>\n",
       "    </tr>\n",
       "    <tr>\n",
       "      <th>67580</th>\n",
       "      <td>207.0</td>\n",
       "      <td>334.0</td>\n",
       "      <td>924.0</td>\n",
       "      <td>372.0</td>\n",
       "      <td>0.0</td>\n",
       "      <td>0.0</td>\n",
       "      <td>2540.0</td>\n",
       "      <td>2013</td>\n",
       "      <td>1</td>\n",
       "      <td>28</td>\n",
       "      <td>20</td>\n",
       "    </tr>\n",
       "    <tr>\n",
       "      <th>67581</th>\n",
       "      <td>208.0</td>\n",
       "      <td>342.0</td>\n",
       "      <td>926.0</td>\n",
       "      <td>372.0</td>\n",
       "      <td>0.0</td>\n",
       "      <td>0.0</td>\n",
       "      <td>2408.0</td>\n",
       "      <td>2013</td>\n",
       "      <td>1</td>\n",
       "      <td>28</td>\n",
       "      <td>21</td>\n",
       "    </tr>\n",
       "    <tr>\n",
       "      <th>67582</th>\n",
       "      <td>208.0</td>\n",
       "      <td>334.0</td>\n",
       "      <td>928.0</td>\n",
       "      <td>358.0</td>\n",
       "      <td>0.0</td>\n",
       "      <td>0.0</td>\n",
       "      <td>2274.0</td>\n",
       "      <td>2013</td>\n",
       "      <td>1</td>\n",
       "      <td>28</td>\n",
       "      <td>22</td>\n",
       "    </tr>\n",
       "    <tr>\n",
       "      <th>67583</th>\n",
       "      <td>208.0</td>\n",
       "      <td>335.0</td>\n",
       "      <td>928.0</td>\n",
       "      <td>331.0</td>\n",
       "      <td>0.0</td>\n",
       "      <td>0.0</td>\n",
       "      <td>2230.0</td>\n",
       "      <td>2013</td>\n",
       "      <td>1</td>\n",
       "      <td>28</td>\n",
       "      <td>23</td>\n",
       "    </tr>\n",
       "  </tbody>\n",
       "</table>\n",
       "<p>67584 rows × 11 columns</p>\n",
       "</div>"
      ],
      "text/plain": [
       "       BIOGAS  BIOMASS  GEOTHERMAL  SMALL HYDRO  SOLAR  SOLAR THERMAL  \\\n",
       "0       177.0    372.0       984.0        516.0    0.0            0.0   \n",
       "1       176.0    373.0       984.0        509.0    0.0            0.0   \n",
       "2       177.0    371.0       985.0        506.0    0.0            0.0   \n",
       "3       177.0    374.0       985.0        504.0    0.0            0.0   \n",
       "4       177.0    377.0       984.0        508.0    0.0            0.0   \n",
       "...       ...      ...         ...          ...    ...            ...   \n",
       "67579   209.0    331.0       924.0        404.0    0.0            0.0   \n",
       "67580   207.0    334.0       924.0        372.0    0.0            0.0   \n",
       "67581   208.0    342.0       926.0        372.0    0.0            0.0   \n",
       "67582   208.0    334.0       928.0        358.0    0.0            0.0   \n",
       "67583   208.0    335.0       928.0        331.0    0.0            0.0   \n",
       "\n",
       "       WIND TOTAL  YEAR  MONTH DAY  HOUR  \n",
       "0          1607.0  2011      7  21     0  \n",
       "1          1619.0  2011      7  21     1  \n",
       "2          1660.0  2011      7  21     2  \n",
       "3          1633.0  2011      7  21     3  \n",
       "4          1520.0  2011      7  21     4  \n",
       "...           ...   ...    ...  ..   ...  \n",
       "67579      2633.0  2013      1  28    19  \n",
       "67580      2540.0  2013      1  28    20  \n",
       "67581      2408.0  2013      1  28    21  \n",
       "67582      2274.0  2013      1  28    22  \n",
       "67583      2230.0  2013      1  28    23  \n",
       "\n",
       "[67584 rows x 11 columns]"
      ]
     },
     "execution_count": 837,
     "metadata": {},
     "output_type": "execute_result"
    }
   ],
   "source": [
    "#... energy_with_time\n",
    "energy_with_time = energy.assign(YEAR=c,MONTH=d,DAY=e,HOUR=f).reset_index().drop(columns=(['TIMESTAMP']))\n",
    "energy_with_time"
   ]
  },
  {
   "cell_type": "code",
   "execution_count": 830,
   "metadata": {},
   "outputs": [
    {
     "name": "stdout",
     "output_type": "stream",
     "text": [
      "~~~~~~~~~~~~~~~~~~~~~~~~~~~~~~~~~~~~~~~~~~~~~~~~~~~~~~~~~~~~~~~~~~~~~\n",
      "Running tests\n",
      "\n",
      "---------------------------------------------------------------------\n",
      "Test summary\n",
      "    Passed: 1\n",
      "    Failed: 0\n",
      "[ooooooooook] 100.0% passed\n",
      "\n"
     ]
    }
   ],
   "source": [
    "_ = ok.grade('q4_5')"
   ]
  },
  {
   "cell_type": "markdown",
   "metadata": {},
   "source": [
    "**Question 4.6.** Create a table called `monthly_totals` which contains the total amount of energy produced by each method, for each month in the data set. That is, your table should have one row for July 2011, another row for August 2011, another for September 2011, and so on. Your resulting table should have the same columns as `energy_with_time`, except \"DAY\" and \"HOUR\" should be removed.\n",
    "\n",
    "*Hint*: Your table should have 94 rows."
   ]
  },
  {
   "cell_type": "code",
   "execution_count": 703,
   "metadata": {},
   "outputs": [
    {
     "data": {
      "text/html": [
       "<div>\n",
       "<style scoped>\n",
       "    .dataframe tbody tr th:only-of-type {\n",
       "        vertical-align: middle;\n",
       "    }\n",
       "\n",
       "    .dataframe tbody tr th {\n",
       "        vertical-align: top;\n",
       "    }\n",
       "\n",
       "    .dataframe thead th {\n",
       "        text-align: right;\n",
       "    }\n",
       "</style>\n",
       "<table border=\"1\" class=\"dataframe\">\n",
       "  <thead>\n",
       "    <tr style=\"text-align: right;\">\n",
       "      <th></th>\n",
       "      <th>YEAR</th>\n",
       "      <th>MONTH</th>\n",
       "      <th>BIOGAS</th>\n",
       "      <th>BIOMASS</th>\n",
       "      <th>GEOTHERMAL</th>\n",
       "      <th>SMALL HYDRO</th>\n",
       "      <th>SOLAR</th>\n",
       "      <th>SOLAR THERMAL</th>\n",
       "      <th>WIND TOTAL</th>\n",
       "    </tr>\n",
       "  </thead>\n",
       "  <tbody>\n",
       "    <tr>\n",
       "      <th>0</th>\n",
       "      <td>2010</td>\n",
       "      <td>04</td>\n",
       "      <td>44622.0</td>\n",
       "      <td>75933.0</td>\n",
       "      <td>277881.0</td>\n",
       "      <td>77812.0</td>\n",
       "      <td>27307.0</td>\n",
       "      <td>0.0</td>\n",
       "      <td>208245.0</td>\n",
       "    </tr>\n",
       "    <tr>\n",
       "      <th>1</th>\n",
       "      <td>2010</td>\n",
       "      <td>05</td>\n",
       "      <td>117271.0</td>\n",
       "      <td>168901.0</td>\n",
       "      <td>778631.0</td>\n",
       "      <td>263391.0</td>\n",
       "      <td>101640.0</td>\n",
       "      <td>0.0</td>\n",
       "      <td>665327.0</td>\n",
       "    </tr>\n",
       "    <tr>\n",
       "      <th>2</th>\n",
       "      <td>2010</td>\n",
       "      <td>06</td>\n",
       "      <td>120467.0</td>\n",
       "      <td>246372.0</td>\n",
       "      <td>751765.0</td>\n",
       "      <td>296879.0</td>\n",
       "      <td>131065.0</td>\n",
       "      <td>0.0</td>\n",
       "      <td>805400.0</td>\n",
       "    </tr>\n",
       "    <tr>\n",
       "      <th>3</th>\n",
       "      <td>2010</td>\n",
       "      <td>07</td>\n",
       "      <td>122346.0</td>\n",
       "      <td>304649.0</td>\n",
       "      <td>756300.0</td>\n",
       "      <td>274086.0</td>\n",
       "      <td>130052.0</td>\n",
       "      <td>0.0</td>\n",
       "      <td>842461.0</td>\n",
       "    </tr>\n",
       "    <tr>\n",
       "      <th>4</th>\n",
       "      <td>2010</td>\n",
       "      <td>08</td>\n",
       "      <td>120080.0</td>\n",
       "      <td>276269.0</td>\n",
       "      <td>734931.0</td>\n",
       "      <td>285446.0</td>\n",
       "      <td>118890.0</td>\n",
       "      <td>0.0</td>\n",
       "      <td>680201.0</td>\n",
       "    </tr>\n",
       "    <tr>\n",
       "      <th>...</th>\n",
       "      <td>...</td>\n",
       "      <td>...</td>\n",
       "      <td>...</td>\n",
       "      <td>...</td>\n",
       "      <td>...</td>\n",
       "      <td>...</td>\n",
       "      <td>...</td>\n",
       "      <td>...</td>\n",
       "      <td>...</td>\n",
       "    </tr>\n",
       "    <tr>\n",
       "      <th>89</th>\n",
       "      <td>2017</td>\n",
       "      <td>09</td>\n",
       "      <td>117843.0</td>\n",
       "      <td>267106.0</td>\n",
       "      <td>838393.0</td>\n",
       "      <td>259454.0</td>\n",
       "      <td>2225836.0</td>\n",
       "      <td>125466.0</td>\n",
       "      <td>1159574.0</td>\n",
       "    </tr>\n",
       "    <tr>\n",
       "      <th>90</th>\n",
       "      <td>2017</td>\n",
       "      <td>10</td>\n",
       "      <td>156121.0</td>\n",
       "      <td>241056.0</td>\n",
       "      <td>601337.0</td>\n",
       "      <td>228460.0</td>\n",
       "      <td>2076023.0</td>\n",
       "      <td>105184.0</td>\n",
       "      <td>991351.0</td>\n",
       "    </tr>\n",
       "    <tr>\n",
       "      <th>91</th>\n",
       "      <td>2017</td>\n",
       "      <td>11</td>\n",
       "      <td>160756.0</td>\n",
       "      <td>230921.0</td>\n",
       "      <td>661893.0</td>\n",
       "      <td>293635.0</td>\n",
       "      <td>1375899.0</td>\n",
       "      <td>49857.0</td>\n",
       "      <td>841107.0</td>\n",
       "    </tr>\n",
       "    <tr>\n",
       "      <th>92</th>\n",
       "      <td>2017</td>\n",
       "      <td>12</td>\n",
       "      <td>177256.0</td>\n",
       "      <td>248422.0</td>\n",
       "      <td>690448.0</td>\n",
       "      <td>321602.0</td>\n",
       "      <td>1392400.0</td>\n",
       "      <td>50210.0</td>\n",
       "      <td>520035.0</td>\n",
       "    </tr>\n",
       "    <tr>\n",
       "      <th>93</th>\n",
       "      <td>2018</td>\n",
       "      <td>01</td>\n",
       "      <td>83733.0</td>\n",
       "      <td>124943.0</td>\n",
       "      <td>361737.0</td>\n",
       "      <td>143817.0</td>\n",
       "      <td>581836.0</td>\n",
       "      <td>21450.0</td>\n",
       "      <td>274922.0</td>\n",
       "    </tr>\n",
       "  </tbody>\n",
       "</table>\n",
       "<p>94 rows × 9 columns</p>\n",
       "</div>"
      ],
      "text/plain": [
       "    YEAR MONTH    BIOGAS   BIOMASS  GEOTHERMAL  SMALL HYDRO      SOLAR  \\\n",
       "0   2010    04   44622.0   75933.0    277881.0      77812.0    27307.0   \n",
       "1   2010    05  117271.0  168901.0    778631.0     263391.0   101640.0   \n",
       "2   2010    06  120467.0  246372.0    751765.0     296879.0   131065.0   \n",
       "3   2010    07  122346.0  304649.0    756300.0     274086.0   130052.0   \n",
       "4   2010    08  120080.0  276269.0    734931.0     285446.0   118890.0   \n",
       "..   ...   ...       ...       ...         ...          ...        ...   \n",
       "89  2017    09  117843.0  267106.0    838393.0     259454.0  2225836.0   \n",
       "90  2017    10  156121.0  241056.0    601337.0     228460.0  2076023.0   \n",
       "91  2017    11  160756.0  230921.0    661893.0     293635.0  1375899.0   \n",
       "92  2017    12  177256.0  248422.0    690448.0     321602.0  1392400.0   \n",
       "93  2018    01   83733.0  124943.0    361737.0     143817.0   581836.0   \n",
       "\n",
       "    SOLAR THERMAL  WIND TOTAL  \n",
       "0             0.0    208245.0  \n",
       "1             0.0    665327.0  \n",
       "2             0.0    805400.0  \n",
       "3             0.0    842461.0  \n",
       "4             0.0    680201.0  \n",
       "..            ...         ...  \n",
       "89       125466.0   1159574.0  \n",
       "90       105184.0    991351.0  \n",
       "91        49857.0    841107.0  \n",
       "92        50210.0    520035.0  \n",
       "93        21450.0    274922.0  \n",
       "\n",
       "[94 rows x 9 columns]"
      ]
     },
     "execution_count": 703,
     "metadata": {},
     "output_type": "execute_result"
    }
   ],
   "source": [
    "#... monthly_totals\n",
    "monthly_totals = energy_with_time.groupby(['YEAR','MONTH']).sum().reset_index()\n",
    "monthly_totals"
   ]
  },
  {
   "cell_type": "code",
   "execution_count": 704,
   "metadata": {},
   "outputs": [
    {
     "name": "stdout",
     "output_type": "stream",
     "text": [
      "~~~~~~~~~~~~~~~~~~~~~~~~~~~~~~~~~~~~~~~~~~~~~~~~~~~~~~~~~~~~~~~~~~~~~\n",
      "Running tests\n",
      "\n",
      "---------------------------------------------------------------------\n",
      "Test summary\n",
      "    Passed: 1\n",
      "    Failed: 0\n",
      "[ooooooooook] 100.0% passed\n",
      "\n"
     ]
    }
   ],
   "source": [
    "_ = ok.grade('q4_6')"
   ]
  },
  {
   "cell_type": "markdown",
   "metadata": {},
   "source": [
    "**Question 4.7.** What is the difference between the total solar energy and total wind energy produced, for each month? (diff = solar - wind). Make a plot across all months. (You should just plot it so you can see a trend, do not worry about the title or the axis labels)"
   ]
  },
  {
   "cell_type": "code",
   "execution_count": 713,
   "metadata": {},
   "outputs": [
    {
     "data": {
      "text/html": [
       "<div>\n",
       "<style scoped>\n",
       "    .dataframe tbody tr th:only-of-type {\n",
       "        vertical-align: middle;\n",
       "    }\n",
       "\n",
       "    .dataframe tbody tr th {\n",
       "        vertical-align: top;\n",
       "    }\n",
       "\n",
       "    .dataframe thead th {\n",
       "        text-align: right;\n",
       "    }\n",
       "</style>\n",
       "<table border=\"1\" class=\"dataframe\">\n",
       "  <thead>\n",
       "    <tr style=\"text-align: right;\">\n",
       "      <th></th>\n",
       "      <th>YEAR</th>\n",
       "      <th>MONTH</th>\n",
       "      <th>BIOGAS</th>\n",
       "      <th>BIOMASS</th>\n",
       "      <th>GEOTHERMAL</th>\n",
       "      <th>SMALL HYDRO</th>\n",
       "      <th>SOLAR</th>\n",
       "      <th>SOLAR THERMAL</th>\n",
       "      <th>WIND TOTAL</th>\n",
       "      <th>DIFFERENCE</th>\n",
       "    </tr>\n",
       "  </thead>\n",
       "  <tbody>\n",
       "    <tr>\n",
       "      <th>0</th>\n",
       "      <td>2010</td>\n",
       "      <td>04</td>\n",
       "      <td>44622.0</td>\n",
       "      <td>75933.0</td>\n",
       "      <td>277881.0</td>\n",
       "      <td>77812.0</td>\n",
       "      <td>27307.0</td>\n",
       "      <td>0.0</td>\n",
       "      <td>208245.0</td>\n",
       "      <td>-180938.0</td>\n",
       "    </tr>\n",
       "    <tr>\n",
       "      <th>1</th>\n",
       "      <td>2010</td>\n",
       "      <td>05</td>\n",
       "      <td>117271.0</td>\n",
       "      <td>168901.0</td>\n",
       "      <td>778631.0</td>\n",
       "      <td>263391.0</td>\n",
       "      <td>101640.0</td>\n",
       "      <td>0.0</td>\n",
       "      <td>665327.0</td>\n",
       "      <td>-563687.0</td>\n",
       "    </tr>\n",
       "    <tr>\n",
       "      <th>2</th>\n",
       "      <td>2010</td>\n",
       "      <td>06</td>\n",
       "      <td>120467.0</td>\n",
       "      <td>246372.0</td>\n",
       "      <td>751765.0</td>\n",
       "      <td>296879.0</td>\n",
       "      <td>131065.0</td>\n",
       "      <td>0.0</td>\n",
       "      <td>805400.0</td>\n",
       "      <td>-674335.0</td>\n",
       "    </tr>\n",
       "    <tr>\n",
       "      <th>3</th>\n",
       "      <td>2010</td>\n",
       "      <td>07</td>\n",
       "      <td>122346.0</td>\n",
       "      <td>304649.0</td>\n",
       "      <td>756300.0</td>\n",
       "      <td>274086.0</td>\n",
       "      <td>130052.0</td>\n",
       "      <td>0.0</td>\n",
       "      <td>842461.0</td>\n",
       "      <td>-712409.0</td>\n",
       "    </tr>\n",
       "    <tr>\n",
       "      <th>4</th>\n",
       "      <td>2010</td>\n",
       "      <td>08</td>\n",
       "      <td>120080.0</td>\n",
       "      <td>276269.0</td>\n",
       "      <td>734931.0</td>\n",
       "      <td>285446.0</td>\n",
       "      <td>118890.0</td>\n",
       "      <td>0.0</td>\n",
       "      <td>680201.0</td>\n",
       "      <td>-561311.0</td>\n",
       "    </tr>\n",
       "    <tr>\n",
       "      <th>...</th>\n",
       "      <td>...</td>\n",
       "      <td>...</td>\n",
       "      <td>...</td>\n",
       "      <td>...</td>\n",
       "      <td>...</td>\n",
       "      <td>...</td>\n",
       "      <td>...</td>\n",
       "      <td>...</td>\n",
       "      <td>...</td>\n",
       "      <td>...</td>\n",
       "    </tr>\n",
       "    <tr>\n",
       "      <th>89</th>\n",
       "      <td>2017</td>\n",
       "      <td>09</td>\n",
       "      <td>117843.0</td>\n",
       "      <td>267106.0</td>\n",
       "      <td>838393.0</td>\n",
       "      <td>259454.0</td>\n",
       "      <td>2225836.0</td>\n",
       "      <td>125466.0</td>\n",
       "      <td>1159574.0</td>\n",
       "      <td>1066262.0</td>\n",
       "    </tr>\n",
       "    <tr>\n",
       "      <th>90</th>\n",
       "      <td>2017</td>\n",
       "      <td>10</td>\n",
       "      <td>156121.0</td>\n",
       "      <td>241056.0</td>\n",
       "      <td>601337.0</td>\n",
       "      <td>228460.0</td>\n",
       "      <td>2076023.0</td>\n",
       "      <td>105184.0</td>\n",
       "      <td>991351.0</td>\n",
       "      <td>1084672.0</td>\n",
       "    </tr>\n",
       "    <tr>\n",
       "      <th>91</th>\n",
       "      <td>2017</td>\n",
       "      <td>11</td>\n",
       "      <td>160756.0</td>\n",
       "      <td>230921.0</td>\n",
       "      <td>661893.0</td>\n",
       "      <td>293635.0</td>\n",
       "      <td>1375899.0</td>\n",
       "      <td>49857.0</td>\n",
       "      <td>841107.0</td>\n",
       "      <td>534792.0</td>\n",
       "    </tr>\n",
       "    <tr>\n",
       "      <th>92</th>\n",
       "      <td>2017</td>\n",
       "      <td>12</td>\n",
       "      <td>177256.0</td>\n",
       "      <td>248422.0</td>\n",
       "      <td>690448.0</td>\n",
       "      <td>321602.0</td>\n",
       "      <td>1392400.0</td>\n",
       "      <td>50210.0</td>\n",
       "      <td>520035.0</td>\n",
       "      <td>872365.0</td>\n",
       "    </tr>\n",
       "    <tr>\n",
       "      <th>93</th>\n",
       "      <td>2018</td>\n",
       "      <td>01</td>\n",
       "      <td>83733.0</td>\n",
       "      <td>124943.0</td>\n",
       "      <td>361737.0</td>\n",
       "      <td>143817.0</td>\n",
       "      <td>581836.0</td>\n",
       "      <td>21450.0</td>\n",
       "      <td>274922.0</td>\n",
       "      <td>306914.0</td>\n",
       "    </tr>\n",
       "  </tbody>\n",
       "</table>\n",
       "<p>94 rows × 10 columns</p>\n",
       "</div>"
      ],
      "text/plain": [
       "    YEAR MONTH    BIOGAS   BIOMASS  GEOTHERMAL  SMALL HYDRO      SOLAR  \\\n",
       "0   2010    04   44622.0   75933.0    277881.0      77812.0    27307.0   \n",
       "1   2010    05  117271.0  168901.0    778631.0     263391.0   101640.0   \n",
       "2   2010    06  120467.0  246372.0    751765.0     296879.0   131065.0   \n",
       "3   2010    07  122346.0  304649.0    756300.0     274086.0   130052.0   \n",
       "4   2010    08  120080.0  276269.0    734931.0     285446.0   118890.0   \n",
       "..   ...   ...       ...       ...         ...          ...        ...   \n",
       "89  2017    09  117843.0  267106.0    838393.0     259454.0  2225836.0   \n",
       "90  2017    10  156121.0  241056.0    601337.0     228460.0  2076023.0   \n",
       "91  2017    11  160756.0  230921.0    661893.0     293635.0  1375899.0   \n",
       "92  2017    12  177256.0  248422.0    690448.0     321602.0  1392400.0   \n",
       "93  2018    01   83733.0  124943.0    361737.0     143817.0   581836.0   \n",
       "\n",
       "    SOLAR THERMAL  WIND TOTAL  DIFFERENCE  \n",
       "0             0.0    208245.0   -180938.0  \n",
       "1             0.0    665327.0   -563687.0  \n",
       "2             0.0    805400.0   -674335.0  \n",
       "3             0.0    842461.0   -712409.0  \n",
       "4             0.0    680201.0   -561311.0  \n",
       "..            ...         ...         ...  \n",
       "89       125466.0   1159574.0   1066262.0  \n",
       "90       105184.0    991351.0   1084672.0  \n",
       "91        49857.0    841107.0    534792.0  \n",
       "92        50210.0    520035.0    872365.0  \n",
       "93        21450.0    274922.0    306914.0  \n",
       "\n",
       "[94 rows x 10 columns]"
      ]
     },
     "execution_count": 713,
     "metadata": {},
     "output_type": "execute_result"
    }
   ],
   "source": [
    "diff = monthly_totals.get('SOLAR') - monthly_totals.get('WIND TOTAL')\n",
    "diff\n",
    "table_with_diff = monthly_totals.assign(DIFFERENCE=diff)\n",
    "table_with_diff"
   ]
  },
  {
   "cell_type": "code",
   "execution_count": 714,
   "metadata": {},
   "outputs": [
    {
     "data": {
      "text/plain": [
       "<matplotlib.axes._subplots.AxesSubplot at 0x7f65fd935048>"
      ]
     },
     "execution_count": 714,
     "metadata": {},
     "output_type": "execute_result"
    },
    {
     "data": {
      "image/png": "[encoded data removed]",
      "text/plain": [
       "<Figure size 432x288 with 1 Axes>"
      ]
     },
     "metadata": {},
     "output_type": "display_data"
    }
   ],
   "source": [
    "table_with_diff.plot(y='DIFFERENCE')"
   ]
  },
  {
   "cell_type": "markdown",
   "metadata": {},
   "source": [
    "**Question 4.8.** Create a table called `hourly_averages_july_2016` which contains the average output of every energy source by hour in the month of July 2016. Your table should not contain DAY, MONTH, or YEAR columns.\n",
    "\n",
    "Your answer should look like this (The numbers are intentionally left in the table so that you can check your answer):\n",
    "\n",
    "<img width=70% src=\"./q48_output.png\"/>"
   ]
  },
  {
   "cell_type": "code",
   "execution_count": 740,
   "metadata": {},
   "outputs": [
    {
     "data": {
      "text/html": [
       "<div>\n",
       "<style scoped>\n",
       "    .dataframe tbody tr th:only-of-type {\n",
       "        vertical-align: middle;\n",
       "    }\n",
       "\n",
       "    .dataframe tbody tr th {\n",
       "        vertical-align: top;\n",
       "    }\n",
       "\n",
       "    .dataframe thead th {\n",
       "        text-align: right;\n",
       "    }\n",
       "</style>\n",
       "<table border=\"1\" class=\"dataframe\">\n",
       "  <thead>\n",
       "    <tr style=\"text-align: right;\">\n",
       "      <th></th>\n",
       "      <th>BIOGAS</th>\n",
       "      <th>BIOMASS</th>\n",
       "      <th>GEOTHERMAL</th>\n",
       "      <th>SMALL HYDRO</th>\n",
       "      <th>SOLAR</th>\n",
       "      <th>SOLAR THERMAL</th>\n",
       "      <th>WIND TOTAL</th>\n",
       "    </tr>\n",
       "    <tr>\n",
       "      <th>HOUR</th>\n",
       "      <th></th>\n",
       "      <th></th>\n",
       "      <th></th>\n",
       "      <th></th>\n",
       "      <th></th>\n",
       "      <th></th>\n",
       "      <th></th>\n",
       "    </tr>\n",
       "  </thead>\n",
       "  <tbody>\n",
       "    <tr>\n",
       "      <th>00</th>\n",
       "      <td>185.193548</td>\n",
       "      <td>226.322581</td>\n",
       "      <td>948.225806</td>\n",
       "      <td>320.129032</td>\n",
       "      <td>0.000000</td>\n",
       "      <td>0.000000</td>\n",
       "      <td>2865.225806</td>\n",
       "    </tr>\n",
       "    <tr>\n",
       "      <th>01</th>\n",
       "      <td>187.806452</td>\n",
       "      <td>225.290323</td>\n",
       "      <td>948.838710</td>\n",
       "      <td>311.483871</td>\n",
       "      <td>0.000000</td>\n",
       "      <td>0.000000</td>\n",
       "      <td>3065.548387</td>\n",
       "    </tr>\n",
       "    <tr>\n",
       "      <th>02</th>\n",
       "      <td>188.064516</td>\n",
       "      <td>226.387097</td>\n",
       "      <td>948.548387</td>\n",
       "      <td>302.419355</td>\n",
       "      <td>0.000000</td>\n",
       "      <td>0.000000</td>\n",
       "      <td>2982.419355</td>\n",
       "    </tr>\n",
       "    <tr>\n",
       "      <th>03</th>\n",
       "      <td>188.451613</td>\n",
       "      <td>227.225806</td>\n",
       "      <td>949.322581</td>\n",
       "      <td>300.193548</td>\n",
       "      <td>0.000000</td>\n",
       "      <td>0.000000</td>\n",
       "      <td>2821.322581</td>\n",
       "    </tr>\n",
       "    <tr>\n",
       "      <th>04</th>\n",
       "      <td>188.774194</td>\n",
       "      <td>232.612903</td>\n",
       "      <td>949.161290</td>\n",
       "      <td>300.096774</td>\n",
       "      <td>2.677419</td>\n",
       "      <td>0.000000</td>\n",
       "      <td>2597.806452</td>\n",
       "    </tr>\n",
       "    <tr>\n",
       "      <th>...</th>\n",
       "      <td>...</td>\n",
       "      <td>...</td>\n",
       "      <td>...</td>\n",
       "      <td>...</td>\n",
       "      <td>...</td>\n",
       "      <td>...</td>\n",
       "      <td>...</td>\n",
       "    </tr>\n",
       "    <tr>\n",
       "      <th>19</th>\n",
       "      <td>187.387097</td>\n",
       "      <td>249.774194</td>\n",
       "      <td>944.129032</td>\n",
       "      <td>485.096774</td>\n",
       "      <td>614.419355</td>\n",
       "      <td>62.258065</td>\n",
       "      <td>3035.870968</td>\n",
       "    </tr>\n",
       "    <tr>\n",
       "      <th>20</th>\n",
       "      <td>187.806452</td>\n",
       "      <td>249.903226</td>\n",
       "      <td>945.193548</td>\n",
       "      <td>461.516129</td>\n",
       "      <td>0.000000</td>\n",
       "      <td>2.806452</td>\n",
       "      <td>3113.322581</td>\n",
       "    </tr>\n",
       "    <tr>\n",
       "      <th>21</th>\n",
       "      <td>188.290323</td>\n",
       "      <td>246.903226</td>\n",
       "      <td>946.483871</td>\n",
       "      <td>402.709677</td>\n",
       "      <td>0.000000</td>\n",
       "      <td>0.000000</td>\n",
       "      <td>3159.322581</td>\n",
       "    </tr>\n",
       "    <tr>\n",
       "      <th>22</th>\n",
       "      <td>187.774194</td>\n",
       "      <td>234.161290</td>\n",
       "      <td>946.548387</td>\n",
       "      <td>344.548387</td>\n",
       "      <td>0.000000</td>\n",
       "      <td>0.000000</td>\n",
       "      <td>3127.483871</td>\n",
       "    </tr>\n",
       "    <tr>\n",
       "      <th>23</th>\n",
       "      <td>188.258065</td>\n",
       "      <td>227.838710</td>\n",
       "      <td>947.806452</td>\n",
       "      <td>326.677419</td>\n",
       "      <td>0.000000</td>\n",
       "      <td>0.000000</td>\n",
       "      <td>3111.161290</td>\n",
       "    </tr>\n",
       "  </tbody>\n",
       "</table>\n",
       "<p>24 rows × 7 columns</p>\n",
       "</div>"
      ],
      "text/plain": [
       "          BIOGAS     BIOMASS  GEOTHERMAL  SMALL HYDRO       SOLAR  \\\n",
       "HOUR                                                                \n",
       "00    185.193548  226.322581  948.225806   320.129032    0.000000   \n",
       "01    187.806452  225.290323  948.838710   311.483871    0.000000   \n",
       "02    188.064516  226.387097  948.548387   302.419355    0.000000   \n",
       "03    188.451613  227.225806  949.322581   300.193548    0.000000   \n",
       "04    188.774194  232.612903  949.161290   300.096774    2.677419   \n",
       "...          ...         ...         ...          ...         ...   \n",
       "19    187.387097  249.774194  944.129032   485.096774  614.419355   \n",
       "20    187.806452  249.903226  945.193548   461.516129    0.000000   \n",
       "21    188.290323  246.903226  946.483871   402.709677    0.000000   \n",
       "22    187.774194  234.161290  946.548387   344.548387    0.000000   \n",
       "23    188.258065  227.838710  947.806452   326.677419    0.000000   \n",
       "\n",
       "      SOLAR THERMAL   WIND TOTAL  \n",
       "HOUR                              \n",
       "00         0.000000  2865.225806  \n",
       "01         0.000000  3065.548387  \n",
       "02         0.000000  2982.419355  \n",
       "03         0.000000  2821.322581  \n",
       "04         0.000000  2597.806452  \n",
       "...             ...          ...  \n",
       "19        62.258065  3035.870968  \n",
       "20         2.806452  3113.322581  \n",
       "21         0.000000  3159.322581  \n",
       "22         0.000000  3127.483871  \n",
       "23         0.000000  3111.161290  \n",
       "\n",
       "[24 rows x 7 columns]"
      ]
     },
     "execution_count": 740,
     "metadata": {},
     "output_type": "execute_result"
    }
   ],
   "source": [
    "a=energy_with_time[energy_with_time.get('MONTH') == '07']\n",
    "b=a[a.get('YEAR') == '2016']\n",
    "c=b.groupby('HOUR').mean()\n",
    "c"
   ]
  },
  {
   "cell_type": "code",
   "execution_count": 741,
   "metadata": {},
   "outputs": [
    {
     "data": {
      "text/html": [
       "<div>\n",
       "<style scoped>\n",
       "    .dataframe tbody tr th:only-of-type {\n",
       "        vertical-align: middle;\n",
       "    }\n",
       "\n",
       "    .dataframe tbody tr th {\n",
       "        vertical-align: top;\n",
       "    }\n",
       "\n",
       "    .dataframe thead th {\n",
       "        text-align: right;\n",
       "    }\n",
       "</style>\n",
       "<table border=\"1\" class=\"dataframe\">\n",
       "  <thead>\n",
       "    <tr style=\"text-align: right;\">\n",
       "      <th></th>\n",
       "      <th>BIOGAS</th>\n",
       "      <th>BIOMASS</th>\n",
       "      <th>GEOTHERMAL</th>\n",
       "      <th>SMALL HYDRO</th>\n",
       "      <th>SOLAR</th>\n",
       "      <th>SOLAR THERMAL</th>\n",
       "      <th>WIND TOTAL</th>\n",
       "    </tr>\n",
       "    <tr>\n",
       "      <th>HOUR</th>\n",
       "      <th></th>\n",
       "      <th></th>\n",
       "      <th></th>\n",
       "      <th></th>\n",
       "      <th></th>\n",
       "      <th></th>\n",
       "      <th></th>\n",
       "    </tr>\n",
       "  </thead>\n",
       "  <tbody>\n",
       "    <tr>\n",
       "      <th>00</th>\n",
       "      <td>185.193548</td>\n",
       "      <td>226.322581</td>\n",
       "      <td>948.225806</td>\n",
       "      <td>320.129032</td>\n",
       "      <td>0.000000</td>\n",
       "      <td>0.000000</td>\n",
       "      <td>2865.225806</td>\n",
       "    </tr>\n",
       "    <tr>\n",
       "      <th>01</th>\n",
       "      <td>187.806452</td>\n",
       "      <td>225.290323</td>\n",
       "      <td>948.838710</td>\n",
       "      <td>311.483871</td>\n",
       "      <td>0.000000</td>\n",
       "      <td>0.000000</td>\n",
       "      <td>3065.548387</td>\n",
       "    </tr>\n",
       "    <tr>\n",
       "      <th>02</th>\n",
       "      <td>188.064516</td>\n",
       "      <td>226.387097</td>\n",
       "      <td>948.548387</td>\n",
       "      <td>302.419355</td>\n",
       "      <td>0.000000</td>\n",
       "      <td>0.000000</td>\n",
       "      <td>2982.419355</td>\n",
       "    </tr>\n",
       "    <tr>\n",
       "      <th>03</th>\n",
       "      <td>188.451613</td>\n",
       "      <td>227.225806</td>\n",
       "      <td>949.322581</td>\n",
       "      <td>300.193548</td>\n",
       "      <td>0.000000</td>\n",
       "      <td>0.000000</td>\n",
       "      <td>2821.322581</td>\n",
       "    </tr>\n",
       "    <tr>\n",
       "      <th>04</th>\n",
       "      <td>188.774194</td>\n",
       "      <td>232.612903</td>\n",
       "      <td>949.161290</td>\n",
       "      <td>300.096774</td>\n",
       "      <td>2.677419</td>\n",
       "      <td>0.000000</td>\n",
       "      <td>2597.806452</td>\n",
       "    </tr>\n",
       "    <tr>\n",
       "      <th>...</th>\n",
       "      <td>...</td>\n",
       "      <td>...</td>\n",
       "      <td>...</td>\n",
       "      <td>...</td>\n",
       "      <td>...</td>\n",
       "      <td>...</td>\n",
       "      <td>...</td>\n",
       "    </tr>\n",
       "    <tr>\n",
       "      <th>19</th>\n",
       "      <td>187.387097</td>\n",
       "      <td>249.774194</td>\n",
       "      <td>944.129032</td>\n",
       "      <td>485.096774</td>\n",
       "      <td>614.419355</td>\n",
       "      <td>62.258065</td>\n",
       "      <td>3035.870968</td>\n",
       "    </tr>\n",
       "    <tr>\n",
       "      <th>20</th>\n",
       "      <td>187.806452</td>\n",
       "      <td>249.903226</td>\n",
       "      <td>945.193548</td>\n",
       "      <td>461.516129</td>\n",
       "      <td>0.000000</td>\n",
       "      <td>2.806452</td>\n",
       "      <td>3113.322581</td>\n",
       "    </tr>\n",
       "    <tr>\n",
       "      <th>21</th>\n",
       "      <td>188.290323</td>\n",
       "      <td>246.903226</td>\n",
       "      <td>946.483871</td>\n",
       "      <td>402.709677</td>\n",
       "      <td>0.000000</td>\n",
       "      <td>0.000000</td>\n",
       "      <td>3159.322581</td>\n",
       "    </tr>\n",
       "    <tr>\n",
       "      <th>22</th>\n",
       "      <td>187.774194</td>\n",
       "      <td>234.161290</td>\n",
       "      <td>946.548387</td>\n",
       "      <td>344.548387</td>\n",
       "      <td>0.000000</td>\n",
       "      <td>0.000000</td>\n",
       "      <td>3127.483871</td>\n",
       "    </tr>\n",
       "    <tr>\n",
       "      <th>23</th>\n",
       "      <td>188.258065</td>\n",
       "      <td>227.838710</td>\n",
       "      <td>947.806452</td>\n",
       "      <td>326.677419</td>\n",
       "      <td>0.000000</td>\n",
       "      <td>0.000000</td>\n",
       "      <td>3111.161290</td>\n",
       "    </tr>\n",
       "  </tbody>\n",
       "</table>\n",
       "<p>24 rows × 7 columns</p>\n",
       "</div>"
      ],
      "text/plain": [
       "          BIOGAS     BIOMASS  GEOTHERMAL  SMALL HYDRO       SOLAR  \\\n",
       "HOUR                                                                \n",
       "00    185.193548  226.322581  948.225806   320.129032    0.000000   \n",
       "01    187.806452  225.290323  948.838710   311.483871    0.000000   \n",
       "02    188.064516  226.387097  948.548387   302.419355    0.000000   \n",
       "03    188.451613  227.225806  949.322581   300.193548    0.000000   \n",
       "04    188.774194  232.612903  949.161290   300.096774    2.677419   \n",
       "...          ...         ...         ...          ...         ...   \n",
       "19    187.387097  249.774194  944.129032   485.096774  614.419355   \n",
       "20    187.806452  249.903226  945.193548   461.516129    0.000000   \n",
       "21    188.290323  246.903226  946.483871   402.709677    0.000000   \n",
       "22    187.774194  234.161290  946.548387   344.548387    0.000000   \n",
       "23    188.258065  227.838710  947.806452   326.677419    0.000000   \n",
       "\n",
       "      SOLAR THERMAL   WIND TOTAL  \n",
       "HOUR                              \n",
       "00         0.000000  2865.225806  \n",
       "01         0.000000  3065.548387  \n",
       "02         0.000000  2982.419355  \n",
       "03         0.000000  2821.322581  \n",
       "04         0.000000  2597.806452  \n",
       "...             ...          ...  \n",
       "19        62.258065  3035.870968  \n",
       "20         2.806452  3113.322581  \n",
       "21         0.000000  3159.322581  \n",
       "22         0.000000  3127.483871  \n",
       "23         0.000000  3111.161290  \n",
       "\n",
       "[24 rows x 7 columns]"
      ]
     },
     "execution_count": 741,
     "metadata": {},
     "output_type": "execute_result"
    }
   ],
   "source": [
    "#... hourly_averages_july_2016\n",
    "hourly_averages_july_2016 = c\n",
    "hourly_averages_july_2016"
   ]
  },
  {
   "cell_type": "code",
   "execution_count": 840,
   "metadata": {},
   "outputs": [
    {
     "name": "stdout",
     "output_type": "stream",
     "text": [
      "~~~~~~~~~~~~~~~~~~~~~~~~~~~~~~~~~~~~~~~~~~~~~~~~~~~~~~~~~~~~~~~~~~~~~\n",
      "Running tests\n",
      "\n",
      "---------------------------------------------------------------------\n",
      "Test summary\n",
      "    Passed: 1\n",
      "    Failed: 0\n",
      "[ooooooooook] 100.0% passed\n",
      "\n"
     ]
    }
   ],
   "source": [
    "_ = ok.grade('q4_8')"
   ]
  },
  {
   "cell_type": "markdown",
   "metadata": {},
   "source": [
    "**Question 4.9.** Plot the hourly average production of solar, wind, and geothermal in July 2016 in a single plot."
   ]
  },
  {
   "cell_type": "code",
   "execution_count": 842,
   "metadata": {},
   "outputs": [
    {
     "data": {
      "image/png": "[encoded data removed]",
      "text/plain": [
       "<Figure size 432x288 with 1 Axes>"
      ]
     },
     "metadata": {},
     "output_type": "display_data"
    }
   ],
   "source": [
    "a=hourly_averages_july_2016.drop(columns=(['BIOGAS','BIOMASS','SMALL HYDRO','SOLAR THERMAL']))\n",
    "b=a.plot()"
   ]
  },
  {
   "cell_type": "markdown",
   "metadata": {},
   "source": [
    "You should see that solar production is zero at night, but reaches a peak in the afternoon. On the other hand, wind output is highest at night."
   ]
  },
  {
   "cell_type": "markdown",
   "metadata": {},
   "source": [
    "# Finish Line\n",
    "\n",
    "Congratulations, you're done with the project!  Be sure to\n",
    "\n",
    "- **Verify that all tests pass** (the next cell has a shortcut for that), \n",
    "- **Save and Checkpoint** from the `File` menu,\n",
    "- **Run the last cell to submit your work**\n",
    "\n",
    "### You *do not* need to submit a notebook to Gradescope for this project!"
   ]
  },
  {
   "cell_type": "code",
   "execution_count": 843,
   "metadata": {
    "scrolled": false
   },
   "outputs": [
    {
     "name": "stdout",
     "output_type": "stream",
     "text": [
      "~~~~~~~~~~~~~~~~~~~~~~~~~~~~~~~~~~~~~~~~~~~~~~~~~~~~~~~~~~~~~~~~~~~~~\n",
      "Running tests\n",
      "\n",
      "---------------------------------------------------------------------\n",
      "Test summary\n",
      "    Passed: 1\n",
      "    Failed: 0\n",
      "[ooooooooook] 100.0% passed\n",
      "\n",
      "~~~~~~~~~~~~~~~~~~~~~~~~~~~~~~~~~~~~~~~~~~~~~~~~~~~~~~~~~~~~~~~~~~~~~\n",
      "Running tests\n",
      "\n",
      "---------------------------------------------------------------------\n",
      "Test summary\n",
      "    Passed: 1\n",
      "    Failed: 0\n",
      "[ooooooooook] 100.0% passed\n",
      "\n",
      "~~~~~~~~~~~~~~~~~~~~~~~~~~~~~~~~~~~~~~~~~~~~~~~~~~~~~~~~~~~~~~~~~~~~~\n",
      "Running tests\n",
      "\n",
      "---------------------------------------------------------------------\n",
      "Test summary\n",
      "    Passed: 1\n",
      "    Failed: 0\n",
      "[ooooooooook] 100.0% passed\n",
      "\n",
      "~~~~~~~~~~~~~~~~~~~~~~~~~~~~~~~~~~~~~~~~~~~~~~~~~~~~~~~~~~~~~~~~~~~~~\n",
      "Running tests\n",
      "\n",
      "---------------------------------------------------------------------\n",
      "Test summary\n",
      "    Passed: 1\n",
      "    Failed: 0\n",
      "[ooooooooook] 100.0% passed\n",
      "\n",
      "~~~~~~~~~~~~~~~~~~~~~~~~~~~~~~~~~~~~~~~~~~~~~~~~~~~~~~~~~~~~~~~~~~~~~\n",
      "Running tests\n",
      "\n",
      "---------------------------------------------------------------------\n",
      "Test summary\n",
      "    Passed: 1\n",
      "    Failed: 0\n",
      "[ooooooooook] 100.0% passed\n",
      "\n",
      "~~~~~~~~~~~~~~~~~~~~~~~~~~~~~~~~~~~~~~~~~~~~~~~~~~~~~~~~~~~~~~~~~~~~~\n",
      "Running tests\n",
      "\n",
      "---------------------------------------------------------------------\n",
      "Test summary\n",
      "    Passed: 1\n",
      "    Failed: 0\n",
      "[ooooooooook] 100.0% passed\n",
      "\n",
      "~~~~~~~~~~~~~~~~~~~~~~~~~~~~~~~~~~~~~~~~~~~~~~~~~~~~~~~~~~~~~~~~~~~~~\n",
      "Running tests\n",
      "\n",
      "---------------------------------------------------------------------\n",
      "Test summary\n",
      "    Passed: 1\n",
      "    Failed: 0\n",
      "[ooooooooook] 100.0% passed\n",
      "\n",
      "~~~~~~~~~~~~~~~~~~~~~~~~~~~~~~~~~~~~~~~~~~~~~~~~~~~~~~~~~~~~~~~~~~~~~\n",
      "Running tests\n",
      "\n",
      "---------------------------------------------------------------------\n",
      "Test summary\n",
      "    Passed: 1\n",
      "    Failed: 0\n",
      "[ooooooooook] 100.0% passed\n",
      "\n",
      "~~~~~~~~~~~~~~~~~~~~~~~~~~~~~~~~~~~~~~~~~~~~~~~~~~~~~~~~~~~~~~~~~~~~~\n",
      "Running tests\n",
      "\n",
      "---------------------------------------------------------------------\n",
      "Test summary\n",
      "    Passed: 1\n",
      "    Failed: 0\n",
      "[ooooooooook] 100.0% passed\n",
      "\n",
      "~~~~~~~~~~~~~~~~~~~~~~~~~~~~~~~~~~~~~~~~~~~~~~~~~~~~~~~~~~~~~~~~~~~~~\n",
      "Running tests\n",
      "\n",
      "---------------------------------------------------------------------\n",
      "Test summary\n",
      "    Passed: 1\n",
      "    Failed: 0\n",
      "[ooooooooook] 100.0% passed\n",
      "\n",
      "~~~~~~~~~~~~~~~~~~~~~~~~~~~~~~~~~~~~~~~~~~~~~~~~~~~~~~~~~~~~~~~~~~~~~\n",
      "Running tests\n",
      "\n",
      "---------------------------------------------------------------------\n",
      "Test summary\n",
      "    Passed: 1\n",
      "    Failed: 0\n",
      "[ooooooooook] 100.0% passed\n",
      "\n",
      "~~~~~~~~~~~~~~~~~~~~~~~~~~~~~~~~~~~~~~~~~~~~~~~~~~~~~~~~~~~~~~~~~~~~~\n",
      "Running tests\n",
      "\n",
      "---------------------------------------------------------------------\n",
      "Test summary\n",
      "    Passed: 1\n",
      "    Failed: 0\n",
      "[ooooooooook] 100.0% passed\n",
      "\n",
      "~~~~~~~~~~~~~~~~~~~~~~~~~~~~~~~~~~~~~~~~~~~~~~~~~~~~~~~~~~~~~~~~~~~~~\n",
      "Running tests\n",
      "\n",
      "---------------------------------------------------------------------\n",
      "Test summary\n",
      "    Passed: 1\n",
      "    Failed: 0\n",
      "[ooooooooook] 100.0% passed\n",
      "\n",
      "~~~~~~~~~~~~~~~~~~~~~~~~~~~~~~~~~~~~~~~~~~~~~~~~~~~~~~~~~~~~~~~~~~~~~\n",
      "Running tests\n",
      "\n",
      "---------------------------------------------------------------------\n",
      "Test summary\n",
      "    Passed: 1\n",
      "    Failed: 0\n",
      "[ooooooooook] 100.0% passed\n",
      "\n",
      "~~~~~~~~~~~~~~~~~~~~~~~~~~~~~~~~~~~~~~~~~~~~~~~~~~~~~~~~~~~~~~~~~~~~~\n",
      "Running tests\n",
      "\n",
      "---------------------------------------------------------------------\n",
      "Test summary\n",
      "    Passed: 1\n",
      "    Failed: 0\n",
      "[ooooooooook] 100.0% passed\n",
      "\n",
      "~~~~~~~~~~~~~~~~~~~~~~~~~~~~~~~~~~~~~~~~~~~~~~~~~~~~~~~~~~~~~~~~~~~~~\n",
      "Running tests\n",
      "\n",
      "---------------------------------------------------------------------\n",
      "Test summary\n",
      "    Passed: 1\n",
      "    Failed: 0\n",
      "[ooooooooook] 100.0% passed\n",
      "\n",
      "~~~~~~~~~~~~~~~~~~~~~~~~~~~~~~~~~~~~~~~~~~~~~~~~~~~~~~~~~~~~~~~~~~~~~\n",
      "Running tests\n",
      "\n",
      "---------------------------------------------------------------------\n",
      "Test summary\n",
      "    Passed: 1\n",
      "    Failed: 0\n",
      "[ooooooooook] 100.0% passed\n",
      "\n",
      "~~~~~~~~~~~~~~~~~~~~~~~~~~~~~~~~~~~~~~~~~~~~~~~~~~~~~~~~~~~~~~~~~~~~~\n",
      "Running tests\n",
      "\n",
      "---------------------------------------------------------------------\n",
      "Test summary\n",
      "    Passed: 1\n",
      "    Failed: 0\n",
      "[ooooooooook] 100.0% passed\n",
      "\n",
      "~~~~~~~~~~~~~~~~~~~~~~~~~~~~~~~~~~~~~~~~~~~~~~~~~~~~~~~~~~~~~~~~~~~~~\n",
      "Running tests\n",
      "\n",
      "---------------------------------------------------------------------\n",
      "Test summary\n",
      "    Passed: 1\n",
      "    Failed: 0\n",
      "[ooooooooook] 100.0% passed\n",
      "\n",
      "~~~~~~~~~~~~~~~~~~~~~~~~~~~~~~~~~~~~~~~~~~~~~~~~~~~~~~~~~~~~~~~~~~~~~\n",
      "Running tests\n",
      "\n",
      "---------------------------------------------------------------------\n",
      "Test summary\n",
      "    Passed: 1\n",
      "    Failed: 0\n",
      "[ooooooooook] 100.0% passed\n",
      "\n",
      "~~~~~~~~~~~~~~~~~~~~~~~~~~~~~~~~~~~~~~~~~~~~~~~~~~~~~~~~~~~~~~~~~~~~~\n",
      "Running tests\n",
      "\n",
      "---------------------------------------------------------------------\n",
      "Test summary\n",
      "    Passed: 1\n",
      "    Failed: 0\n",
      "[ooooooooook] 100.0% passed\n",
      "\n",
      "~~~~~~~~~~~~~~~~~~~~~~~~~~~~~~~~~~~~~~~~~~~~~~~~~~~~~~~~~~~~~~~~~~~~~\n",
      "Running tests\n",
      "\n",
      "---------------------------------------------------------------------\n",
      "Test summary\n",
      "    Passed: 1\n",
      "    Failed: 0\n",
      "[ooooooooook] 100.0% passed\n",
      "\n",
      "~~~~~~~~~~~~~~~~~~~~~~~~~~~~~~~~~~~~~~~~~~~~~~~~~~~~~~~~~~~~~~~~~~~~~\n",
      "Running tests\n",
      "\n",
      "---------------------------------------------------------------------\n",
      "Test summary\n",
      "    Passed: 1\n",
      "    Failed: 0\n",
      "[ooooooooook] 100.0% passed\n",
      "\n",
      "~~~~~~~~~~~~~~~~~~~~~~~~~~~~~~~~~~~~~~~~~~~~~~~~~~~~~~~~~~~~~~~~~~~~~\n",
      "Running tests\n",
      "\n",
      "---------------------------------------------------------------------\n",
      "Test summary\n",
      "    Passed: 1\n",
      "    Failed: 0\n",
      "[ooooooooook] 100.0% passed\n",
      "\n",
      "~~~~~~~~~~~~~~~~~~~~~~~~~~~~~~~~~~~~~~~~~~~~~~~~~~~~~~~~~~~~~~~~~~~~~\n",
      "Running tests\n",
      "\n",
      "---------------------------------------------------------------------\n",
      "Test summary\n",
      "    Passed: 1\n",
      "    Failed: 0\n",
      "[ooooooooook] 100.0% passed\n",
      "\n",
      "~~~~~~~~~~~~~~~~~~~~~~~~~~~~~~~~~~~~~~~~~~~~~~~~~~~~~~~~~~~~~~~~~~~~~\n",
      "Running tests\n",
      "\n",
      "---------------------------------------------------------------------\n",
      "Test summary\n",
      "    Passed: 1\n",
      "    Failed: 0\n",
      "[ooooooooook] 100.0% passed\n",
      "\n",
      "~~~~~~~~~~~~~~~~~~~~~~~~~~~~~~~~~~~~~~~~~~~~~~~~~~~~~~~~~~~~~~~~~~~~~\n",
      "Running tests\n",
      "\n",
      "---------------------------------------------------------------------\n",
      "Test summary\n",
      "    Passed: 1\n",
      "    Failed: 0\n",
      "[ooooooooook] 100.0% passed\n",
      "\n",
      "~~~~~~~~~~~~~~~~~~~~~~~~~~~~~~~~~~~~~~~~~~~~~~~~~~~~~~~~~~~~~~~~~~~~~\n",
      "Running tests\n",
      "\n",
      "---------------------------------------------------------------------\n",
      "Test summary\n",
      "    Passed: 1\n",
      "    Failed: 0\n",
      "[ooooooooook] 100.0% passed\n",
      "\n"
     ]
    }
   ],
   "source": [
    "# For your convenience, you can run this cell to run all the tests at once!\n",
    "import os\n",
    "_ = [ok.grade(q[:-3]) for q in os.listdir('tests') if q.startswith('q')]"
   ]
  },
  {
   "cell_type": "code",
   "execution_count": 844,
   "metadata": {},
   "outputs": [
    {
     "data": {
      "application/javascript": [
       "IPython.notebook.save_checkpoint();"
      ],
      "text/plain": [
       "<IPython.core.display.Javascript object>"
      ]
     },
     "metadata": {},
     "output_type": "display_data"
    },
    {
     "data": {
      "application/javascript": [
       "IPython.notebook.save_notebook();"
      ],
      "text/plain": [
       "<IPython.core.display.Javascript object>"
      ]
     },
     "metadata": {},
     "output_type": "display_data"
    },
    {
     "name": "stdout",
     "output_type": "stream",
     "text": [
      "Saving notebook... Saved 'project.ipynb'.\n",
      "Submit... 100% complete\n",
      "Submission successful for user: kjay@ucsd.edu\n",
      "URL: https://okpy.org/ucsd/dsc10/sp20/project01/submissions/x2l1RE\n",
      "\n"
     ]
    }
   ],
   "source": [
    "_ = ok.submit()"
   ]
  },
  {
   "cell_type": "code",
   "execution_count": null,
   "metadata": {},
   "outputs": [],
   "source": []
  }
 ],
 "metadata": {
  "kernelspec": {
   "display_name": "Python 3",
   "language": "python",
   "name": "python3"
  },
  "language_info": {
   "codemirror_mode": {
    "name": "ipython",
    "version": 3
   },
   "file_extension": ".py",
   "mimetype": "text/x-python",
   "name": "python",
   "nbconvert_exporter": "python",
   "pygments_lexer": "ipython3",
   "version": "3.6.7"
  }
 },
 "nbformat": 4,
 "nbformat_minor": 2
}
